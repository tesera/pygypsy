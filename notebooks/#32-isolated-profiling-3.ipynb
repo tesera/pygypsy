{
 "cells": [
  {
   "cell_type": "markdown",
   "metadata": {},
   "source": [
    "# Recap\n",
    "\n",
    "In order of priority/time taken\n",
    "\n",
    "1. basalareaincremementnonspatialaw\n",
    "    - this is actually slow because of the number of times the BAFromZeroToDataAw function is called as shown above\n",
    "    - relaxing the tolerance may help\n",
    "    - indeed the tolerance is 0.01 * some value while the other factor finder functions have 0.1 tolerance i think\n",
    "    - can also use cython for the increment functions\n",
    "2. vectorize merch and gross volume functions\n",
    "    - they require a lot of getting scalars off data frame, which is quite slow. faster to get an array\n",
    "\n",
    "do a profiling run with IO (of reading input data and writing the plot curves to files) in next run\n"
   ]
  },
  {
   "cell_type": "markdown",
   "metadata": {},
   "source": [
    "# Decide on the action"
   ]
  },
  {
   "cell_type": "markdown",
   "metadata": {},
   "source": [
    "- speed up increment functions\n",
    "    - use cython for increment functions\n",
    "    - it turns out this may not help that much. the function is pretty fast, it's called almost 500,000 times on the sample of 300 plots\n",
    "    - reduce the number of times its called maybe by using gradient descent for the optimization?\n",
    "    - relax the tolerance\n",
    "    - gives a context to refactor them as well (into their own module) which would be a welcome change\n",
    "    - the increment functions use numpy functions but operate on scalars, there is no benefit to using numpy functions there\n",
    "- performance-wise, it is not clear that this will pay off so much. vectorizing the volume functions is probably wiser"
   ]
  },
  {
   "cell_type": "markdown",
   "metadata": {},
   "source": [
    "# Characterize what is happening"
   ]
  },
  {
   "cell_type": "code",
   "execution_count": 1,
   "metadata": {
    "collapsed": true
   },
   "outputs": [],
   "source": [
    "import pandas as pd\n",
    "import numpy as np"
   ]
  },
  {
   "cell_type": "markdown",
   "metadata": {},
   "source": [
    "The original gross volume function checks that top height is greater than 0\n",
    "\n",
    "\n",
    "``` python\n",
    "def GrossTotalVolume_Pl(BA_Pl, topHeight_Pl):\n",
    "    Tvol_Pl = 0\n",
    "\n",
    "    if topHeight_Pl > 0:\n",
    "        a1 = 0.194086\n",
    "        a2 = 0.988276\n",
    "        a3 = 0.949346\n",
    "        a4 = -3.39036\n",
    "        Tvol_Pl = a1* (BA_Pl**a2) * (topHeight_Pl **a3) * numpy.exp(1+(a4/((topHeight_Pl**2)+1)))\n",
    "\n",
    "    return Tvol_Pl\n",
    "```\n",
    "\n",
    "This makes it fail if trying to use it on an array:"
   ]
  },
  {
   "cell_type": "code",
   "execution_count": 22,
   "metadata": {
    "collapsed": false,
    "scrolled": false
   },
   "outputs": [
    {
     "ename": "ValueError",
     "evalue": "The truth value of an array with more than one element is ambiguous. Use a.any() or a.all()",
     "output_type": "error",
     "traceback": [
      "\u001b[0;31m---------------------------------------------------------------------------\u001b[0m",
      "\u001b[0;31mValueError\u001b[0m                                Traceback (most recent call last)",
      "\u001b[0;32m<ipython-input-22-10d9c5a07a68>\u001b[0m in \u001b[0;36m<module>\u001b[0;34m()\u001b[0m\n\u001b[1;32m      2\u001b[0m \u001b[0;34m\u001b[0m\u001b[0m\n\u001b[1;32m      3\u001b[0m \u001b[0;34m\u001b[0m\u001b[0m\n\u001b[0;32m----> 4\u001b[0;31m \u001b[0mGrossTotalVolume_Pl\u001b[0m\u001b[0;34m(\u001b[0m\u001b[0mnp\u001b[0m\u001b[0;34m.\u001b[0m\u001b[0mrandom\u001b[0m\u001b[0;34m.\u001b[0m\u001b[0mrandom\u001b[0m\u001b[0;34m(\u001b[0m\u001b[0;36m10\u001b[0m\u001b[0;34m)\u001b[0m \u001b[0;34m*\u001b[0m \u001b[0;36m100\u001b[0m\u001b[0;34m,\u001b[0m \u001b[0mnp\u001b[0m\u001b[0;34m.\u001b[0m\u001b[0mrandom\u001b[0m\u001b[0;34m.\u001b[0m\u001b[0mrandom\u001b[0m\u001b[0;34m(\u001b[0m\u001b[0;36m10\u001b[0m\u001b[0;34m)\u001b[0m \u001b[0;34m*\u001b[0m \u001b[0;36m100\u001b[0m\u001b[0;34m)\u001b[0m\u001b[0;34m\u001b[0m\u001b[0m\n\u001b[0m",
      "\u001b[0;32m/opt/gypsy/gypsy/GYPSYNonSpatial.py\u001b[0m in \u001b[0;36mGrossTotalVolume_Pl\u001b[0;34m(BA_Pl, topHeight_Pl)\u001b[0m\n\u001b[1;32m   1453\u001b[0m     \u001b[0mTvol_Pl\u001b[0m \u001b[0;34m=\u001b[0m \u001b[0;36m0\u001b[0m\u001b[0;34m\u001b[0m\u001b[0m\n\u001b[1;32m   1454\u001b[0m \u001b[0;34m\u001b[0m\u001b[0m\n\u001b[0;32m-> 1455\u001b[0;31m     \u001b[0;32mif\u001b[0m \u001b[0mtopHeight_Pl\u001b[0m \u001b[0;34m>\u001b[0m \u001b[0;36m0\u001b[0m\u001b[0;34m:\u001b[0m\u001b[0;34m\u001b[0m\u001b[0m\n\u001b[0m\u001b[1;32m   1456\u001b[0m         \u001b[0ma1\u001b[0m \u001b[0;34m=\u001b[0m \u001b[0;36m0.194086\u001b[0m\u001b[0;34m\u001b[0m\u001b[0m\n\u001b[1;32m   1457\u001b[0m         \u001b[0ma2\u001b[0m \u001b[0;34m=\u001b[0m \u001b[0;36m0.988276\u001b[0m\u001b[0;34m\u001b[0m\u001b[0m\n",
      "\u001b[0;31mValueError\u001b[0m: The truth value of an array with more than one element is ambiguous. Use a.any() or a.all()"
     ]
    }
   ],
   "source": [
    "from gypsy.GYPSYNonSpatial import GrossTotalVolume_Pl\n",
    "\n",
    "\n",
    "GrossTotalVolume_Pl(np.random.random(10) * 100, np.random.random(10) * 100)"
   ]
  },
  {
   "cell_type": "markdown",
   "metadata": {},
   "source": [
    "# MWEs"
   ]
  },
  {
   "cell_type": "markdown",
   "metadata": {},
   "source": [
    "If we can rewrite it to handle 0s properly, i.e. to return 0 where an input is 0, then it is trivial to vectorize"
   ]
  },
  {
   "cell_type": "code",
   "execution_count": 24,
   "metadata": {
    "collapsed": false
   },
   "outputs": [
    {
     "name": "stdout",
     "output_type": "stream",
     "text": [
      "44.1908473047\n",
      "0.0\n",
      "0.0\n",
      "[  415.44083176  3769.55471466  1288.45549553    49.77278285   298.91564963\n",
      "  1367.74822794   729.29619243   906.68358934  2393.18506461   385.18108024]\n",
      "[ 0.  0.  0.  0.  0.  0.  0.  0.  0.  0.]\n"
     ]
    }
   ],
   "source": [
    "def GrossTotalVolume_Pl_arr(BA_Pl, topHeight_Pl):\n",
    "    a1 = 0.194086\n",
    "    a2 = 0.988276\n",
    "    a3 = 0.949346\n",
    "    a4 = -3.39036\n",
    "    Tvol_Pl = a1* (BA_Pl**a2) * (topHeight_Pl **a3) * np.exp(1+(a4/((topHeight_Pl**2)+1)))\n",
    "\n",
    "    return Tvol_Pl\n",
    "\n",
    "print(GrossTotalVolume_Pl_arr(10, 10))\n",
    "print(GrossTotalVolume_Pl_arr(0, 10))\n",
    "print(GrossTotalVolume_Pl_arr(10, 0))\n",
    "print(GrossTotalVolume_Pl_arr(np.random.random(10) * 100, np.random.random(10) * 100))\n",
    "print(GrossTotalVolume_Pl_arr(np.zeros(10) * 100, np.random.random(10) * 100))"
   ]
  },
  {
   "cell_type": "markdown",
   "metadata": {},
   "source": [
    "### Timings"
   ]
  },
  {
   "cell_type": "code",
   "execution_count": 29,
   "metadata": {
    "collapsed": false
   },
   "outputs": [],
   "source": [
    "ba = np.random.random(1000) * 100\n",
    "top_height = np.random.random(1000) * 100\n",
    "d = pd.DataFrame({'ba': ba, 'th': top_height})"
   ]
  },
  {
   "cell_type": "code",
   "execution_count": 30,
   "metadata": {
    "collapsed": false
   },
   "outputs": [
    {
     "name": "stdout",
     "output_type": "stream",
     "text": [
      "10 loops, best of 3: 31.9 ms per loop\n"
     ]
    }
   ],
   "source": [
    "%%timeit\n",
    "d.apply(\n",
    "    lambda x: GrossTotalVolume_Pl(\n",
    "        x.at['ba'],\n",
    "        x.at['th']\n",
    "    ),\n",
    "    axis=1\n",
    ")"
   ]
  },
  {
   "cell_type": "code",
   "execution_count": 32,
   "metadata": {
    "collapsed": false
   },
   "outputs": [
    {
     "name": "stdout",
     "output_type": "stream",
     "text": [
      "10000 loops, best of 3: 165 µs per loop\n"
     ]
    }
   ],
   "source": [
    "%%timeit\n",
    "GrossTotalVolume_Pl_arr(ba, top_height)"
   ]
  },
  {
   "cell_type": "markdown",
   "metadata": {},
   "source": [
    "The array method is 20x faster. This is worth implementing. We should also add tests to help be explicity about the behaviour of these volume functions."
   ]
  },
  {
   "cell_type": "markdown",
   "metadata": {},
   "source": [
    "# Revise the code\n",
    "\n",
    "Go on. Do it."
   ]
  },
  {
   "cell_type": "markdown",
   "metadata": {},
   "source": [
    "# Tests\n",
    "\n",
    "Yes, though data was changed as the new implementations yield NaN where input is NaN, instead of yielding 0."
   ]
  },
  {
   "cell_type": "markdown",
   "metadata": {},
   "source": [
    "# Review code changes"
   ]
  },
  {
   "cell_type": "code",
   "execution_count": 33,
   "metadata": {
    "collapsed": false
   },
   "outputs": [
    {
     "name": "stdout",
     "output_type": "stream",
     "text": [
      "3694134 Update test data\n",
      "ab526af Vectorise the merch vol functions\n",
      "4aa48dc Fixup merch vol constants\n",
      "bd1239b Refactor merch volume functions\n",
      "4f6757d Remove species checks in the merch vol functions\n",
      "23d2674 Remove species suffix where not needed\n",
      "36bc44a Add reminder for testing gross total volume\n",
      "a26b09c Update test data-vectorized volume functs yield na\n",
      "7b70fcf vectorize the gross total volume functions\n",
      "5c42031 Add notebook for 3rd iteration - vectorize volumes\n"
     ]
    }
   ],
   "source": [
    "%%bash\n",
    "git log --since \"2016-11-14 19:30\" --oneline # 19:30 GMT/UTC"
   ]
  },
  {
   "cell_type": "code",
   "execution_count": 34,
   "metadata": {
    "collapsed": false,
    "scrolled": true
   },
   "outputs": [
    {
     "name": "stdout",
     "output_type": "stream",
     "text": [
      "\u001b[1mdiff --git a/gypsy/GYPSYNonSpatial.py b/gypsy/GYPSYNonSpatial.py\u001b[m\r\n",
      "\u001b[1mindex 7b93c0f..ec1d1fc 100644\u001b[m\r\n",
      "\u001b[1m--- a/gypsy/GYPSYNonSpatial.py\u001b[m\r\n",
      "\u001b[1m+++ b/gypsy/GYPSYNonSpatial.py\u001b[m\r\n",
      "\u001b[36m@@ -1381,82 +1381,88 @@\u001b[m \u001b[mdef BAfromZeroToDataPl(startTage, startTagePl, y2bh_Pl, SC_Pl, SI_bh_Pl,\u001b[m\r\n",
      "     return basal_area_arr\u001b[m\r\n",
      " \u001b[m\r\n",
      " \u001b[m\r\n",
      "\u001b[31m-def GrossTotalVolume_Aw(BA_Aw, topHeight_Aw):\u001b[m\r\n",
      "\u001b[31m-    '''Gross total volume is estimated only using species specific Basal Area and\u001b[m\r\n",
      "\u001b[31m-    Top height\u001b[m\r\n",
      "\u001b[32m+\u001b[m\u001b[32mdef GrossTotalVolume_Aw(basal_area, top_height):\u001b[m\r\n",
      "\u001b[32m+\u001b[m\u001b[32m    ''' White Aspen Gross Total Volume\u001b[m\r\n",
      " \u001b[m\r\n",
      "\u001b[31m-    :param float BA_Aw: basal area of Aw\u001b[m\r\n",
      "\u001b[31m-    :param float topHeight_Aw: top height of Aw\u001b[m\r\n",
      "\u001b[32m+\u001b[m\u001b[32m    Note that inputs may be scalars, or numpy arrays.\u001b[m\r\n",
      "\u001b[32m+\u001b[m\r\n",
      "\u001b[32m+\u001b[m\u001b[32m    :param float basal_area: basal area\u001b[m\r\n",
      "\u001b[32m+\u001b[m\u001b[32m    :param float top_height: top height\u001b[m\r\n",
      " \u001b[m\r\n",
      "     '''\u001b[m\r\n",
      "\u001b[31m-    Tvol_Aw = 0\u001b[m\r\n",
      "\u001b[32m+\u001b[m\u001b[32m    a1 = 0.248718\u001b[m\r\n",
      "\u001b[32m+\u001b[m\u001b[32m    a2 = 0.98568\u001b[m\r\n",
      "\u001b[32m+\u001b[m\u001b[32m    a3 = 0.857278\u001b[m\r\n",
      "\u001b[32m+\u001b[m\u001b[32m    a4 = -24.9961\u001b[m\r\n",
      "\u001b[32m+\u001b[m\u001b[32m    tot_vol = a1 \\\u001b[m\r\n",
      "\u001b[32m+\u001b[m\u001b[32m              * (basal_area**a2) \\\u001b[m\r\n",
      "\u001b[32m+\u001b[m\u001b[32m              * (top_height**a3) \\\u001b[m\r\n",
      "\u001b[32m+\u001b[m\u001b[32m              * numpy.exp( 1 \\\u001b[m\r\n",
      "\u001b[32m+\u001b[m\u001b[32m                           + ( a4 / (( top_height**2 ) + 1 ))\u001b[m\r\n",
      "\u001b[32m+\u001b[m\u001b[32m              )\u001b[m\r\n",
      " \u001b[m\r\n",
      "\u001b[31m-    if topHeight_Aw > 0:\u001b[m\r\n",
      "\u001b[31m-        a1 = 0.248718\u001b[m\r\n",
      "\u001b[31m-        a2 = 0.98568\u001b[m\r\n",
      "\u001b[31m-        a3 = 0.857278\u001b[m\r\n",
      "\u001b[31m-        a4 = -24.9961\u001b[m\r\n",
      "\u001b[31m-        Tvol_Aw = a1 * (BA_Aw**a2) * (topHeight_Aw**a3) * numpy.exp(1+(a4/((topHeight_Aw**2)+1)))\u001b[m\r\n",
      "\u001b[32m+\u001b[m\u001b[32m    return tot_vol\u001b[m\r\n",
      " \u001b[m\r\n",
      "\u001b[31m-    return Tvol_Aw\u001b[m\r\n",
      " \u001b[m\r\n",
      "\u001b[32m+\u001b[m\u001b[32mdef GrossTotalVolume_Sw(basal_area, top_height):\u001b[m\r\n",
      "\u001b[32m+\u001b[m\u001b[32m    '''White Spruce Gross Total Volume\u001b[m\r\n",
      " \u001b[m\r\n",
      "\u001b[31m-def GrossTotalVolume_Sw(BA_Sw, topHeight_Sw):\u001b[m\r\n",
      "\u001b[31m-    '''Gross total volume is estimated only using species specific Basal Area and\u001b[m\r\n",
      "\u001b[31m-    Top height\u001b[m\r\n",
      "\u001b[32m+\u001b[m\u001b[32m    Note that inputs may be scalars, or numpy arrays.\u001b[m\r\n",
      " \u001b[m\r\n",
      "\u001b[31m-    :param float BA_Sw: basal area of Sw\u001b[m\r\n",
      "\u001b[31m-    :param float topHeight_Sw: top height of Sw\u001b[m\r\n",
      "\u001b[32m+\u001b[m\u001b[32m    :param float basal_area: basal area\u001b[m\r\n",
      "\u001b[32m+\u001b[m\u001b[32m    :param float top_height: top height\u001b[m\r\n",
      " \u001b[m\r\n",
      "     '''\u001b[m\r\n",
      "\u001b[31m-    Tvol_Sw = 0\u001b[m\r\n",
      "\u001b[32m+\u001b[m\u001b[32m    b1 = 0.41104\u001b[m\r\n",
      "\u001b[32m+\u001b[m\u001b[32m    b2 = 0.983108\u001b[m\r\n",
      "\u001b[32m+\u001b[m\u001b[32m    b3 = 0.971061\u001b[m\r\n",
      "\u001b[32m+\u001b[m\u001b[32m    tot_vol = b1 \\\u001b[m\r\n",
      "\u001b[32m+\u001b[m\u001b[32m              * (basal_area**b2) \\\u001b[m\r\n",
      "\u001b[32m+\u001b[m\u001b[32m              * (top_height**b3)\u001b[m\r\n",
      " \u001b[m\r\n",
      "\u001b[31m-    if topHeight_Sw > 0:\u001b[m\r\n",
      "\u001b[31m-        b1 = 0.41104\u001b[m\r\n",
      "\u001b[31m-        b2 = 0.983108\u001b[m\r\n",
      "\u001b[31m-        b3 = 0.971061\u001b[m\r\n",
      "\u001b[31m-        Tvol_Sw = b1 * (BA_Sw**b2) *  (topHeight_Sw**b3)\u001b[m\r\n",
      "\u001b[32m+\u001b[m\u001b[32m    return tot_vol\u001b[m\r\n",
      " \u001b[m\r\n",
      "\u001b[31m-    return Tvol_Sw\u001b[m\r\n",
      " \u001b[m\r\n",
      "\u001b[32m+\u001b[m\u001b[32mdef GrossTotalVolume_Sb(basal_area, top_height):\u001b[m\r\n",
      "\u001b[32m+\u001b[m\u001b[32m    '''Black Spruce Gross Total Volume\u001b[m\r\n",
      " \u001b[m\r\n",
      "\u001b[31m-def GrossTotalVolume_Sb(BA_Sb, topHeight_Sb):\u001b[m\r\n",
      "\u001b[31m-    '''Gross total volume is estimated only using species specific Basal Area and\u001b[m\r\n",
      "\u001b[31m-    Top height\u001b[m\r\n",
      "\u001b[32m+\u001b[m\u001b[32m    Note that inputs may be scalars, or numpy arrays.\u001b[m\r\n",
      " \u001b[m\r\n",
      "\u001b[31m-    :param float BA_Sb: basal area of Sb\u001b[m\r\n",
      "\u001b[31m-    :param float topHeight_Sb: top height of Sb\u001b[m\r\n",
      "\u001b[32m+\u001b[m\u001b[32m    :param float basal_area: basal area\u001b[m\r\n",
      "\u001b[32m+\u001b[m\u001b[32m    :param float top_height: top height\u001b[m\r\n",
      " \u001b[m\r\n",
      "     '''\u001b[m\r\n",
      "\u001b[31m-    Tvol_Sb = 0\u001b[m\r\n",
      "\u001b[32m+\u001b[m\u001b[32m    b1 = 0.48628\u001b[m\r\n",
      "\u001b[32m+\u001b[m\u001b[32m    b2 = 0.982962\u001b[m\r\n",
      "\u001b[32m+\u001b[m\u001b[32m    b3 = 0.910603\u001b[m\r\n",
      "\u001b[32m+\u001b[m\u001b[32m    tot_vol = b1 \\\u001b[m\r\n",
      "\u001b[32m+\u001b[m\u001b[32m              * (basal_area**b2) \\\u001b[m\r\n",
      "\u001b[32m+\u001b[m\u001b[32m              * (top_height**b3)\u001b[m\r\n",
      " \u001b[m\r\n",
      "\u001b[31m-    if topHeight_Sb > 0:\u001b[m\r\n",
      "\u001b[31m-        b1 = 0.48628\u001b[m\r\n",
      "\u001b[31m-        b2 = 0.982962\u001b[m\r\n",
      "\u001b[31m-        b3 = 0.910603\u001b[m\r\n",
      "\u001b[31m-        Tvol_Sb = b1 * (BA_Sb**b2) * (topHeight_Sb**b3)\u001b[m\r\n",
      "\u001b[32m+\u001b[m\u001b[32m    return tot_vol\u001b[m\r\n",
      " \u001b[m\r\n",
      "\u001b[31m-    return Tvol_Sb\u001b[m\r\n",
      " \u001b[m\r\n",
      "\u001b[32m+\u001b[m\u001b[32mdef GrossTotalVolume_Pl(basal_area, top_height):\u001b[m\r\n",
      "\u001b[32m+\u001b[m\u001b[32m    '''Lodgepole Pine Gross Total Volume\u001b[m\r\n",
      " \u001b[m\r\n",
      "\u001b[31m-def GrossTotalVolume_Pl(BA_Pl, topHeight_Pl):\u001b[m\r\n",
      "\u001b[31m-    '''Gross total volume is estimated only using species specific Basal Area and\u001b[m\r\n",
      "\u001b[31m-    Top height\u001b[m\r\n",
      "\u001b[32m+\u001b[m\u001b[32m    Note that inputs may be scalars, or numpy arrays.\u001b[m\r\n",
      " \u001b[m\r\n",
      "\u001b[31m-    :param float BA_Pl: basal area of Pl\u001b[m\r\n",
      "\u001b[31m-    :param float topHeight_Pl: top height of Pl\u001b[m\r\n",
      "\u001b[32m+\u001b[m\u001b[32m    :param float basal_area: basal area\u001b[m\r\n",
      "\u001b[32m+\u001b[m\u001b[32m    :param float top_height: top height\u001b[m\r\n",
      " \u001b[m\r\n",
      "     '''\u001b[m\r\n",
      "\u001b[31m-    Tvol_Pl = 0\u001b[m\r\n",
      "\u001b[31m-\u001b[m\r\n",
      "\u001b[31m-    if topHeight_Pl > 0:\u001b[m\r\n",
      "\u001b[31m-        a1 = 0.194086\u001b[m\r\n",
      "\u001b[31m-        a2 = 0.988276\u001b[m\r\n",
      "\u001b[31m-        a3 = 0.949346\u001b[m\r\n",
      "\u001b[31m-        a4 = -3.39036\u001b[m\r\n",
      "\u001b[31m-        Tvol_Pl = a1* (BA_Pl**a2) * (topHeight_Pl **a3) * numpy.exp(1+(a4/((topHeight_Pl**2)+1)))\u001b[m\r\n",
      "\u001b[31m-\u001b[m\r\n",
      "\u001b[31m-    return Tvol_Pl\u001b[m\r\n",
      "\u001b[32m+\u001b[m\u001b[32m    a1 = 0.194086\u001b[m\r\n",
      "\u001b[32m+\u001b[m\u001b[32m    a2 = 0.988276\u001b[m\r\n",
      "\u001b[32m+\u001b[m\u001b[32m    a3 = 0.949346\u001b[m\r\n",
      "\u001b[32m+\u001b[m\u001b[32m    a4 = -3.39036\u001b[m\r\n",
      "\u001b[32m+\u001b[m\u001b[32m    tot_vol = a1 \\\u001b[m\r\n",
      "\u001b[32m+\u001b[m\u001b[32m              * (basal_area**a2) \\\u001b[m\r\n",
      "\u001b[32m+\u001b[m\u001b[32m              * (top_height**a3) \\\u001b[m\r\n",
      "\u001b[32m+\u001b[m\u001b[32m              * numpy.exp(\u001b[m\r\n",
      "\u001b[32m+\u001b[m\u001b[32m                  1 + ( a4 / (( top_height**2 ) + 1 ))\u001b[m\r\n",
      "\u001b[32m+\u001b[m\u001b[32m              )\u001b[m\r\n",
      "\u001b[32m+\u001b[m\r\n",
      "\u001b[32m+\u001b[m\u001b[32m    return tot_vol\u001b[m\r\n",
      " \u001b[m\r\n",
      " def gross_total_volume(species, *args):\u001b[m\r\n",
      "     return {\u001b[m\r\n",
      "\u001b[36m@@ -1468,8 +1474,8 @@\u001b[m \u001b[mdef gross_total_volume(species, *args):\u001b[m\r\n",
      " \u001b[m\r\n",
      " \u001b[m\r\n",
      " \u001b[m\r\n",
      "\u001b[31m-def MerchantableVolumeAw(N_bh_Aw, BA_Aw, topHeight_Aw, StumpDOB_Aw,\u001b[m\r\n",
      "\u001b[31m-                         StumpHeight_Aw, TopDib_Aw, Tvol_Aw):\u001b[m\r\n",
      "\u001b[32m+\u001b[m\u001b[32mdef MerchantableVolumeAw(density, basal_area, top_height, total_volume,\u001b[m\r\n",
      "\u001b[32m+\u001b[m\u001b[32m                         stump_dob=13, top_dib=7, stump_height=0.3):\u001b[m\r\n",
      "     '''Merchantable volume for white aspen\u001b[m\r\n",
      " \u001b[m\r\n",
      "     Only new variables are the stump diameter outside bark, stump height and\u001b[m\r\n",
      "\u001b[36m@@ -1477,156 +1483,158 @@\u001b[m \u001b[mdef MerchantableVolumeAw(N_bh_Aw, BA_Aw, topHeight_Aw, StumpDOB_Aw,\u001b[m\r\n",
      "     avoid division by zero when density is zero, i.e., when the species is\u001b[m\r\n",
      "     absent in the plot.\u001b[m\r\n",
      " \u001b[m\r\n",
      "\u001b[31m-    :param float N_bh_Aw: density of sp Aw\u001b[m\r\n",
      "\u001b[31m-    :param float topHeight_Aw: top height of Aw\u001b[m\r\n",
      "\u001b[31m-    :param float StumpDOB_Aw:  stump diameter outside bark of Aw\u001b[m\r\n",
      "\u001b[31m-    :param float StumpHeight_Aw: stump height of Aw\u001b[m\r\n",
      "\u001b[31m-    :param float TopDib_Aw: top diameter inside bark\u001b[m\r\n",
      "\u001b[31m-    :param float Tvol_Aw: Gross total volume of Aw\u001b[m\r\n",
      "\u001b[32m+\u001b[m\u001b[32m    :param float density: density\u001b[m\r\n",
      "\u001b[32m+\u001b[m\u001b[32m    :param float basal_area: basal area\u001b[m\r\n",
      "\u001b[32m+\u001b[m\u001b[32m    :param float top_height: top height\u001b[m\r\n",
      "\u001b[32m+\u001b[m\u001b[32m    :param float StumpHeight: stump height\u001b[m\r\n",
      "\u001b[32m+\u001b[m\u001b[32m    :param float TopDib: top diameter inside bark\u001b[m\r\n",
      "\u001b[32m+\u001b[m\u001b[32m    :param float total_volume: Gross total volume\u001b[m\r\n",
      "\u001b[32m+\u001b[m\u001b[32m    :param float StumpDOB:  stump diameter outside bark\u001b[m\r\n",
      " \u001b[m\r\n",
      "     '''\u001b[m\r\n",
      "\u001b[31m-    if N_bh_Aw > 0:\u001b[m\r\n",
      "\u001b[31m-        k_Aw = (BA_Aw * 10000.0 / N_bh_Aw)**0.5\u001b[m\r\n",
      "\u001b[31m-    else:\u001b[m\r\n",
      "\u001b[31m-        k_Aw = 0\u001b[m\r\n",
      "\u001b[31m-\u001b[m\r\n",
      "\u001b[31m-    if k_Aw > 0 and topHeight_Aw > 0:\u001b[m\r\n",
      "\u001b[31m-        b0 = 0.993673\u001b[m\r\n",
      "\u001b[31m-        b1 = 923.5825\u001b[m\r\n",
      "\u001b[31m-        b2 = -3.96171\u001b[m\r\n",
      "\u001b[31m-        b3 = 3.366144\u001b[m\r\n",
      "\u001b[31m-        b4 = 0.316236\u001b[m\r\n",
      "\u001b[31m-        b5 = 0.968953\u001b[m\r\n",
      "\u001b[31m-        b6 = -1.61247\u001b[m\r\n",
      "\u001b[31m-        k1 = Tvol_Aw * (k_Aw**b0)\u001b[m\r\n",
      "\u001b[31m-        k2 = (b1* (topHeight_Aw**b2) * (StumpDOB_Aw**b3) * (StumpHeight_Aw**b4) * (TopDib_Aw**b5)  * (k_Aw**b6)) + k_Aw\u001b[m\r\n",
      "\u001b[31m-        MVol_Aw = k1/k2\u001b[m\r\n",
      "\u001b[31m-    else:\u001b[m\r\n",
      "\u001b[31m-        MVol_Aw = 0\u001b[m\r\n",
      "\u001b[31m-\u001b[m\r\n",
      "\u001b[31m-    return MVol_Aw\u001b[m\r\n",
      "\u001b[31m-\u001b[m\r\n",
      "\u001b[31m-\u001b[m\r\n",
      "\u001b[31m-def MerchantableVolumeSb(N_bh_Sb, BA_Sb, topHeight_Sb, StumpDOB_Sb,\u001b[m\r\n",
      "\u001b[31m-                         StumpHeight_Sb, TopDib_Sb, Tvol_Sb):\u001b[m\r\n",
      "\u001b[32m+\u001b[m\u001b[32m    k = (basal_area * 10000.0 / density)**0.5\u001b[m\r\n",
      "\u001b[32m+\u001b[m\u001b[32m    b0 = 0.993673\u001b[m\r\n",
      "\u001b[32m+\u001b[m\u001b[32m    b1 = 923.5825\u001b[m\r\n",
      "\u001b[32m+\u001b[m\u001b[32m    b2 = -3.96171\u001b[m\r\n",
      "\u001b[32m+\u001b[m\u001b[32m    b3 = 3.366144\u001b[m\r\n",
      "\u001b[32m+\u001b[m\u001b[32m    b4 = 0.316236\u001b[m\r\n",
      "\u001b[32m+\u001b[m\u001b[32m    b5 = 0.968953\u001b[m\r\n",
      "\u001b[32m+\u001b[m\u001b[32m    b6 = -1.61247\u001b[m\r\n",
      "\u001b[32m+\u001b[m\u001b[32m    k1 = total_volume * (k**b0)\u001b[m\r\n",
      "\u001b[32m+\u001b[m\u001b[32m    k2 = (\u001b[m\r\n",
      "\u001b[32m+\u001b[m\u001b[32m        b1 \\\u001b[m\r\n",
      "\u001b[32m+\u001b[m\u001b[32m        * (top_height**b2) \\\u001b[m\r\n",
      "\u001b[32m+\u001b[m\u001b[32m        * (stump_dob**b3) \\\u001b[m\r\n",
      "\u001b[32m+\u001b[m\u001b[32m        * (stump_height**b4) \\\u001b[m\r\n",
      "\u001b[32m+\u001b[m\u001b[32m        * (top_dib**b5) \\\u001b[m\r\n",
      "\u001b[32m+\u001b[m\u001b[32m        * (k**b6)\u001b[m\r\n",
      "\u001b[32m+\u001b[m\u001b[32m    ) + k\u001b[m\r\n",
      "\u001b[32m+\u001b[m\u001b[32m    merch_vol = k1/k2\u001b[m\r\n",
      "\u001b[32m+\u001b[m\r\n",
      "\u001b[32m+\u001b[m\u001b[32m    return merch_vol\u001b[m\r\n",
      "\u001b[32m+\u001b[m\r\n",
      "\u001b[32m+\u001b[m\r\n",
      "\u001b[32m+\u001b[m\u001b[32mdef MerchantableVolumeSb(density, basal_area, top_height, total_volume,\u001b[m\r\n",
      "\u001b[32m+\u001b[m\u001b[32m                         stump_dob=13, top_dib=7, stump_height=0.3):\u001b[m\r\n",
      "     '''Merchantable volume black spruce\u001b[m\r\n",
      " \u001b[m\r\n",
      "     The if below was used (and in other functions) to avoid division by zero\u001b[m\r\n",
      "     when density is zero, i.e., when the species is absent in the plot.\u001b[m\r\n",
      " \u001b[m\r\n",
      "\u001b[31m-    :param float N_bh_Sb: density of sp Sb\u001b[m\r\n",
      "\u001b[31m-    :param float topHeight_Sb: top height of Sb\u001b[m\r\n",
      "\u001b[31m-    :param float StumpDOB_Sb:  stump diameter outside bark of Sb\u001b[m\r\n",
      "\u001b[31m-    :param float StumpHeight_Sb: stump height of Sb\u001b[m\r\n",
      "\u001b[31m-    :param float TopDib_Sb: top diameter inside bark of Sb\u001b[m\r\n",
      "\u001b[31m-    :param float Tvol_Sb: Gross total volume of Sb\u001b[m\r\n",
      "\u001b[31m-\u001b[m\r\n",
      "\u001b[31m-    '''\u001b[m\r\n",
      "\u001b[31m-    if N_bh_Sb > 0:\u001b[m\r\n",
      "\u001b[31m-        k_Sb = (BA_Sb * 10000.0 / N_bh_Sb)**0.5\u001b[m\r\n",
      "\u001b[31m-    else:\u001b[m\r\n",
      "\u001b[31m-        k_Sb = 0\u001b[m\r\n",
      "\u001b[31m-\u001b[m\r\n",
      "\u001b[31m-    if k_Sb > 0 and  topHeight_Sb > 0:\u001b[m\r\n",
      "\u001b[31m-        if sp_Sb[0] in('Sb', 'Lt', 'La', 'Lw', 'L'):\u001b[m\r\n",
      "\u001b[31m-            b0 = 0.98152\u001b[m\r\n",
      "\u001b[31m-            b1 = 0.678011\u001b[m\r\n",
      "\u001b[31m-            b2 = -1.10256\u001b[m\r\n",
      "\u001b[31m-            b3 = 4.148139\u001b[m\r\n",
      "\u001b[31m-            b4 = 0.511391\u001b[m\r\n",
      "\u001b[31m-            b5 = 1.484988\u001b[m\r\n",
      "\u001b[31m-            b6 = -3.26425\u001b[m\r\n",
      "\u001b[31m-            StumpDOB = sp_Sb[7]\u001b[m\r\n",
      "\u001b[31m-            StumpHeight = sp_Sb[8]\u001b[m\r\n",
      "\u001b[31m-            TopDib = sp_Sb[9]\u001b[m\r\n",
      "\u001b[31m-            MVol_Sb = (Tvol_Sb * (k_Sb**b0))/ ((b1* (topHeight_Sb**b2) * (StumpDOB_Sb**b3) * (StumpHeight_Sb**b4) * (TopDib_Sb**b5) * (k_Sb**b6)) +k_Sb)\u001b[m\r\n",
      "\u001b[31m-    else:\u001b[m\r\n",
      "\u001b[31m-        MVol_Sb = 0\u001b[m\r\n",
      "\u001b[31m-\u001b[m\r\n",
      "\u001b[31m-    return MVol_Sb\u001b[m\r\n",
      "\u001b[31m-\u001b[m\r\n",
      "\u001b[32m+\u001b[m\u001b[32m    :param float density: density\u001b[m\r\n",
      "\u001b[32m+\u001b[m\u001b[32m    :param float top_height: top height\u001b[m\r\n",
      "\u001b[32m+\u001b[m\u001b[32m    :param float StumpDOB:  stump diameter outside bark\u001b[m\r\n",
      "\u001b[32m+\u001b[m\u001b[32m    :param float StumpHeight: stump height\u001b[m\r\n",
      "\u001b[32m+\u001b[m\u001b[32m    :param float TopDib: top diameter inside bark\u001b[m\r\n",
      "\u001b[32m+\u001b[m\u001b[32m    :param float total_volume: Gross total volume\u001b[m\r\n",
      " \u001b[m\r\n",
      "\u001b[31m-\u001b[m\r\n",
      "\u001b[31m-def MerchantableVolumeSw(N_bh_Sw, BA_Sw, topHeight_Sw, StumpDOB_Sw,\u001b[m\r\n",
      "\u001b[31m-                         StumpHeight_Sw, TopDib_Sw, Tvol_Sw):\u001b[m\r\n",
      "     '''\u001b[m\r\n",
      "\u001b[31m-    Merchantable volume only new variables are the stump diameter outside bark, stump height and top diameter inside bark\u001b[m\r\n",
      "\u001b[32m+\u001b[m\u001b[32m    k = (basal_area * 10000.0 / density)**0.5\u001b[m\r\n",
      "\u001b[32m+\u001b[m\u001b[32m    b0 = 0.98152\u001b[m\r\n",
      "\u001b[32m+\u001b[m\u001b[32m    b1 = 0.678011\u001b[m\r\n",
      "\u001b[32m+\u001b[m\u001b[32m    b2 = -1.10256\u001b[m\r\n",
      "\u001b[32m+\u001b[m\u001b[32m    b3 = 4.148139\u001b[m\r\n",
      "\u001b[32m+\u001b[m\u001b[32m    b4 = 0.511391\u001b[m\r\n",
      "\u001b[32m+\u001b[m\u001b[32m    b5 = 1.484988\u001b[m\r\n",
      "\u001b[32m+\u001b[m\u001b[32m    b6 = -3.26425\u001b[m\r\n",
      "\u001b[32m+\u001b[m\u001b[32m    merch_vol = ( total_volume * (k**b0) ) \\\u001b[m\r\n",
      "\u001b[32m+\u001b[m\u001b[32m                / (\u001b[m\r\n",
      "\u001b[32m+\u001b[m\u001b[32m                    ( b1 \\\u001b[m\r\n",
      "\u001b[32m+\u001b[m\u001b[32m                      * (top_height**b2) \\\u001b[m\r\n",
      "\u001b[32m+\u001b[m\u001b[32m                      * (stump_dob**b3) \\\u001b[m\r\n",
      "\u001b[32m+\u001b[m\u001b[32m                      * (stump_height**b4) \\\u001b[m\r\n",
      "\u001b[32m+\u001b[m\u001b[32m                      * (top_dib**b5) \\\u001b[m\r\n",
      "\u001b[32m+\u001b[m\u001b[32m                      * (k**b6)\u001b[m\r\n",
      "\u001b[32m+\u001b[m\u001b[32m                    ) + k\u001b[m\r\n",
      "\u001b[32m+\u001b[m\u001b[32m                )\u001b[m\r\n",
      "\u001b[32m+\u001b[m\r\n",
      "\u001b[32m+\u001b[m\u001b[32m    return merch_vol\u001b[m\r\n",
      "\u001b[32m+\u001b[m\r\n",
      "\u001b[32m+\u001b[m\r\n",
      "\u001b[32m+\u001b[m\r\n",
      "\u001b[32m+\u001b[m\u001b[32mdef MerchantableVolumeSw(density, basal_area, top_height, total_volume,\u001b[m\r\n",
      "\u001b[32m+\u001b[m\u001b[32m                         stump_dob=13, top_dib=7, stump_height=0.3):\u001b[m\r\n",
      "\u001b[32m+\u001b[m\u001b[32m    '''Merchantable volume for white spruce\u001b[m\r\n",
      " \u001b[m\r\n",
      "     The if below was used (and in other functions) to avoid\u001b[m\r\n",
      "     division by zero when density is zero, i.e., when the\u001b[m\r\n",
      "     species is absent in the plot.\u001b[m\r\n",
      " \u001b[m\r\n",
      "\u001b[31m-    :param float N_bh_Sw: density of sp Sw\u001b[m\r\n",
      "\u001b[31m-    :param float topHeight_Sw: top height of Sw\u001b[m\r\n",
      "\u001b[31m-    :param float StumpDOB_Sw:  stump diameter outside bark of Sw\u001b[m\r\n",
      "\u001b[31m-    :param float StumpHeight_Sw: stump height of Sw\u001b[m\r\n",
      "\u001b[31m-    :param float TopDib_Sw: top diameter inside bark of Sw\u001b[m\r\n",
      "\u001b[31m-    :param float Tvol_Sw: Gross total volume of Sw\u001b[m\r\n",
      "\u001b[31m-    '''\u001b[m\r\n",
      "\u001b[31m-    if N_bh_Sw > 0:\u001b[m\r\n",
      "\u001b[31m-        k_Sw = (BA_Sw * 10000.0 / N_bh_Sw)**0.5\u001b[m\r\n",
      "\u001b[31m-    else:\u001b[m\r\n",
      "\u001b[31m-        k_Sw = 0\u001b[m\r\n",
      "\u001b[31m-    if k_Sw > 0 and  topHeight_Sw > 0:\u001b[m\r\n",
      "\u001b[31m-        if sp_Sw[0] in ('Sw', 'Se', 'Fd', 'Fb', 'Fa'):\u001b[m\r\n",
      "\u001b[31m-            b0 = 0.996262\u001b[m\r\n",
      "\u001b[31m-            b1 = 7.021736\u001b[m\r\n",
      "\u001b[31m-            b2 = -1.77615\u001b[m\r\n",
      "\u001b[31m-            b3 = 1.91562\u001b[m\r\n",
      "\u001b[31m-            b4 = 0.4111\u001b[m\r\n",
      "\u001b[31m-            b5 = 1.024803\u001b[m\r\n",
      "\u001b[31m-            b6 = -0.80121\u001b[m\r\n",
      "\u001b[31m-            MVol_Sw = (Tvol_Sw * (k_Sw**b0)) /   ((b1* (topHeight_Sw**b2) * (sp_Sw[7]**b3) * (sp_Sw[8]**b4) * (sp_Sw[9]**b5) * (k_Sw**b6)) +k_Sw)\u001b[m\r\n",
      "\u001b[31m-    else:\u001b[m\r\n",
      "\u001b[31m-        MVol_Sw = 0\u001b[m\r\n",
      "\u001b[31m-\u001b[m\r\n",
      "\u001b[31m-    return MVol_Sw\u001b[m\r\n",
      "\u001b[31m-\u001b[m\r\n",
      "\u001b[31m-\u001b[m\r\n",
      "\u001b[32m+\u001b[m\u001b[32m    :param float density: density\u001b[m\r\n",
      "\u001b[32m+\u001b[m\u001b[32m    :param float top_height: top height\u001b[m\r\n",
      "\u001b[32m+\u001b[m\u001b[32m    :param float StumpDOB:  stump diameter outside bark\u001b[m\r\n",
      "\u001b[32m+\u001b[m\u001b[32m    :param float StumpHeight: stump height\u001b[m\r\n",
      "\u001b[32m+\u001b[m\u001b[32m    :param float TopDib: top diameter inside bark\u001b[m\r\n",
      "\u001b[32m+\u001b[m\u001b[32m    :param float total_volume: Gross total volume\u001b[m\r\n",
      " \u001b[m\r\n",
      "\u001b[31m-def MerchantableVolumePl(N_bh_Pl, BA_Pl, topHeight_Pl, StumpDOB_Pl,\u001b[m\r\n",
      "\u001b[31m-                         StumpHeight_Pl, TopDib_Pl, Tvol_Pl):\u001b[m\r\n",
      "\u001b[31m-    '''Merchantable volume lodgepole pine\u001b[m\r\n",
      "\u001b[32m+\u001b[m\u001b[32m    '''\u001b[m\r\n",
      "\u001b[32m+\u001b[m\u001b[32m    k = (basal_area * 10000.0 / density)**0.5\u001b[m\r\n",
      "\u001b[32m+\u001b[m\u001b[32m    b0 = 0.996262\u001b[m\r\n",
      "\u001b[32m+\u001b[m\u001b[32m    b1 = 7.021736\u001b[m\r\n",
      "\u001b[32m+\u001b[m\u001b[32m    b2 = -1.77615\u001b[m\r\n",
      "\u001b[32m+\u001b[m\u001b[32m    b3 = 1.91562\u001b[m\r\n",
      "\u001b[32m+\u001b[m\u001b[32m    b4 = 0.4111\u001b[m\r\n",
      "\u001b[32m+\u001b[m\u001b[32m    b5 = 1.024803\u001b[m\r\n",
      "\u001b[32m+\u001b[m\u001b[32m    b6 = -0.80121\u001b[m\r\n",
      "\u001b[32m+\u001b[m\u001b[32m    merch_vol = (total_volume * (k**b0)) \\\u001b[m\r\n",
      "\u001b[32m+\u001b[m\u001b[32m                / (\u001b[m\r\n",
      "\u001b[32m+\u001b[m\u001b[32m                    ( b1 \\\u001b[m\r\n",
      "\u001b[32m+\u001b[m\u001b[32m                     * (top_height**b2) \\\u001b[m\r\n",
      "\u001b[32m+\u001b[m\u001b[32m                     * (stump_dob**b3) \\\u001b[m\r\n",
      "\u001b[32m+\u001b[m\u001b[32m                     * (stump_height**b4) \\\u001b[m\r\n",
      "\u001b[32m+\u001b[m\u001b[32m                     * (top_dib**b5) \\\u001b[m\r\n",
      "\u001b[32m+\u001b[m\u001b[32m                     * (k**b6)\u001b[m\r\n",
      "\u001b[32m+\u001b[m\u001b[32m                    ) + k\u001b[m\r\n",
      "\u001b[32m+\u001b[m\u001b[32m                )\u001b[m\r\n",
      "\u001b[32m+\u001b[m\r\n",
      "\u001b[32m+\u001b[m\u001b[32m    return merch_vol\u001b[m\r\n",
      "\u001b[32m+\u001b[m\r\n",
      "\u001b[32m+\u001b[m\r\n",
      "\u001b[32m+\u001b[m\r\n",
      "\u001b[32m+\u001b[m\u001b[32mdef MerchantableVolumePl(density, basal_area, top_height, total_volume,\u001b[m\r\n",
      "\u001b[32m+\u001b[m\u001b[32m                         stump_dob=13, top_dib=7, stump_height=0.3):\u001b[m\r\n",
      "\u001b[32m+\u001b[m\u001b[32m    '''Merchantable volume for lodgepole pine\u001b[m\r\n",
      " \u001b[m\r\n",
      "     The if below was used (and in other functions) to avoid division by zero\u001b[m\r\n",
      "     when density is zero, i.e., when the species is absent in the plot.\u001b[m\r\n",
      " \u001b[m\r\n",
      "\u001b[31m-    :param float N_bh_Pl: density of sp Pl\u001b[m\r\n",
      "\u001b[31m-    :param float topHeight_Pl: top height of Pl\u001b[m\r\n",
      "\u001b[31m-    :param float StumpDOB_Pl:  stump diameter outside bark of Pl\u001b[m\r\n",
      "\u001b[31m-    :param float StumpHeight_Pl: stump height of Pl\u001b[m\r\n",
      "\u001b[31m-    :param float TopDib_Pl: top diameter inside bark of Pl\u001b[m\r\n",
      "\u001b[31m-    :param float Tvol_Pl: Gross total volume of Pl\u001b[m\r\n",
      "\u001b[32m+\u001b[m\u001b[32m    :param float density: density\u001b[m\r\n",
      "\u001b[32m+\u001b[m\u001b[32m    :param float top_height: top height\u001b[m\r\n",
      "\u001b[32m+\u001b[m\u001b[32m    :param float StumpDOB:  stump diameter outside bark\u001b[m\r\n",
      "\u001b[32m+\u001b[m\u001b[32m    :param float StumpHeight: stump height\u001b[m\r\n",
      "\u001b[32m+\u001b[m\u001b[32m    :param float TopDib: top diameter inside bark\u001b[m\r\n",
      "\u001b[32m+\u001b[m\u001b[32m    :param float total_volume: Gross total volume\u001b[m\r\n",
      " \u001b[m\r\n",
      "     '''\u001b[m\r\n",
      "\u001b[31m-    if N_bh_Pl > 0:\u001b[m\r\n",
      "\u001b[31m-        k_Pl = (BA_Pl * 10000.0 / N_bh_Pl)**0.5\u001b[m\r\n",
      "\u001b[31m-    else:\u001b[m\r\n",
      "\u001b[31m-        k_Pl = 0\u001b[m\r\n",
      "\u001b[31m-\u001b[m\r\n",
      "\u001b[31m-    if k_Pl > 0 and topHeight_Pl > 0:\u001b[m\r\n",
      "\u001b[31m-        if sp_Pl[0] in ('P', 'Pl', 'Pj', 'Pa', 'Pf'):\u001b[m\r\n",
      "\u001b[31m-            b0 = 0.989889\u001b[m\r\n",
      "\u001b[31m-            b1 = 1.055091\u001b[m\r\n",
      "\u001b[31m-            b2 = -0.19072\u001b[m\r\n",
      "\u001b[31m-            b3 = 4.915593\u001b[m\r\n",
      "\u001b[31m-            b4 = 0.42574\u001b[m\r\n",
      "\u001b[31m-            b5 = 1.006379\u001b[m\r\n",
      "\u001b[31m-            b6 = -4.87808\u001b[m\r\n",
      "\u001b[31m-            MVol_Pl = (Tvol_Pl * (k_Pl**b0)) / ((b1* (topHeight_Pl**b2) * (sp_Pl[7]**b3) * (sp_Pl[8]**b4) * (sp_Pl[9]**b5) * (k_Pl**b6)) +k_Pl)\u001b[m\r\n",
      "\u001b[31m-    else:\u001b[m\r\n",
      "\u001b[31m-        MVol_Pl = 0\u001b[m\r\n",
      "\u001b[31m-\u001b[m\r\n",
      "\u001b[31m-    return MVol_Pl\u001b[m\r\n",
      "\u001b[31m-\u001b[m\r\n",
      "\u001b[31m-\u001b[m\r\n",
      "\u001b[31m-def merchantable_volume(species, *args):\u001b[m\r\n",
      "\u001b[32m+\u001b[m\u001b[32m    k = (basal_area * 10000.0 / density)**0.5\u001b[m\r\n",
      "\u001b[32m+\u001b[m\u001b[32m    b0 = 0.989889\u001b[m\r\n",
      "\u001b[32m+\u001b[m\u001b[32m    b1 = 1.055091\u001b[m\r\n",
      "\u001b[32m+\u001b[m\u001b[32m    b2 = -0.19072\u001b[m\r\n",
      "\u001b[32m+\u001b[m\u001b[32m    b3 = 4.915593\u001b[m\r\n",
      "\u001b[32m+\u001b[m\u001b[32m    b4 = 0.42574\u001b[m\r\n",
      "\u001b[32m+\u001b[m\u001b[32m    b5 = 1.006379\u001b[m\r\n",
      "\u001b[32m+\u001b[m\u001b[32m    b6 = -4.87808\u001b[m\r\n",
      "\u001b[32m+\u001b[m\u001b[32m    merch_vol = (total_volume * (k**b0)) \\\u001b[m\r\n",
      "\u001b[32m+\u001b[m\u001b[32m                / (\u001b[m\r\n",
      "\u001b[32m+\u001b[m\u001b[32m                    (b1 \\\u001b[m\r\n",
      "\u001b[32m+\u001b[m\u001b[32m                     * (top_height**b2) \\\u001b[m\r\n",
      "\u001b[32m+\u001b[m\u001b[32m                     * (stump_dob**b3) \\\u001b[m\r\n",
      "\u001b[32m+\u001b[m\u001b[32m                     * (stump_height**b4) \\\u001b[m\r\n",
      "\u001b[32m+\u001b[m\u001b[32m                     * (top_dib**b5) \\\u001b[m\r\n",
      "\u001b[32m+\u001b[m\u001b[32m                     * (k**b6)\u001b[m\r\n",
      "\u001b[32m+\u001b[m\u001b[32m                    ) + k\u001b[m\r\n",
      "\u001b[32m+\u001b[m\u001b[32m                )\u001b[m\r\n",
      "\u001b[32m+\u001b[m\r\n",
      "\u001b[32m+\u001b[m\u001b[32m    return merch_vol\u001b[m\r\n",
      "\u001b[32m+\u001b[m\r\n",
      "\u001b[32m+\u001b[m\r\n",
      "\u001b[32m+\u001b[m\u001b[32mdef merchantable_volume(species, *args, **kwargs):\u001b[m\r\n",
      "     return {\u001b[m\r\n",
      "         'Aw': MerchantableVolumeAw,\u001b[m\r\n",
      "         'Sw': MerchantableVolumeSw,\u001b[m\r\n",
      "         'Sb': MerchantableVolumeSb,\u001b[m\r\n",
      "         'Pl': MerchantableVolumePl,\u001b[m\r\n",
      "\u001b[31m-    }[species](*args)\u001b[m\r\n",
      "\u001b[32m+\u001b[m\u001b[32m    }[species](*args, **kwargs)\u001b[m\r\n",
      " \u001b[m\r\n",
      " \u001b[m\r\n",
      " def _plot_simulation_variables(simulation_df, ax=None, plot_vars=None, y_lab=''):\u001b[m\r\n",
      "\u001b[1mdiff --git a/gypsy/forward_simulation.py b/gypsy/forward_simulation.py\u001b[m\r\n",
      "\u001b[1mindex e96705d..3862ae0 100644\u001b[m\r\n",
      "\u001b[1m--- a/gypsy/forward_simulation.py\u001b[m\r\n",
      "\u001b[1m+++ b/gypsy/forward_simulation.py\u001b[m\r\n",
      "\u001b[36m@@ -157,18 +157,6 @@\u001b[m \u001b[mdef simulate_forwards_df(plot_df, simulation_choice='yes'):\u001b[m\r\n",
      "         N0_Sw = row.at['N0_Sw']\u001b[m\r\n",
      "         N0_Pl = row.at['N0_Pl']\u001b[m\r\n",
      "         N0_Sb = row.at['N0_Sb']\u001b[m\r\n",
      "\u001b[31m-        StumpDOB_Aw = row.at['StumpDOB_Aw']\u001b[m\r\n",
      "\u001b[31m-        StumpDOB_Sb = row.at['StumpDOB_Sb']\u001b[m\r\n",
      "\u001b[31m-        StumpDOB_Sw = row.at['StumpDOB_Sw']\u001b[m\r\n",
      "\u001b[31m-        StumpDOB_Pl = row.at['StumpDOB_Pl']\u001b[m\r\n",
      "\u001b[31m-        StumpHeight_Aw = row.at['StumpHeight_Aw']\u001b[m\r\n",
      "\u001b[31m-        StumpHeight_Sb = row.at['StumpHeight_Sb']\u001b[m\r\n",
      "\u001b[31m-        StumpHeight_Sw = row.at['StumpHeight_Sw']\u001b[m\r\n",
      "\u001b[31m-        StumpHeight_Pl = row.at['StumpHeight_Pl']\u001b[m\r\n",
      "\u001b[31m-        TopDib_Aw = row.at['TopDib_Aw']\u001b[m\r\n",
      "\u001b[31m-        TopDib_Sb = row.at['TopDib_Sb']\u001b[m\r\n",
      "\u001b[31m-        TopDib_Sw = row.at['TopDib_Sw']\u001b[m\r\n",
      "\u001b[31m-        TopDib_Pl = row.at['TopDib_Pl']\u001b[m\r\n",
      " \u001b[m\r\n",
      "         BA_Aw0 = BA0_lower_BAT_Aw(BA_AwT)\u001b[m\r\n",
      "         BA_Sw0 = BA0_lower_BAT_Sw(BA_SwT)\u001b[m\r\n",
      "\u001b[36m@@ -358,13 +346,10 @@\u001b[m \u001b[mdef simulate_forwards_df(plot_df, simulation_choice='yes'):\u001b[m\r\n",
      "         #http://stackoverflow.com/questions/25314547/cell-var-from-loop-warning-from-pylint\u001b[m\r\n",
      " \u001b[m\r\n",
      "         for spec in SPECIES:\u001b[m\r\n",
      "\u001b[31m-            output_DF['Gross_Total_Volume_%s' % spec] = output_DF.apply(\u001b[m\r\n",
      "\u001b[31m-                lambda x: gross_total_volume(\u001b[m\r\n",
      "\u001b[31m-                    spec,\u001b[m\r\n",
      "\u001b[31m-                    x.at['BA_%s' % spec],\u001b[m\r\n",
      "\u001b[31m-                    x.at['topHeight_%s' % spec]\u001b[m\r\n",
      "\u001b[31m-                ),\u001b[m\r\n",
      "\u001b[31m-                axis=1\u001b[m\r\n",
      "\u001b[32m+\u001b[m\u001b[32m            output_DF['Gross_Total_Volume_%s' % spec] = gross_total_volume(\u001b[m\r\n",
      "\u001b[32m+\u001b[m\u001b[32m                spec,\u001b[m\r\n",
      "\u001b[32m+\u001b[m\u001b[32m                output_DF['BA_%s' % spec],\u001b[m\r\n",
      "\u001b[32m+\u001b[m\u001b[32m                output_DF['topHeight_%s' % spec]\u001b[m\r\n",
      "             )\u001b[m\r\n",
      " \u001b[m\r\n",
      "         output_DF['Gross_Total_Volume_Con'] = output_DF['Gross_Total_Volume_Sw'] \\\u001b[m\r\n",
      "\u001b[36m@@ -376,42 +361,13 @@\u001b[m \u001b[mdef simulate_forwards_df(plot_df, simulation_choice='yes'):\u001b[m\r\n",
      " \u001b[m\r\n",
      "         # this could go in the loop above, but is left here for now since\u001b[m\r\n",
      "         # the tests are sensitive to column order\u001b[m\r\n",
      "\u001b[31m-        species_plot_merch_vol_params = OrderedDict(\u001b[m\r\n",
      "\u001b[31m-            (\u001b[m\r\n",
      "\u001b[31m-                ('Aw', {\u001b[m\r\n",
      "\u001b[31m-                    'StumpDOB': StumpDOB_Aw,\u001b[m\r\n",
      "\u001b[31m-                    'TopDib': TopDib_Aw,\u001b[m\r\n",
      "\u001b[31m-                    'StumpHeight': StumpHeight_Aw\u001b[m\r\n",
      "\u001b[31m-                 }),\u001b[m\r\n",
      "\u001b[31m-                ('Sw', {\u001b[m\r\n",
      "\u001b[31m-                    'StumpDOB': StumpDOB_Sw,\u001b[m\r\n",
      "\u001b[31m-                    'TopDib': TopDib_Sw,\u001b[m\r\n",
      "\u001b[31m-                    'StumpHeight': StumpHeight_Sw\u001b[m\r\n",
      "\u001b[31m-                 }),\u001b[m\r\n",
      "\u001b[31m-                ('Sb', {\u001b[m\r\n",
      "\u001b[31m-                    'StumpDOB': StumpDOB_Sb,\u001b[m\r\n",
      "\u001b[31m-                    'TopDib': TopDib_Sb,\u001b[m\r\n",
      "\u001b[31m-                    'StumpHeight': StumpHeight_Sb\u001b[m\r\n",
      "\u001b[31m-                 }),\u001b[m\r\n",
      "\u001b[31m-                ('Pl', {\u001b[m\r\n",
      "\u001b[31m-                    'StumpDOB': StumpDOB_Pl,\u001b[m\r\n",
      "\u001b[31m-                    'TopDib': TopDib_Pl,\u001b[m\r\n",
      "\u001b[31m-                    'StumpHeight': StumpHeight_Pl\u001b[m\r\n",
      "\u001b[31m-                 }),\u001b[m\r\n",
      "\u001b[31m-            )\u001b[m\r\n",
      "\u001b[31m-        )\u001b[m\r\n",
      "\u001b[31m-        for spec, params in species_plot_merch_vol_params.items():\u001b[m\r\n",
      "\u001b[31m-            output_DF['MerchantableVolume%s' % spec] = output_DF.apply(\u001b[m\r\n",
      "\u001b[31m-                lambda x: merchantable_volume(\u001b[m\r\n",
      "\u001b[31m-                    spec,\u001b[m\r\n",
      "\u001b[31m-                    x.at['N_bh_%sT' % spec],\u001b[m\r\n",
      "\u001b[31m-                    x.at['BA_%s' % spec],\u001b[m\r\n",
      "\u001b[31m-                    x.at['topHeight_%s' % spec],\u001b[m\r\n",
      "\u001b[31m-                    params['StumpDOB'],\u001b[m\r\n",
      "\u001b[31m-                    params['StumpHeight'],\u001b[m\r\n",
      "\u001b[31m-                    params['TopDib'],\u001b[m\r\n",
      "\u001b[31m-                    x.at['Gross_Total_Volume_%s' % spec]\u001b[m\r\n",
      "\u001b[31m-                ), axis=1\u001b[m\r\n",
      "\u001b[32m+\u001b[m\u001b[32m        for spec in SPECIES:\u001b[m\r\n",
      "\u001b[32m+\u001b[m\u001b[32m            output_DF['MerchantableVolume%s' % spec] = merchantable_volume(\u001b[m\r\n",
      "\u001b[32m+\u001b[m\u001b[32m                spec,\u001b[m\r\n",
      "\u001b[32m+\u001b[m\u001b[32m                output_DF['N_bh_%sT' % spec],\u001b[m\r\n",
      "\u001b[32m+\u001b[m\u001b[32m                output_DF['BA_%s' % spec],\u001b[m\r\n",
      "\u001b[32m+\u001b[m\u001b[32m                output_DF['topHeight_%s' % spec],\u001b[m\r\n",
      "\u001b[32m+\u001b[m\u001b[32m                output_DF['Gross_Total_Volume_%s' % spec]\u001b[m\r\n",
      "             )\u001b[m\r\n",
      " \u001b[m\r\n",
      "         output_DF['MerchantableVolume_Con'] = output_DF['MerchantableVolumeSw'] \\\u001b[m\r\n"
     ]
    }
   ],
   "source": [
    "! git diff \"HEAD~$(git log --since \"2016-11-14 19:30\" --oneline | wc -l)\" ../gypsy"
   ]
  },
  {
   "cell_type": "markdown",
   "metadata": {},
   "source": [
    "# Run timings"
   ]
  },
  {
   "cell_type": "markdown",
   "metadata": {},
   "source": [
    "From last time:\n",
    "\n",
    "```\n",
    "real\t5m36.407s\n",
    "user\t5m25.740s\n",
    "sys \t0m2.140s\n",
    "```"
   ]
  },
  {
   "cell_type": "markdown",
   "metadata": {},
   "source": [
    "After cython'ing iter functions:"
   ]
  },
  {
   "cell_type": "code",
   "execution_count": 36,
   "metadata": {
    "collapsed": false
   },
   "outputs": [],
   "source": [
    "%%bash\n",
    "# git checkout 36941343aca2df763f93192abef461093918fff4 -b vectorize-volume-functions\n",
    "# time gypsy simulate ../private-data/prepped_random_sample_300.csv --output-dir tmp\n",
    "# rm -rfd tmp\n",
    "\n",
    "# real\t4m51.287s\n",
    "# user\t4m41.770s\n",
    "# sys\t0m1.070s"
   ]
  },
  {
   "cell_type": "code",
   "execution_count": 38,
   "metadata": {
    "collapsed": false
   },
   "outputs": [
    {
     "data": {
      "text/plain": [
       "0.13392857142857142"
      ]
     },
     "execution_count": 38,
     "metadata": {},
     "output_type": "execute_result"
    }
   ],
   "source": [
    "45/336."
   ]
  },
  {
   "cell_type": "markdown",
   "metadata": {},
   "source": [
    "It yielded a 13% reduction in the time."
   ]
  },
  {
   "cell_type": "markdown",
   "metadata": {},
   "source": [
    "# Run profiling"
   ]
  },
  {
   "cell_type": "code",
   "execution_count": 2,
   "metadata": {
    "collapsed": false
   },
   "outputs": [],
   "source": [
    "from gypsy.forward_simulation import simulate_forwards_df"
   ]
  },
  {
   "cell_type": "code",
   "execution_count": 3,
   "metadata": {
    "collapsed": false
   },
   "outputs": [],
   "source": [
    "data = pd.read_csv('../private-data/prepped_random_sample_300.csv', index_col=0, nrows=10)"
   ]
  },
  {
   "cell_type": "code",
   "execution_count": 4,
   "metadata": {
    "collapsed": false
   },
   "outputs": [
    {
     "name": "stdout",
     "output_type": "stream",
     "text": [
      " \n",
      "*** Profile stats marshalled to file u'forward-sim-3.prof'. \n",
      "\n",
      "*** Profile printout saved to text file u'forward-sim-3.txt'. \n"
     ]
    }
   ],
   "source": [
    "%%prun -D forward-sim-3.prof -T forward-sim-3.txt -q\n",
    "result = simulate_forwards_df(data)"
   ]
  },
  {
   "cell_type": "code",
   "execution_count": 5,
   "metadata": {
    "collapsed": false
   },
   "outputs": [
    {
     "name": "stdout",
     "output_type": "stream",
     "text": [
      "         1076718 function calls (1074662 primitive calls) in 13.756 seconds\r\n",
      "\r\n",
      "   Ordered by: internal time\r\n",
      "\r\n",
      "   ncalls  tottime  percall  cumtime  percall filename:lineno(function)\r\n",
      "   492069    6.234    0.000    6.234    0.000 GYPSYNonSpatial.py:428(BasalAreaIncrementNonSpatialAw)\r\n",
      "     7191    2.179    0.000    8.563    0.001 GYPSYNonSpatial.py:956(BAfromZeroToDataAw)\r\n",
      "    31044    0.734    0.000    0.734    0.000 GYPSYNonSpatial.py:585(BasalAreaIncrementNonSpatialSw)\r\n",
      "    16426    0.338    0.000    0.338    0.000 GYPSYNonSpatial.py:683(BasalAreaIncrementNonSpatialPl)\r\n",
      "    79970    0.279    0.000    0.348    0.000 {isinstance}\r\n"
     ]
    }
   ],
   "source": [
    "!head forward-sim-3.txt"
   ]
  },
  {
   "cell_type": "markdown",
   "metadata": {},
   "source": [
    "# Compare performance visualizations"
   ]
  },
  {
   "cell_type": "markdown",
   "metadata": {},
   "source": [
    "Now use either of these commands to visualize the profiling\n",
    "\n",
    "```\n",
    "pyprof2calltree -k -i forward-sim-1.prof forward-sim-3.txt\n",
    "\n",
    "# or\n",
    "\n",
    "dc run --service-ports snakeviz notebooks/forward-sim-3.prof\n",
    "```"
   ]
  },
  {
   "cell_type": "markdown",
   "metadata": {
    "collapsed": true
   },
   "source": [
    "### Old"
   ]
  },
  {
   "cell_type": "markdown",
   "metadata": {},
   "source": [
    "![2nd iteration performance](forward-sim-2a-performance.png)"
   ]
  },
  {
   "cell_type": "markdown",
   "metadata": {
    "collapsed": true
   },
   "source": [
    "### New"
   ]
  },
  {
   "cell_type": "markdown",
   "metadata": {},
   "source": [
    "![3nd iteration performance](forward-sim-3-performance.png)"
   ]
  },
  {
   "cell_type": "markdown",
   "metadata": {},
   "source": [
    "## Summary of performance improvements\n",
    "\n",
    "The calculation of gross and merchantable volume is drastically faster now; under profiling it decrease to 1 second from 22 seconds.\n",
    "\n",
    "A lot of that seems to be profiler overhead, as when using gypsy simulate CLI it only got 15% faster; however I expect i/o is obfuscating the outcome there.\n"
   ]
  },
  {
   "cell_type": "markdown",
   "metadata": {},
   "source": [
    "# Profile with I/O\n"
   ]
  },
  {
   "cell_type": "code",
   "execution_count": null,
   "metadata": {
    "collapsed": true
   },
   "outputs": [],
   "source": [
    "! rm -rfd gypsy-output"
   ]
  },
  {
   "cell_type": "code",
   "execution_count": null,
   "metadata": {
    "collapsed": true
   },
   "outputs": [],
   "source": [
    "output_dir = 'gypsy-output'"
   ]
  },
  {
   "cell_type": "code",
   "execution_count": 20,
   "metadata": {
    "collapsed": false
   },
   "outputs": [
    {
     "name": "stdout",
     "output_type": "stream",
     "text": [
      " \n",
      "*** Profile stats marshalled to file u'forward-sim-1.prof'. \n",
      "\n",
      "*** Profile printout saved to text file u'forward-sim-1.txt'. \n"
     ]
    }
   ],
   "source": [
    "%%prun -D forward-sim-2.prof -T forward-sim-2.txt -q\n",
    "# restart the kernel first\n",
    "data = pd.read_csv('../private-data/prepped_random_sample_300.csv', index_col=0, nrows=10)\n",
    "result = simulate_forwards_df(data)\n",
    "os.makedirs(output_dir)\n",
    "for plot_id, df in result.items():\n",
    "    filename = '%s.csv' % plot_id\n",
    "    output_path = os.path.join(output_dir, filename)\n",
    "    df.to_csv(output_path)\n"
   ]
  },
  {
   "cell_type": "markdown",
   "metadata": {},
   "source": [
    "# Identify new areas to optimize\n",
    "\n"
   ]
  },
  {
   "cell_type": "markdown",
   "metadata": {},
   "source": [
    "- from last time:\n",
    "    - parallel (3 cores) gets us to 2 - 6 days - save for last\n",
    "    - AWS with 36 cores gets us to 4 - 12 hours ($6.70 - $20.10 USD on a c4.8xlarge instance in US West Region)\n",
    "    - aws lambda and split up the data \n",
    "- now:\n",
    "    - cython for icnrement functions epsecially bA\n",
    "    - "
   ]
  },
  {
   "cell_type": "code",
   "execution_count": null,
   "metadata": {
    "collapsed": true
   },
   "outputs": [],
   "source": []
  }
 ],
 "metadata": {
  "kernelspec": {
   "display_name": "Python 2",
   "language": "python",
   "name": "python2"
  },
  "language_info": {
   "codemirror_mode": {
    "name": "ipython",
    "version": 2
   },
   "file_extension": ".py",
   "mimetype": "text/x-python",
   "name": "python",
   "nbconvert_exporter": "python",
   "pygments_lexer": "ipython2",
   "version": "2.7.12"
  }
 },
 "nbformat": 4,
 "nbformat_minor": 1
}
