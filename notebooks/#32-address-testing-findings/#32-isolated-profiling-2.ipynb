{
 "cells": [
  {
   "cell_type": "markdown",
   "metadata": {},
   "source": [
    "# Recap\n",
    "\n",
    "In order of priority/time taken\n",
    "\n",
    "1. pandas init dict\n",
    "    - `basal_area_aw_df = pd.DataFrame(columns=['BA_Aw'], index=xrange(max_age))`\n",
    "    - find a faster way to create this data frame\n",
    "    - relax the tolerance for aspen\n",
    "2. pandas set item\n",
    "    - use at method \n",
    "    - http://pandas.pydata.org/pandas-docs/stable/indexing.html#fast-scalar-value-getting-and-setting\n",
    "3. lambdas\n",
    "    - use cython for the gross tot vol and merch vol functions\n",
    "    - might be wise to refactor these first to have conventional names, keyword arguments, and a base implementation to get rid of the boilerplate\n",
    "    - don't be deceived - the callable is a miniscule portion; series.__getitem__ is taking most of the time\n",
    "    - again, using .at here would probably be a significant improvement\n",
    "4. basalareaincremementnonspatialaw\n",
    "    - this is actually slow because of the number of times the BAFromZeroToDataAw function is called as shown above\n",
    "    - relaxing the tolerance may help\n",
    "    - indeed the tolerance is 0.01 * some value while the other factor finder functions have 0.1 tolerance i think\n",
    "    - can also use cython for the increment functions\n",
    "\n",
    "do a profiling run with IO (of reading input data and writing the plot curves to files) in next run\n"
   ]
  },
  {
   "cell_type": "markdown",
   "metadata": {},
   "source": [
    "# Characterize what is happening"
   ]
  },
  {
   "cell_type": "markdown",
   "metadata": {},
   "source": [
    "Indexing with df[] or series[] is slow for scalars (lambdas, pandas set)\n",
    "basalareaincrement is running a lot for aw, use the same tolerance as is used for other species\n",
    "\n",
    "merchvol, increment, and gross vol functions use pure python. cython would be effective."
   ]
  },
  {
   "cell_type": "markdown",
   "metadata": {},
   "source": [
    "# Decide on the action"
   ]
  },
  {
   "cell_type": "markdown",
   "metadata": {},
   "source": [
    "- use same tolerance for aw as other species\n",
    "- use at instead of [] or ix? - compare these in MWE\n",
    "- creating data frame is slow, maybe because its fromdict. see if this can be improved"
   ]
  },
  {
   "cell_type": "markdown",
   "metadata": {},
   "source": [
    "# MWEs"
   ]
  },
  {
   "cell_type": "code",
   "execution_count": 6,
   "metadata": {
    "collapsed": true
   },
   "outputs": [],
   "source": [
    "import pandas as pd\n",
    "import numpy as np"
   ]
  },
  {
   "cell_type": "markdown",
   "metadata": {},
   "source": [
    "## init from dict and xrange index vs from somethign else"
   ]
  },
  {
   "cell_type": "markdown",
   "metadata": {},
   "source": [
    "### Timings"
   ]
  },
  {
   "cell_type": "code",
   "execution_count": 8,
   "metadata": {
    "collapsed": false
   },
   "outputs": [
    {
     "name": "stdout",
     "output_type": "stream",
     "text": [
      "The slowest run took 38.51 times longer than the fastest. This could mean that an intermediate result is being cached.\n",
      "1000 loops, best of 3: 368 µs per loop\n"
     ]
    }
   ],
   "source": [
    "%%timeit\n",
    "d = pd.DataFrame(columns=['A'], index=xrange(1000))"
   ]
  },
  {
   "cell_type": "code",
   "execution_count": 9,
   "metadata": {
    "collapsed": false
   },
   "outputs": [
    {
     "name": "stdout",
     "output_type": "stream",
     "text": [
      "The slowest run took 4.03 times longer than the fastest. This could mean that an intermediate result is being cached.\n",
      "1000 loops, best of 3: 418 µs per loop\n"
     ]
    }
   ],
   "source": [
    "%%timeit\n",
    "d = pd.DataFrame(columns=['A'], index=xrange(1000), dtype='float')"
   ]
  },
  {
   "cell_type": "code",
   "execution_count": 13,
   "metadata": {
    "collapsed": false
   },
   "outputs": [
    {
     "name": "stdout",
     "output_type": "stream",
     "text": [
      "The slowest run took 5.08 times longer than the fastest. This could mean that an intermediate result is being cached.\n",
      "1000 loops, best of 3: 275 µs per loop\n"
     ]
    }
   ],
   "source": [
    "%%timeit\n",
    "d = pd.DataFrame({'A': np.zeros(1000)})"
   ]
  },
  {
   "cell_type": "markdown",
   "metadata": {},
   "source": [
    "The problem here is that dataframe init being called 7000 times because of the aw ba factor finder\n",
    "\n",
    "Maybe it's not worth using a data frame here. use a list or numpy and then convert to dataframe when the factor is found, e.g.:"
   ]
  },
  {
   "cell_type": "code",
   "execution_count": 14,
   "metadata": {
    "collapsed": false
   },
   "outputs": [
    {
     "name": "stdout",
     "output_type": "stream",
     "text": [
      "1 loop, best of 3: 2.13 s per loop\n"
     ]
    }
   ],
   "source": [
    "%%timeit\n",
    "for _ in xrange(5000):\n",
    "    d = pd.DataFrame(columns=['A'], index=xrange(1000))"
   ]
  },
  {
   "cell_type": "code",
   "execution_count": 17,
   "metadata": {
    "collapsed": false
   },
   "outputs": [
    {
     "name": "stdout",
     "output_type": "stream",
     "text": [
      "100 loops, best of 3: 14.1 ms per loop\n"
     ]
    }
   ],
   "source": [
    "%%timeit\n",
    "for _ in xrange(5000):\n",
    "    d = np.zeros(1000)"
   ]
  },
  {
   "cell_type": "markdown",
   "metadata": {},
   "source": [
    "### Review the code to see how this can be applied"
   ]
  },
  {
   "cell_type": "markdown",
   "metadata": {},
   "source": [
    "The numpy/purepython approach as potential\n",
    "\n",
    "But there's a couple issues for which the code must be examined\n",
    "\n",
    "The problem comes from the following call chain\n",
    "\n",
    "`simulate_forwards_df` (called 1x) ->  \n",
    "`get_factors_for_all_species` (called 10x, 1x per plot) ->  \n",
    "`BAfactorFinder_Aw` (called 2x, 1x per plot that has aw) ->  \n",
    "`BAfromZeroToDataAw` (called 7191 times, most of which in this chain) ->   \n",
    "`DataFrame.__init__` (called 7932 times, most of which in this chain) ...  \n",
    "\n",
    "why does `BAfromZeroToDataAw` create a dataframe? It's good to see the code:"
   ]
  },
  {
   "cell_type": "markdown",
   "metadata": {},
   "source": [
    "First, `simulate_forwards_df` calls `get_factors_for_all_species` and then `BAfromZeroToDataAw` with some parameters and simulation choice of false\n",
    "\n",
    "Note that when `simulation==False`, that is the only time that the list is created. otherwise the list is left empty.\n",
    "\n",
    "Note also that `simulation_choice` defaults to `True` in forward simulation, i.e. for when `BAfromZeroToData__` are called from forward simulation."
   ]
  },
  {
   "cell_type": "markdown",
   "metadata": {},
   "source": [
    "`get_factors_for_all_species` calls factor finder functions for each species, if the species is present, and returns a dict of the factors\n",
    "\n",
    "`BAfactorFinder_Aw` is the main suspect, for sime reason aspen has a harder time converging, so the loop in this function runs many times\n"
   ]
  },
  {
   "cell_type": "markdown",
   "metadata": {},
   "source": [
    "It calls `BAfromZeroToDataAw` with `simulation_choice` of `'yes'` and `simulation=True` **BUT IT ONLY USES THE 1ST RETURN VALUE**"
   ]
  },
  {
   "cell_type": "markdown",
   "metadata": {},
   "source": [
    "## slow lambdas\n",
    "\n",
    "**below is left here for the record, but the time is actually spent in getitem, not so much in the callables applied, that is an easy fix**\n",
    "\n",
    "With the df init improved by using np array, the next suspect is the lambdas. The method for optimizing is generally to use cython, the functiosn themselves can be examined for opportunities:\n",
    "\n",
    "they are pretty basic - everything is a float.\n",
    "\n",
    "``` python\n",
    "def MerchantableVolumeAw(N_bh_Aw, BA_Aw, topHeight_Aw, StumpDOB_Aw,\n",
    "                         StumpHeight_Aw, TopDib_Aw, Tvol_Aw):\n",
    "    # ...\n",
    "    if N_bh_Aw > 0:\n",
    "        k_Aw = (BA_Aw * 10000.0 / N_bh_Aw)**0.5\n",
    "    else:\n",
    "        k_Aw = 0\n",
    "\n",
    "    if k_Aw > 0 and topHeight_Aw > 0:\n",
    "        b0 = 0.993673\n",
    "        b1 = 923.5825\n",
    "        b2 = -3.96171\n",
    "        b3 = 3.366144\n",
    "        b4 = 0.316236\n",
    "        b5 = 0.968953\n",
    "        b6 = -1.61247\n",
    "        k1 = Tvol_Aw * (k_Aw**b0)\n",
    "        k2 = (b1* (topHeight_Aw**b2) * (StumpDOB_Aw**b3) * (StumpHeight_Aw**b4) * (TopDib_Aw**b5)  * (k_Aw**b6)) + k_Aw\n",
    "        MVol_Aw = k1/k2\n",
    "    else:\n",
    "        MVol_Aw = 0\n",
    "\n",
    "    return MVol_Aw\n",
    "\n",
    "```\n",
    "\n",
    "``` python\n",
    "def GrossTotalVolume_Aw(BA_Aw, topHeight_Aw):\n",
    "    # ...\n",
    "    Tvol_Aw = 0\n",
    "\n",
    "    if topHeight_Aw > 0:\n",
    "        a1 = 0.248718\n",
    "        a2 = 0.98568\n",
    "        a3 = 0.857278\n",
    "        a4 = -24.9961\n",
    "        Tvol_Aw = a1 * (BA_Aw**a2) * (topHeight_Aw**a3) * numpy.exp(1+(a4/((topHeight_Aw**2)+1)))\n",
    "\n",
    "    return Tvol_Aw\n",
    "```"
   ]
  },
  {
   "cell_type": "markdown",
   "metadata": {},
   "source": [
    "### Timings for getitem\n",
    "\n",
    "There's a few ways to get an item from a series:"
   ]
  },
  {
   "cell_type": "code",
   "execution_count": 23,
   "metadata": {
    "collapsed": false
   },
   "outputs": [],
   "source": [
    "d = pd.Series(np.random.randint(0,100, size=(100)), index=['%d' %d for d in xrange(100)])"
   ]
  },
  {
   "cell_type": "code",
   "execution_count": 25,
   "metadata": {
    "collapsed": false
   },
   "outputs": [
    {
     "name": "stdout",
     "output_type": "stream",
     "text": [
      "The slowest run took 14.05 times longer than the fastest. This could mean that an intermediate result is being cached.\n",
      "100000 loops, best of 3: 8.4 µs per loop\n"
     ]
    }
   ],
   "source": [
    "%%timeit\n",
    "d['1']"
   ]
  },
  {
   "cell_type": "code",
   "execution_count": 26,
   "metadata": {
    "collapsed": false
   },
   "outputs": [
    {
     "name": "stdout",
     "output_type": "stream",
     "text": [
      "The slowest run took 37.35 times longer than the fastest. This could mean that an intermediate result is being cached.\n",
      "1000000 loops, best of 3: 1.42 µs per loop\n"
     ]
    }
   ],
   "source": [
    "%%timeit \n",
    "d.at('1')"
   ]
  },
  {
   "cell_type": "code",
   "execution_count": 27,
   "metadata": {
    "collapsed": false
   },
   "outputs": [
    {
     "name": "stdout",
     "output_type": "stream",
     "text": [
      "The slowest run took 33.90 times longer than the fastest. This could mean that an intermediate result is being cached.\n",
      "100000 loops, best of 3: 1.41 µs per loop\n"
     ]
    }
   ],
   "source": [
    "%%timeit\n",
    "d.loc('1')"
   ]
  },
  {
   "cell_type": "markdown",
   "metadata": {},
   "source": [
    "`loc` or `at` are faster than `[]` indexing."
   ]
  },
  {
   "cell_type": "markdown",
   "metadata": {},
   "source": [
    "# Revise the code\n",
    "\n",
    "Go on. Do it."
   ]
  },
  {
   "cell_type": "markdown",
   "metadata": {},
   "source": [
    "# Review code changes"
   ]
  },
  {
   "cell_type": "code",
   "execution_count": 58,
   "metadata": {
    "collapsed": false
   },
   "outputs": [
    {
     "name": "stdout",
     "output_type": "stream",
     "text": [
      "4c978af Avoid call pandas `.at` 750 times for each plot\n",
      "6b541d5 Finish optimization iteration 2\n",
      "f4cdfb2 Add profile after indexing and init optimizations\n",
      "2d84c77 Use a generic function for merch and gross vol\n",
      "9528062 Index with .at[] instead of [], remove repetition\n",
      "2de01cc Record time reduction for df init\n",
      "900e847 Add timing for old gypsy simulate\n",
      "cf7d73a Add timing\n",
      "3f4fab3 Upd notebook - remove functions since code was upd\n",
      "f72349d Revise test data and tolerance\n",
      "4c5d608 Revise test data\n",
      "4091820 Revise tests to use np.testing.assert_allclose\n",
      "da080a7 Remove simulation from factorfinder functions\n",
      "6a9fcd2 Remove redundant if statements\n",
      "0339feb Factor data frames out of the fromzerotodata funcs\n",
      "6e68adc cleanup style\n",
      "179440f Add ian as author\n",
      "299a60c Add plan to reduce df.__init__ calls\n",
      "c9f0c00 Explain forward simulation loop vs fromzerotodata\n",
      "fa2302d cleanup redundant files\n",
      "4b46fe0 add notebook for next iteration of optimization\n",
      "d107dc4 Finish performance analysis after append refactor\n"
     ]
    }
   ],
   "source": [
    "%%bash\n",
    "git log --since 2016-11-09 --oneline"
   ]
  },
  {
   "cell_type": "code",
   "execution_count": 59,
   "metadata": {
    "collapsed": false,
    "scrolled": true
   },
   "outputs": [
    {
     "name": "stdout",
     "output_type": "stream",
     "text": [
      "\u001b[1mdiff --git a/gypsy/GYPSYNonSpatial.py b/gypsy/GYPSYNonSpatial.py\u001b[m\r\n",
      "\u001b[1mindex 24ec050..7b93c0f 100644\u001b[m\r\n",
      "\u001b[1m--- a/gypsy/GYPSYNonSpatial.py\u001b[m\r\n",
      "\u001b[1m+++ b/gypsy/GYPSYNonSpatial.py\u001b[m\r\n",
      "\u001b[36m@@ -15,6 +15,7 @@\u001b[m \u001b[mN_bh_Aw = estimated N and should be equal N_Aw (for Aspen in this case Aw)\u001b[m\r\n",
      " import os\u001b[m\r\n",
      " import logging\u001b[m\r\n",
      " import numpy\u001b[m\r\n",
      "\u001b[32m+\u001b[m\u001b[32mimport numpy as np\u001b[m\r\n",
      " import pandas as pd\u001b[m\r\n",
      " import matplotlib.pyplot as plt\u001b[m\r\n",
      " \u001b[m\r\n",
      "\u001b[36m@@ -878,11 +879,7 @@\u001b[m \u001b[mdef densities_and_SCs_to_250(**kwargs):\u001b[m\r\n",
      "             topHeight_Pl = ComputeGypsyTreeHeightGivenSiteIndexAndTotalAge('Pl', SI_bh_Pl, tage_Pl)\u001b[m\r\n",
      " \u001b[m\r\n",
      " \u001b[m\r\n",
      "\u001b[31m-        SC_F = SCestimate(N_bh_AwT, N_bh_SbT, N_bh_SwT, N_bh_PlT)\u001b[m\r\n",
      "\u001b[31m-        SC_Aw = SC_F[0]\u001b[m\r\n",
      "\u001b[31m-        SC_Sw = SC_F[1]\u001b[m\r\n",
      "\u001b[31m-        SC_Sb = SC_F[2]\u001b[m\r\n",
      "\u001b[31m-        SC_Pl = SC_F[3]\u001b[m\r\n",
      "\u001b[32m+\u001b[m\u001b[32m        SC_Aw, SC_Sw, SC_Sb, SC_Pl = SCestimate(N_bh_AwT, N_bh_SbT, N_bh_SwT, N_bh_PlT)\u001b[m\r\n",
      " \u001b[m\r\n",
      "         densities_along_time.append({'N_bh_AwT': N_bh_AwT, 'N_bh_SwT': N_bh_SwT, 'N_bh_SbT': N_bh_SbT, 'N_bh_PlT': N_bh_PlT,\u001b[m\r\n",
      "                                      'SC_Aw': SC_Aw, 'SC_Sw': SC_Sw, 'SC_Sb':SC_Sb, 'SC_Pl': SC_Pl,\u001b[m\r\n",
      "\u001b[36m@@ -933,7 +930,7 @@\u001b[m \u001b[mdef BAfactorFinder_Aw(**kwargs):\u001b[m\r\n",
      "     while BADiffFlag == False:\u001b[m\r\n",
      "         BA_AwB = BAfromZeroToDataAw(startTage, SI_bh_Aw, N0_Aw,\u001b[m\r\n",
      "                                     BA_Aw0, SDF_Aw0, f_Aw, densities,\u001b[m\r\n",
      "\u001b[31m-                                    simulation_choice, simulation=True)[0]\u001b[m\r\n",
      "\u001b[32m+\u001b[m\u001b[32m                                    simulation_choice)[-1]\u001b[m\r\n",
      " \u001b[m\r\n",
      "         if abs(BA_AwT - BA_AwB) < acceptableDiff:\u001b[m\r\n",
      "             BADiffFlag = True\u001b[m\r\n",
      "\u001b[36m@@ -957,7 +954,7 @@\u001b[m \u001b[mdef BAfactorFinder_Aw(**kwargs):\u001b[m\r\n",
      " \u001b[m\r\n",
      " \u001b[m\r\n",
      " def BAfromZeroToDataAw(startTage, SI_bh_Aw, N0_Aw, BA_Aw0, SDF_Aw0, f_Aw,\u001b[m\r\n",
      "\u001b[31m-                       densities, simulation_choice, simulation=True):\u001b[m\r\n",
      "\u001b[32m+\u001b[m\u001b[32m                       densities, simulation_choice):\u001b[m\r\n",
      "     '''This is a function that supports factor finder functions.\u001b[m\r\n",
      " \u001b[m\r\n",
      "     It creates the trajectory of basal area from bhage up to the inventory year\u001b[m\r\n",
      "\u001b[36m@@ -981,7 +978,7 @@\u001b[m \u001b[mdef BAfromZeroToDataAw(startTage, SI_bh_Aw, N0_Aw, BA_Aw0, SDF_Aw0, f_Aw,\u001b[m\r\n",
      "     elif simulation_choice == 'no':\u001b[m\r\n",
      "         max_age = 250\u001b[m\r\n",
      " \u001b[m\r\n",
      "\u001b[31m-    basal_area_aw_df = pd.DataFrame(columns=['BA_Aw'], index=xrange(max_age))\u001b[m\r\n",
      "\u001b[32m+\u001b[m\u001b[32m    basal_area_aw_arr = np.zeros(max_age)\u001b[m\r\n",
      "     BA_tempAw = BA_Aw0\u001b[m\r\n",
      " \u001b[m\r\n",
      "     for i, SC_Dict in enumerate(densities[0: max_age]):\u001b[m\r\n",
      "\u001b[36m@@ -990,8 +987,6 @@\u001b[m \u001b[mdef BAfromZeroToDataAw(startTage, SI_bh_Aw, N0_Aw, BA_Aw0, SDF_Aw0, f_Aw,\u001b[m\r\n",
      "         N_bh_AwT = SC_Dict['N_bh_AwT']\u001b[m\r\n",
      " \u001b[m\r\n",
      "         if N0_Aw > 0:\u001b[m\r\n",
      "\u001b[31m-            if bhage_Aw < 0:\u001b[m\r\n",
      "\u001b[31m-                BA_AwB = 0\u001b[m\r\n",
      "             if bhage_Aw > 0:\u001b[m\r\n",
      "                 SC_Aw = (SC_Aw) * f_Aw\u001b[m\r\n",
      "                 BAinc_Aw = BasalAreaIncrementNonSpatialAw('Aw', SC_Aw, SI_bh_Aw, N_bh_AwT,\u001b[m\r\n",
      "\u001b[36m@@ -1006,10 +1001,9 @@\u001b[m \u001b[mdef BAfromZeroToDataAw(startTage, SI_bh_Aw, N0_Aw, BA_Aw0, SDF_Aw0, f_Aw,\u001b[m\r\n",
      "             BA_tempAw = 0\u001b[m\r\n",
      "             BA_AwB = 0\u001b[m\r\n",
      " \u001b[m\r\n",
      "\u001b[31m-        if simulation == False:\u001b[m\r\n",
      "\u001b[31m-            basal_area_aw_df.loc[i, 'BA_Aw'] = BA_AwB\u001b[m\r\n",
      "\u001b[32m+\u001b[m\u001b[32m        basal_area_aw_arr[i] = BA_AwB\u001b[m\r\n",
      " \u001b[m\r\n",
      "\u001b[31m-    return BA_AwB, basal_area_aw_df\u001b[m\r\n",
      "\u001b[32m+\u001b[m\u001b[32m    return basal_area_aw_arr\u001b[m\r\n",
      " \u001b[m\r\n",
      " \u001b[m\r\n",
      " def BAfactorFinder_Sb(**kwargs):\u001b[m\r\n",
      "\u001b[36m@@ -1051,7 +1045,7 @@\u001b[m \u001b[mdef BAfactorFinder_Sb(**kwargs):\u001b[m\r\n",
      "     while BADiffFlag == False:\u001b[m\r\n",
      "         BA_SbB = BAfromZeroToDataSb(startTage, startTageSb, y2bh_Sb,\u001b[m\r\n",
      "                                     SC_Sb, SI_bh_Sb, N_bh_SbT, N0_Sb,\u001b[m\r\n",
      "\u001b[31m-                                    BA_Sb0, f_Sb, simulation_choice, simulation=True)[0]\u001b[m\r\n",
      "\u001b[32m+\u001b[m\u001b[32m                                    BA_Sb0, f_Sb, simulation_choice)[-1]\u001b[m\r\n",
      " \u001b[m\r\n",
      "         if abs(BA_SbT - BA_SbB) < acceptableDiff:\u001b[m\r\n",
      "             BADiffFlag = True\u001b[m\r\n",
      "\u001b[36m@@ -1075,8 +1069,7 @@\u001b[m \u001b[mdef BAfactorFinder_Sb(**kwargs):\u001b[m\r\n",
      " \u001b[m\r\n",
      " \u001b[m\r\n",
      " def BAfromZeroToDataSb(startTage, startTageSb, y2bh_Sb, SC_Sb, SI_bh_Sb,\u001b[m\r\n",
      "\u001b[31m-                       N_bh_SbT, N0_Sb, BA_Sb0, f_Sb, simulation_choice,\u001b[m\r\n",
      "\u001b[31m-                       simulation=True):\u001b[m\r\n",
      "\u001b[32m+\u001b[m\u001b[32m                       N_bh_SbT, N0_Sb, BA_Sb0, f_Sb, simulation_choice):\u001b[m\r\n",
      "     '''This is a function that supports factor finder functions.\u001b[m\r\n",
      " \u001b[m\r\n",
      "     It creates the trajectory of basal area from bhage up to the inventory year\u001b[m\r\n",
      "\u001b[36m@@ -1101,7 +1094,7 @@\u001b[m \u001b[mdef BAfromZeroToDataSb(startTage, startTageSb, y2bh_Sb, SC_Sb, SI_bh_Sb,\u001b[m\r\n",
      "         max_age = 250\u001b[m\r\n",
      " \u001b[m\r\n",
      "     t = 0\u001b[m\r\n",
      "\u001b[31m-    basal_area_sb_df = pd.DataFrame(columns=['BA_Sb'], index=xrange(max_age))\u001b[m\r\n",
      "\u001b[32m+\u001b[m\u001b[32m    basal_area_arr = np.zeros(max_age)\u001b[m\r\n",
      "     BA_tempSb = BA_Sb0\u001b[m\r\n",
      " \u001b[m\r\n",
      "     while t < max_age:\u001b[m\r\n",
      "\u001b[36m@@ -1109,9 +1102,6 @@\u001b[m \u001b[mdef BAfromZeroToDataSb(startTage, startTageSb, y2bh_Sb, SC_Sb, SI_bh_Sb,\u001b[m\r\n",
      "         bhage_Sb = tage_Sb - y2bh_Sb\u001b[m\r\n",
      " \u001b[m\r\n",
      "         if N0_Sb > 0:\u001b[m\r\n",
      "\u001b[31m-            if bhage_Sb < 0:\u001b[m\r\n",
      "\u001b[31m-                BA_SbB = 0\u001b[m\r\n",
      "\u001b[31m-\u001b[m\r\n",
      "             if bhage_Sb > 0:\u001b[m\r\n",
      "                 SC_Sb = (SC_Sb) * f_Sb\u001b[m\r\n",
      "                 BAinc_Sb = BasalAreaIncrementNonSpatialSb('Sb', SC_Sb, SI_bh_Sb, N_bh_SbT,\u001b[m\r\n",
      "\u001b[36m@@ -1126,13 +1116,12 @@\u001b[m \u001b[mdef BAfromZeroToDataSb(startTage, startTageSb, y2bh_Sb, SC_Sb, SI_bh_Sb,\u001b[m\r\n",
      "             BA_tempSb = 0\u001b[m\r\n",
      "             BA_SbB = 0\u001b[m\r\n",
      " \u001b[m\r\n",
      "\u001b[31m-        if simulation == False:\u001b[m\r\n",
      "\u001b[31m-            basal_area_sb_df.loc[t, 'BA_Sb'] = BA_SbB\u001b[m\r\n",
      "\u001b[32m+\u001b[m\u001b[32m        basal_area_arr[t] = BA_SbB\u001b[m\r\n",
      " \u001b[m\r\n",
      "         t += 1\u001b[m\r\n",
      "         startTageSb += 1\u001b[m\r\n",
      " \u001b[m\r\n",
      "\u001b[31m-    return BA_SbB, basal_area_sb_df\u001b[m\r\n",
      "\u001b[32m+\u001b[m\u001b[32m    return basal_area_arr\u001b[m\r\n",
      " \u001b[m\r\n",
      " \u001b[m\r\n",
      " def BAfactorFinder_Sw(**kwargs):\u001b[m\r\n",
      "\u001b[36m@@ -1182,7 +1171,7 @@\u001b[m \u001b[mdef BAfactorFinder_Sw(**kwargs):\u001b[m\r\n",
      "         BA_SwB = BAfromZeroToDataSw(startTage, startTageSw, y2bh_Sw,\u001b[m\r\n",
      "                                     SC_Sw, SI_bh_Sw, N_bh_SwT, N0_Sw,\u001b[m\r\n",
      "                                     SDF_Aw0, SDF_Pl0, SDF_Sb0, BA_Sw0,\u001b[m\r\n",
      "\u001b[31m-                                    f_Sw, simulation_choice, simulation=True)[0]\u001b[m\r\n",
      "\u001b[32m+\u001b[m\u001b[32m                                    f_Sw, simulation_choice)[-1]\u001b[m\r\n",
      "         if abs(BA_SwT - BA_SwB) < acceptableDiff:\u001b[m\r\n",
      "             BADiffFlag = True\u001b[m\r\n",
      "         else:\u001b[m\r\n",
      "\u001b[36m@@ -1206,7 +1195,7 @@\u001b[m \u001b[mdef BAfactorFinder_Sw(**kwargs):\u001b[m\r\n",
      " \u001b[m\r\n",
      " def BAfromZeroToDataSw(startTage, startTageSw, y2bh_Sw, SC_Sw, SI_bh_Sw,\u001b[m\r\n",
      "                        N_bh_SwT, N0_Sw, SDF_Aw0, SDF_Pl0, SDF_Sb0, BA_Sw0,\u001b[m\r\n",
      "\u001b[31m-                       f_Sw, simulation_choice, simulation=True):\u001b[m\r\n",
      "\u001b[32m+\u001b[m\u001b[32m                       f_Sw, simulation_choice):\u001b[m\r\n",
      "     '''This is a function that supports factor finder functions.\u001b[m\r\n",
      " \u001b[m\r\n",
      "     It created the trajectory of basal area from bhage up to the inventory year\u001b[m\r\n",
      "\u001b[36m@@ -1233,7 +1222,7 @@\u001b[m \u001b[mdef BAfromZeroToDataSw(startTage, startTageSw, y2bh_Sw, SC_Sw, SI_bh_Sw,\u001b[m\r\n",
      "     elif simulation_choice == 'no':\u001b[m\r\n",
      "         max_age = 250\u001b[m\r\n",
      " \u001b[m\r\n",
      "\u001b[31m-    basal_area_sw_df = pd.DataFrame(columns=['BA_Sw'], index=xrange(max_age))\u001b[m\r\n",
      "\u001b[32m+\u001b[m\u001b[32m    basal_area_arr = np.zeros(max_age)\u001b[m\r\n",
      "     t = 0\u001b[m\r\n",
      "     BA_tempSw = BA_Sw0\u001b[m\r\n",
      " \u001b[m\r\n",
      "\u001b[36m@@ -1242,8 +1231,6 @@\u001b[m \u001b[mdef BAfromZeroToDataSw(startTage, startTageSw, y2bh_Sw, SC_Sw, SI_bh_Sw,\u001b[m\r\n",
      "         bhage_Sw = tage_Sw - y2bh_Sw\u001b[m\r\n",
      " \u001b[m\r\n",
      "         if N0_Sw > 0:\u001b[m\r\n",
      "\u001b[31m-            if bhage_Sw < 0:\u001b[m\r\n",
      "\u001b[31m-                BA_SwB = 0\u001b[m\r\n",
      "             if bhage_Sw > 0:\u001b[m\r\n",
      "                 SC_Sw = (SC_Sw) * f_Sw\u001b[m\r\n",
      "                 BAinc_Sw = BasalAreaIncrementNonSpatialSw('Sw', SC_Sw, SI_bh_Sw, N_bh_SwT, N0_Sw, bhage_Sw, SDF_Aw0, SDF_Pl0, SDF_Sb0, BA_tempSw)\u001b[m\r\n",
      "\u001b[36m@@ -1257,13 +1244,12 @@\u001b[m \u001b[mdef BAfromZeroToDataSw(startTage, startTageSw, y2bh_Sw, SC_Sw, SI_bh_Sw,\u001b[m\r\n",
      "             BA_tempSw = 0\u001b[m\r\n",
      "             BA_SwB = 0\u001b[m\r\n",
      " \u001b[m\r\n",
      "\u001b[31m-        if simulation == False:\u001b[m\r\n",
      "\u001b[31m-            basal_area_sw_df.loc[t, 'BA_Sw'] = BA_SwB\u001b[m\r\n",
      "\u001b[32m+\u001b[m\u001b[32m        basal_area_arr[t] = BA_SwB\u001b[m\r\n",
      " \u001b[m\r\n",
      "         t += 1\u001b[m\r\n",
      "         startTageSw += 1\u001b[m\r\n",
      " \u001b[m\r\n",
      "\u001b[31m-    return BA_SwB, basal_area_sw_df\u001b[m\r\n",
      "\u001b[32m+\u001b[m\u001b[32m    return basal_area_arr\u001b[m\r\n",
      " \u001b[m\r\n",
      " \u001b[m\r\n",
      " def BAfactorFinder_Pl(**kwargs):\u001b[m\r\n",
      "\u001b[36m@@ -1302,8 +1288,8 @@\u001b[m \u001b[mdef BAfactorFinder_Pl(**kwargs):\u001b[m\r\n",
      "     BA_PlT = kwargs['BA_PlT']\u001b[m\r\n",
      "     simulation_choice = 'yes'\u001b[m\r\n",
      "     # the start guess is critical. If it is too large,\u001b[m\r\n",
      "\u001b[31m-    #it may crash before the simulation. 100 worked\u001b[m\r\n",
      "\u001b[31m-    #for a sample os stands. 1000 failed\u001b[m\r\n",
      "\u001b[32m+\u001b[m\u001b[32m    # it may crash before the simulation. 100 worked\u001b[m\r\n",
      "\u001b[32m+\u001b[m\u001b[32m    # for a sample os stands. 1000 failed\u001b[m\r\n",
      "     f_Pl = 100\u001b[m\r\n",
      "     acceptableDiff = 0.1\u001b[m\r\n",
      "     BADiffFlag = False\u001b[m\r\n",
      "\u001b[36m@@ -1314,7 +1300,7 @@\u001b[m \u001b[mdef BAfactorFinder_Pl(**kwargs):\u001b[m\r\n",
      "         BA_PlB = BAfromZeroToDataPl(startTage, startTagePl, y2bh_Pl,\u001b[m\r\n",
      "                                     SC_Pl, SI_bh_Pl, N_bh_PlT, N0_Pl,\u001b[m\r\n",
      "                                     SDF_Aw0, SDF_Sw0, SDF_Sb0, BA_Pl0, f_Pl,\u001b[m\r\n",
      "\u001b[31m-                                    simulation_choice, simulation=True)[0]\u001b[m\r\n",
      "\u001b[32m+\u001b[m\u001b[32m                                    simulation_choice)[-1]\u001b[m\r\n",
      " \u001b[m\r\n",
      "         if abs(BA_PlT - BA_PlB) < acceptableDiff:\u001b[m\r\n",
      "             BADiffFlag = True\u001b[m\r\n",
      "\u001b[36m@@ -1339,7 +1325,7 @@\u001b[m \u001b[mdef BAfactorFinder_Pl(**kwargs):\u001b[m\r\n",
      " \u001b[m\r\n",
      " def BAfromZeroToDataPl(startTage, startTagePl, y2bh_Pl, SC_Pl, SI_bh_Pl,\u001b[m\r\n",
      "                        N_bh_PlT, N0_Pl, SDF_Aw0, SDF_Sw0, SDF_Sb0, BA_Pl0,\u001b[m\r\n",
      "\u001b[31m-                       f_Pl, simulation_choice, simulation=True):\u001b[m\r\n",
      "\u001b[32m+\u001b[m\u001b[32m                       f_Pl, simulation_choice):\u001b[m\r\n",
      "     '''This is a function that supports factor finder functions.\u001b[m\r\n",
      " \u001b[m\r\n",
      "     It created the trajectory of basal area from bhage up to the inventory year\u001b[m\r\n",
      "\u001b[36m@@ -1366,7 +1352,7 @@\u001b[m \u001b[mdef BAfromZeroToDataPl(startTage, startTagePl, y2bh_Pl, SC_Pl, SI_bh_Pl,\u001b[m\r\n",
      "     elif simulation_choice == 'no':\u001b[m\r\n",
      "         max_age = 250\u001b[m\r\n",
      " \u001b[m\r\n",
      "\u001b[31m-    basal_area_pl_df = pd.DataFrame(columns=['BA_Pl'], index=xrange(max_age))\u001b[m\r\n",
      "\u001b[32m+\u001b[m\u001b[32m    basal_area_arr = np.zeros(max_age)\u001b[m\r\n",
      "     t = 0\u001b[m\r\n",
      "     BA_tempPl = BA_Pl0\u001b[m\r\n",
      " \u001b[m\r\n",
      "\u001b[36m@@ -1374,8 +1360,6 @@\u001b[m \u001b[mdef BAfromZeroToDataPl(startTage, startTagePl, y2bh_Pl, SC_Pl, SI_bh_Pl,\u001b[m\r\n",
      "         tage_Pl = startTagePl - startTage\u001b[m\r\n",
      "         bhage_Pl = tage_Pl - y2bh_Pl\u001b[m\r\n",
      "         if N0_Pl > 0:\u001b[m\r\n",
      "\u001b[31m-            if bhage_Pl < 0:\u001b[m\r\n",
      "\u001b[31m-                BA_PlB = 0\u001b[m\r\n",
      "             if bhage_Pl > 0:\u001b[m\r\n",
      "                 BAinc_Pl = f_Pl * BasalAreaIncrementNonSpatialPl('Pl', SC_Pl, SI_bh_Pl, N_bh_PlT, N0_Pl,\u001b[m\r\n",
      "                                                                  bhage_Pl, SDF_Aw0, SDF_Sw0, SDF_Sb0, BA_tempPl)\u001b[m\r\n",
      "\u001b[36m@@ -1389,13 +1373,12 @@\u001b[m \u001b[mdef BAfromZeroToDataPl(startTage, startTagePl, y2bh_Pl, SC_Pl, SI_bh_Pl,\u001b[m\r\n",
      "             BA_tempPl = 0\u001b[m\r\n",
      "             BA_PlB = 0\u001b[m\r\n",
      " \u001b[m\r\n",
      "\u001b[31m-        if simulation == False:\u001b[m\r\n",
      "\u001b[31m-            basal_area_pl_df.loc[t, 'BA_Pl'] = BA_PlB\u001b[m\r\n",
      "\u001b[32m+\u001b[m\u001b[32m        basal_area_arr[t] = BA_PlB\u001b[m\r\n",
      " \u001b[m\r\n",
      "         t += 1\u001b[m\r\n",
      "         startTagePl += 1\u001b[m\r\n",
      " \u001b[m\r\n",
      "\u001b[31m-    return BA_PlB, basal_area_pl_df\u001b[m\r\n",
      "\u001b[32m+\u001b[m\u001b[32m    return basal_area_arr\u001b[m\r\n",
      " \u001b[m\r\n",
      " \u001b[m\r\n",
      " def GrossTotalVolume_Aw(BA_Aw, topHeight_Aw):\u001b[m\r\n",
      "\u001b[36m@@ -1475,6 +1458,15 @@\u001b[m \u001b[mdef GrossTotalVolume_Pl(BA_Pl, topHeight_Pl):\u001b[m\r\n",
      " \u001b[m\r\n",
      "     return Tvol_Pl\u001b[m\r\n",
      " \u001b[m\r\n",
      "\u001b[32m+\u001b[m\u001b[32mdef gross_total_volume(species, *args):\u001b[m\r\n",
      "\u001b[32m+\u001b[m\u001b[32m    return {\u001b[m\r\n",
      "\u001b[32m+\u001b[m\u001b[32m        'Aw': GrossTotalVolume_Aw,\u001b[m\r\n",
      "\u001b[32m+\u001b[m\u001b[32m        'Sw': GrossTotalVolume_Sw,\u001b[m\r\n",
      "\u001b[32m+\u001b[m\u001b[32m        'Sb': GrossTotalVolume_Sb,\u001b[m\r\n",
      "\u001b[32m+\u001b[m\u001b[32m        'Pl': GrossTotalVolume_Pl,\u001b[m\r\n",
      "\u001b[32m+\u001b[m\u001b[32m    }[species](*args)\u001b[m\r\n",
      "\u001b[32m+\u001b[m\r\n",
      "\u001b[32m+\u001b[m\r\n",
      " \u001b[m\r\n",
      " def MerchantableVolumeAw(N_bh_Aw, BA_Aw, topHeight_Aw, StumpDOB_Aw,\u001b[m\r\n",
      "                          StumpHeight_Aw, TopDib_Aw, Tvol_Aw):\u001b[m\r\n",
      "\u001b[36m@@ -1628,6 +1620,15 @@\u001b[m \u001b[mdef MerchantableVolumePl(N_bh_Pl, BA_Pl, topHeight_Pl, StumpDOB_Pl,\u001b[m\r\n",
      "     return MVol_Pl\u001b[m\r\n",
      " \u001b[m\r\n",
      " \u001b[m\r\n",
      "\u001b[32m+\u001b[m\u001b[32mdef merchantable_volume(species, *args):\u001b[m\r\n",
      "\u001b[32m+\u001b[m\u001b[32m    return {\u001b[m\r\n",
      "\u001b[32m+\u001b[m\u001b[32m        'Aw': MerchantableVolumeAw,\u001b[m\r\n",
      "\u001b[32m+\u001b[m\u001b[32m        'Sw': MerchantableVolumeSw,\u001b[m\r\n",
      "\u001b[32m+\u001b[m\u001b[32m        'Sb': MerchantableVolumeSb,\u001b[m\r\n",
      "\u001b[32m+\u001b[m\u001b[32m        'Pl': MerchantableVolumePl,\u001b[m\r\n",
      "\u001b[32m+\u001b[m\u001b[32m    }[species](*args)\u001b[m\r\n",
      "\u001b[32m+\u001b[m\r\n",
      "\u001b[32m+\u001b[m\r\n",
      " def _plot_simulation_variables(simulation_df, ax=None, plot_vars=None, y_lab=''):\u001b[m\r\n",
      "     \"\"\"\u001b[m\r\n",
      "     Keyword Arguments:\u001b[m\r\n",
      "\u001b[1mdiff --git a/gypsy/forward_simulation.py b/gypsy/forward_simulation.py\u001b[m\r\n",
      "\u001b[1mindex 60b1320..e96705d 100644\u001b[m\r\n",
      "\u001b[1m--- a/gypsy/forward_simulation.py\u001b[m\r\n",
      "\u001b[1m+++ b/gypsy/forward_simulation.py\u001b[m\r\n",
      "\u001b[36m@@ -1,13 +1,10 @@\u001b[m\r\n",
      " # -*- coding: utf-8 -*-\u001b[m\r\n",
      "\u001b[31m-\"\"\"\u001b[m\r\n",
      "\u001b[31m-Created on Fri Apr 29 16:06:29 2016\u001b[m\r\n",
      "\u001b[31m-\u001b[m\r\n",
      "\u001b[31m-@author: juliannosambatti\u001b[m\r\n",
      "\u001b[31m-\"\"\"\u001b[m\r\n",
      "\u001b[32m+\u001b[m\u001b[32m\"\"\"Simulation\"\"\"\u001b[m\r\n",
      " import logging\u001b[m\r\n",
      " import datetime\u001b[m\r\n",
      " import numpy as np\u001b[m\r\n",
      " import pandas as pd\u001b[m\r\n",
      "\u001b[32m+\u001b[m\u001b[32mfrom collections import OrderedDict\u001b[m\r\n",
      " \u001b[m\r\n",
      " from utils import _log_loop_progress\u001b[m\r\n",
      " from GYPSYNonSpatial import (\u001b[m\r\n",
      "\u001b[36m@@ -23,15 +20,9 @@\u001b[m \u001b[mfrom GYPSYNonSpatial import (\u001b[m\r\n",
      "     BAfromZeroToDataSw,\u001b[m\r\n",
      "     BAfactorFinder_Pl,\u001b[m\r\n",
      "     BAfromZeroToDataPl,\u001b[m\r\n",
      "\u001b[31m-    MerchantableVolumeAw,\u001b[m\r\n",
      "\u001b[31m-    MerchantableVolumeSw,\u001b[m\r\n",
      "\u001b[31m-    MerchantableVolumeSb,\u001b[m\r\n",
      "\u001b[31m-    MerchantableVolumePl,\u001b[m\r\n",
      "\u001b[32m+\u001b[m\u001b[32m    merchantable_volume,\u001b[m\r\n",
      "     densities_and_SCs_to_250,\u001b[m\r\n",
      "\u001b[31m-    GrossTotalVolume_Aw,\u001b[m\r\n",
      "\u001b[31m-    GrossTotalVolume_Sw,\u001b[m\r\n",
      "\u001b[31m-    GrossTotalVolume_Sb,\u001b[m\r\n",
      "\u001b[31m-    GrossTotalVolume_Pl\u001b[m\r\n",
      "\u001b[32m+\u001b[m\u001b[32m    gross_total_volume,\u001b[m\r\n",
      " )\u001b[m\r\n",
      " \u001b[m\r\n",
      " logger = logging.getLogger(__name__)\u001b[m\r\n",
      "\u001b[36m@@ -40,6 +31,7 @@\u001b[m \u001b[mlogger = logging.getLogger(__name__)\u001b[m\r\n",
      " #N (or density), current Basal Area,\u001b[m\r\n",
      " #Measured Percent Stocking, StumpDOB , StumpHeight, TopDib, SI, sp proportion\u001b[m\r\n",
      " \u001b[m\r\n",
      "\u001b[32m+\u001b[m\u001b[32mSPECIES = ('Aw', 'Sw', 'Sb', 'Pl')\u001b[m\r\n",
      " \u001b[m\r\n",
      " def BA_zeroAw(BA_Aw0, BA_AwT):\u001b[m\r\n",
      "     while BA_Aw0 > BA_AwT * 0.5:\u001b[m\r\n",
      "\u001b[36m@@ -127,101 +119,74 @@\u001b[m \u001b[mdef simulate_forwards_df(plot_df, simulation_choice='yes'):\u001b[m\r\n",
      "     Return:\u001b[m\r\n",
      "     !TODO!\u001b[m\r\n",
      "     \"\"\"\u001b[m\r\n",
      "\u001b[31m-\u001b[m\r\n",
      "     output_dict = {}\u001b[m\r\n",
      "\u001b[31m-\u001b[m\r\n",
      "     logger.debug('Starting forwards simulation')\u001b[m\r\n",
      "     n_rows = plot_df.shape[0]\u001b[m\r\n",
      "\u001b[32m+\u001b[m\r\n",
      "     for _, row in plot_df.iterrows():\u001b[m\r\n",
      "         start = datetime.datetime.now()\u001b[m\r\n",
      "         _log_loop_progress(_, n_rows)\u001b[m\r\n",
      "         plot_id = str(int(row['PlotID']))\u001b[m\r\n",
      "\u001b[31m-        logger.info('Starting simulation for plot: %s', plot_id)\u001b[m\r\n",
      "\u001b[31m-        SI_bh_Aw = row['SI_Aw']\u001b[m\r\n",
      "\u001b[31m-        SI_bh_Sw = row['SI_Sw']\u001b[m\r\n",
      "\u001b[31m-        SI_bh_Pl = row['SI_Pl']\u001b[m\r\n",
      "\u001b[31m-        SI_bh_Sb = row['SI_Sb']\u001b[m\r\n",
      "\u001b[31m-\u001b[m\r\n",
      "\u001b[31m-        N_bh_AwT = row['N_Aw']\u001b[m\r\n",
      "\u001b[31m-        N_bh_SwT = row['N_Sw']\u001b[m\r\n",
      "\u001b[31m-        N_bh_PlT = row['N_Pl']\u001b[m\r\n",
      "\u001b[31m-        N_bh_SbT = row['N_Sb']\u001b[m\r\n",
      "\u001b[31m-\u001b[m\r\n",
      "\u001b[31m-        y2bh_Aw = row['y2bh_Aw']\u001b[m\r\n",
      "\u001b[31m-        y2bh_Sw = row['y2bh_Sw']\u001b[m\r\n",
      "\u001b[31m-        y2bh_Sb = row['y2bh_Sb']\u001b[m\r\n",
      "\u001b[31m-        y2bh_Pl = row['y2bh_Pl']\u001b[m\r\n",
      "\u001b[31m-\u001b[m\r\n",
      "\u001b[31m-        tage_AwT = row['tage_Aw']\u001b[m\r\n",
      "\u001b[31m-        tage_SwT = row['tage_Sw']\u001b[m\r\n",
      "\u001b[31m-        tage_PlT = row['tage_Pl']\u001b[m\r\n",
      "\u001b[31m-        tage_SbT = row['tage_Sb']\u001b[m\r\n",
      "\u001b[31m-\u001b[m\r\n",
      "\u001b[31m-\u001b[m\r\n",
      "\u001b[31m-        BA_AwT = row['BA_Aw']\u001b[m\r\n",
      "\u001b[31m-        BA_SwT = row['BA_Sw']\u001b[m\r\n",
      "\u001b[31m-        BA_PlT = row['BA_Pl']\u001b[m\r\n",
      "\u001b[31m-        BA_SbT = row['BA_Sb']\u001b[m\r\n",
      "\u001b[31m-\u001b[m\r\n",
      "\u001b[31m-\u001b[m\r\n",
      "\u001b[31m-        SDF_Aw0 = row['SDF_Aw']\u001b[m\r\n",
      "\u001b[31m-        SDF_Sw0 = row['SDF_Sw']\u001b[m\r\n",
      "\u001b[31m-        SDF_Pl0 = row['SDF_Pl']\u001b[m\r\n",
      "\u001b[31m-        SDF_Sb0 = row['SDF_Sb']\u001b[m\r\n",
      "\u001b[31m-\u001b[m\r\n",
      "\u001b[31m-        N0_Aw = row['N0_Aw']\u001b[m\r\n",
      "\u001b[31m-        N0_Sw = row['N0_Sw']\u001b[m\r\n",
      "\u001b[31m-        N0_Pl = row['N0_Pl']\u001b[m\r\n",
      "\u001b[31m-        N0_Sb = row['N0_Sb']\u001b[m\r\n",
      " \u001b[m\r\n",
      "\u001b[32m+\u001b[m\u001b[32m        logger.info('Starting simulation for plot: %s', plot_id)\u001b[m\r\n",
      "\u001b[32m+\u001b[m\u001b[32m        SI_bh_Aw = row.at['SI_Aw']\u001b[m\r\n",
      "\u001b[32m+\u001b[m\u001b[32m        SI_bh_Sw = row.at['SI_Sw']\u001b[m\r\n",
      "\u001b[32m+\u001b[m\u001b[32m        SI_bh_Pl = row.at['SI_Pl']\u001b[m\r\n",
      "\u001b[32m+\u001b[m\u001b[32m        SI_bh_Sb = row.at['SI_Sb']\u001b[m\r\n",
      "\u001b[32m+\u001b[m\u001b[32m        N_bh_AwT = row.at['N_Aw']\u001b[m\r\n",
      "\u001b[32m+\u001b[m\u001b[32m        N_bh_SwT = row.at['N_Sw']\u001b[m\r\n",
      "\u001b[32m+\u001b[m\u001b[32m        N_bh_PlT = row.at['N_Pl']\u001b[m\r\n",
      "\u001b[32m+\u001b[m\u001b[32m        N_bh_SbT = row.at['N_Sb']\u001b[m\r\n",
      "\u001b[32m+\u001b[m\u001b[32m        y2bh_Aw = row.at['y2bh_Aw']\u001b[m\r\n",
      "\u001b[32m+\u001b[m\u001b[32m        y2bh_Sw = row.at['y2bh_Sw']\u001b[m\r\n",
      "\u001b[32m+\u001b[m\u001b[32m        y2bh_Sb = row.at['y2bh_Sb']\u001b[m\r\n",
      "\u001b[32m+\u001b[m\u001b[32m        y2bh_Pl = row.at['y2bh_Pl']\u001b[m\r\n",
      "\u001b[32m+\u001b[m\u001b[32m        tage_AwT = row.at['tage_Aw']\u001b[m\r\n",
      "\u001b[32m+\u001b[m\u001b[32m        tage_SwT = row.at['tage_Sw']\u001b[m\r\n",
      "\u001b[32m+\u001b[m\u001b[32m        tage_PlT = row.at['tage_Pl']\u001b[m\r\n",
      "\u001b[32m+\u001b[m\u001b[32m        tage_SbT = row.at['tage_Sb']\u001b[m\r\n",
      "\u001b[32m+\u001b[m\u001b[32m        BA_AwT = row.at['BA_Aw']\u001b[m\r\n",
      "\u001b[32m+\u001b[m\u001b[32m        BA_SwT = row.at['BA_Sw']\u001b[m\r\n",
      "\u001b[32m+\u001b[m\u001b[32m        BA_PlT = row.at['BA_Pl']\u001b[m\r\n",
      "\u001b[32m+\u001b[m\u001b[32m        BA_SbT = row.at['BA_Sb']\u001b[m\r\n",
      "\u001b[32m+\u001b[m\u001b[32m        SDF_Aw0 = row.at['SDF_Aw']\u001b[m\r\n",
      "\u001b[32m+\u001b[m\u001b[32m        SDF_Sw0 = row.at['SDF_Sw']\u001b[m\r\n",
      "\u001b[32m+\u001b[m\u001b[32m        SDF_Pl0 = row.at['SDF_Pl']\u001b[m\r\n",
      "\u001b[32m+\u001b[m\u001b[32m        SDF_Sb0 = row.at['SDF_Sb']\u001b[m\r\n",
      "\u001b[32m+\u001b[m\u001b[32m        N0_Aw = row.at['N0_Aw']\u001b[m\r\n",
      "\u001b[32m+\u001b[m\u001b[32m        N0_Sw = row.at['N0_Sw']\u001b[m\r\n",
      "\u001b[32m+\u001b[m\u001b[32m        N0_Pl = row.at['N0_Pl']\u001b[m\r\n",
      "\u001b[32m+\u001b[m\u001b[32m        N0_Sb = row.at['N0_Sb']\u001b[m\r\n",
      "\u001b[32m+\u001b[m\u001b[32m        StumpDOB_Aw = row.at['StumpDOB_Aw']\u001b[m\r\n",
      "\u001b[32m+\u001b[m\u001b[32m        StumpDOB_Sb = row.at['StumpDOB_Sb']\u001b[m\r\n",
      "\u001b[32m+\u001b[m\u001b[32m        StumpDOB_Sw = row.at['StumpDOB_Sw']\u001b[m\r\n",
      "\u001b[32m+\u001b[m\u001b[32m        StumpDOB_Pl = row.at['StumpDOB_Pl']\u001b[m\r\n",
      "\u001b[32m+\u001b[m\u001b[32m        StumpHeight_Aw = row.at['StumpHeight_Aw']\u001b[m\r\n",
      "\u001b[32m+\u001b[m\u001b[32m        StumpHeight_Sb = row.at['StumpHeight_Sb']\u001b[m\r\n",
      "\u001b[32m+\u001b[m\u001b[32m        StumpHeight_Sw = row.at['StumpHeight_Sw']\u001b[m\r\n",
      "\u001b[32m+\u001b[m\u001b[32m        StumpHeight_Pl = row.at['StumpHeight_Pl']\u001b[m\r\n",
      "\u001b[32m+\u001b[m\u001b[32m        TopDib_Aw = row.at['TopDib_Aw']\u001b[m\r\n",
      "\u001b[32m+\u001b[m\u001b[32m        TopDib_Sb = row.at['TopDib_Sb']\u001b[m\r\n",
      "\u001b[32m+\u001b[m\u001b[32m        TopDib_Sw = row.at['TopDib_Sw']\u001b[m\r\n",
      "\u001b[32m+\u001b[m\u001b[32m        TopDib_Pl = row.at['TopDib_Pl']\u001b[m\r\n",
      " \u001b[m\r\n",
      "         BA_Aw0 = BA0_lower_BAT_Aw(BA_AwT)\u001b[m\r\n",
      "         BA_Sw0 = BA0_lower_BAT_Sw(BA_SwT)\u001b[m\r\n",
      "         BA_Sb0 = BA0_lower_BAT_Sb(BA_SbT)\u001b[m\r\n",
      "         BA_Pl0 = BA0_lower_BAT_Pl(BA_PlT)\u001b[m\r\n",
      "\u001b[31m-\u001b[m\r\n",
      "\u001b[31m-        SC_0 = SCestimate(N0_Aw, N0_Sb, N0_Sw, N0_Pl)\u001b[m\r\n",
      "\u001b[31m-        SC_Aw0 = SC_0[0]\u001b[m\r\n",
      "\u001b[31m-        SC_Sw0 = SC_0[1]\u001b[m\r\n",
      "\u001b[31m-        SC_Sb0 = SC_0[2]\u001b[m\r\n",
      "\u001b[31m-        SC_Pl0 = SC_0[3]\u001b[m\r\n",
      "\u001b[31m-\u001b[m\r\n",
      "\u001b[31m-        SC_Aw = SC_Aw0\u001b[m\r\n",
      "\u001b[31m-        SC_Sw = SC_Sw0\u001b[m\r\n",
      "\u001b[31m-        SC_Sb = SC_Sb0\u001b[m\r\n",
      "\u001b[31m-        SC_Pl = SC_Pl0\u001b[m\r\n",
      "\u001b[31m-\u001b[m\r\n",
      "\u001b[31m-\u001b[m\r\n",
      "\u001b[31m-        StumpDOB_Aw = row['StumpDOB_Aw']\u001b[m\r\n",
      "\u001b[31m-        StumpHeight_Aw = row['StumpHeight_Aw']\u001b[m\r\n",
      "\u001b[31m-        TopDib_Aw = row['TopDib_Aw']\u001b[m\r\n",
      "\u001b[31m-\u001b[m\r\n",
      "\u001b[31m-        StumpDOB_Sb = row['StumpDOB_Sb']\u001b[m\r\n",
      "\u001b[31m-        StumpHeight_Sb = row['StumpHeight_Sb']\u001b[m\r\n",
      "\u001b[31m-        TopDib_Sb = row['TopDib_Sb']\u001b[m\r\n",
      "\u001b[31m-\u001b[m\r\n",
      "\u001b[31m-        StumpDOB_Sw = row['StumpDOB_Sw']\u001b[m\r\n",
      "\u001b[31m-        StumpHeight_Sw = row['StumpHeight_Sw']\u001b[m\r\n",
      "\u001b[31m-        TopDib_Sw = row['TopDib_Sw']\u001b[m\r\n",
      "\u001b[31m-\u001b[m\r\n",
      "\u001b[31m-        StumpDOB_Pl = row['StumpDOB_Pl']\u001b[m\r\n",
      "\u001b[31m-        StumpHeight_Pl = row['StumpHeight_Pl']\u001b[m\r\n",
      "\u001b[31m-        TopDib_Pl = row['TopDib_Pl']\u001b[m\r\n",
      "\u001b[31m-\u001b[m\r\n",
      "\u001b[32m+\u001b[m\u001b[32m        SC_Aw, SC_Sw, SC_Sb, SC_Pl = SCestimate(N0_Aw, N0_Sb, N0_Sw, N0_Pl)\u001b[m\r\n",
      " \u001b[m\r\n",
      "         tageData = [tage_AwT, tage_SwT, tage_PlT, tage_SbT]\u001b[m\r\n",
      "         startTageAw = tageData[0]\u001b[m\r\n",
      "         startTageSw = tageData[1]\u001b[m\r\n",
      "         startTagePl = tageData[2]\u001b[m\r\n",
      "         startTageSb = tageData[3]\u001b[m\r\n",
      "\u001b[31m-\u001b[m\r\n",
      "         startTageAwF = tageData[0]+1\u001b[m\r\n",
      "         startTageSwF = tageData[1]+1\u001b[m\r\n",
      "         startTagePlF = tageData[2]+1\u001b[m\r\n",
      "         startTageSbF = tageData[3]+1\u001b[m\r\n",
      " \u001b[m\r\n",
      "         tageData = sorted(tageData, reverse=True)\u001b[m\r\n",
      "\u001b[31m-\u001b[m\r\n",
      "         startTage = int(tageData[0])\u001b[m\r\n",
      " \u001b[m\r\n",
      "         densities = densities_and_SCs_to_250(\u001b[m\r\n",
      "\u001b[36m@@ -241,16 +206,12 @@\u001b[m \u001b[mdef simulate_forwards_df(plot_df, simulation_choice='yes'):\u001b[m\r\n",
      "             SI_bh_Aw=SI_bh_Aw,\u001b[m\r\n",
      "             SI_bh_Sw=SI_bh_Sw,\u001b[m\r\n",
      "             SI_bh_Sb=SI_bh_Sb,\u001b[m\r\n",
      "\u001b[31m-            SI_bh_Pl=SI_bh_Pl)\u001b[m\r\n",
      "\u001b[31m-\u001b[m\r\n",
      "\u001b[31m-     # input - species, top height, total age, BHage (from the function),\u001b[m\r\n",
      "\u001b[31m-     #N (or density), current Basal Area,  Measured Percent Stocking,\u001b[m\r\n",
      "\u001b[31m-     #StumpDOB , StumpHeight, TopDib, SI, sp proportion\u001b[m\r\n",
      "\u001b[31m-\u001b[m\r\n",
      "\u001b[32m+\u001b[m\u001b[32m            SI_bh_Pl=SI_bh_Pl\u001b[m\r\n",
      "\u001b[32m+\u001b[m\u001b[32m        )\u001b[m\r\n",
      " \u001b[m\r\n",
      "\u001b[31m-        '''estimating correction factor to fit BA at t0 and BA at t and\u001b[m\r\n",
      "\u001b[31m-           choosing whether simulating with multiplication factor\u001b[m\r\n",
      "\u001b[31m-           or starting at t recalculating the densities and SC'''\u001b[m\r\n",
      "\u001b[32m+\u001b[m\u001b[32m        # estimating correction factor to fit BA at t0 and BA at t and\u001b[m\r\n",
      "\u001b[32m+\u001b[m\u001b[32m        # choosing whether simulating with multiplication factor\u001b[m\r\n",
      "\u001b[32m+\u001b[m\u001b[32m        # or starting at t recalculating the densities and SC\u001b[m\r\n",
      "         species_factors = get_factors_for_all_species(\u001b[m\r\n",
      "             startTage=startTage,\u001b[m\r\n",
      "             startTageAw=startTageAw,\u001b[m\r\n",
      "\u001b[36m@@ -290,39 +251,38 @@\u001b[m \u001b[mdef simulate_forwards_df(plot_df, simulation_choice='yes'):\u001b[m\r\n",
      "             BA_Pl0=BA_Pl0,\u001b[m\r\n",
      "             BA_PlT=BA_PlT,\u001b[m\r\n",
      "             densities=densities,\u001b[m\r\n",
      "\u001b[31m-            printWarnings=True)\u001b[m\r\n",
      "\u001b[32m+\u001b[m\u001b[32m            printWarnings=True\u001b[m\r\n",
      "\u001b[32m+\u001b[m\u001b[32m        )\u001b[m\r\n",
      " \u001b[m\r\n",
      "         f_Aw = species_factors['f_Aw']\u001b[m\r\n",
      "         f_Sw = species_factors['f_Sw']\u001b[m\r\n",
      "         f_Sb = species_factors['f_Sb']\u001b[m\r\n",
      "         f_Pl = species_factors['f_Pl']\u001b[m\r\n",
      " \u001b[m\r\n",
      "\u001b[31m-        '''choosing no implies in simulating forward after\u001b[m\r\n",
      "\u001b[31m-           time t using the same factor estimated and used\u001b[m\r\n",
      "\u001b[31m-           to simulate until time t choosing yes, implies\u001b[m\r\n",
      "\u001b[31m-           in simulating forward ignoring the factor estimated\u001b[m\r\n",
      "\u001b[31m-           and used until time t and estimate, at every cycle,\u001b[m\r\n",
      "\u001b[31m-           densities, SCs etc\u001b[m\r\n",
      "\u001b[31m-        '''\u001b[m\r\n",
      "\u001b[31m-\u001b[m\r\n",
      "         logger.debug('Getting basal area from time 0 to time of data')\u001b[m\r\n",
      "\u001b[31m-        BA_0_to_data_Aw = BAfromZeroToDataAw(startTage, SI_bh_Aw, N0_Aw, BA_Aw0, SDF_Aw0, f_Aw, densities, simulation_choice='no', simulation=False)\u001b[m\r\n",
      "\u001b[31m-        BA_0_to_data_Sb = BAfromZeroToDataSb(startTage, startTageSb, y2bh_Sb, SC_Sb, SI_bh_Sb, N_bh_SbT, N0_Sb, BA_Sb0, f_Sb, simulation_choice, simulation=False)\u001b[m\r\n",
      "\u001b[31m-        BA_0_to_data_Sw = BAfromZeroToDataSw(startTage, startTageSw, y2bh_Sw, SC_Sw, SI_bh_Sw, N_bh_SwT, N0_Sw, SDF_Aw0, SDF_Pl0, SDF_Sb0, BA_Sw0, f_Sw, simulation_choice, simulation=False)\u001b[m\r\n",
      "\u001b[31m-        BA_0_to_data_Pl = BAfromZeroToDataPl(startTage, startTagePl, y2bh_Pl, SC_Pl, SI_bh_Pl, N_bh_PlT, N0_Pl, SDF_Aw0, SDF_Sw0, SDF_Sb0, BA_Pl0, f_Pl, simulation_choice, simulation=False)\u001b[m\r\n",
      "\u001b[31m-\u001b[m\r\n",
      "\u001b[31m-        output_DF_Aw = BA_0_to_data_Aw[1]\u001b[m\r\n",
      "\u001b[31m-        output_DF_Sw = BA_0_to_data_Sw[1]\u001b[m\r\n",
      "\u001b[31m-        output_DF_Sb = BA_0_to_data_Sb[1]\u001b[m\r\n",
      "\u001b[31m-        output_DF_Pl = BA_0_to_data_Pl[1]\u001b[m\r\n",
      "\u001b[32m+\u001b[m\u001b[32m        # simulation choice here is no because aspen was peculiar, empirically demonstrated that using the factor\u001b[m\r\n",
      "\u001b[32m+\u001b[m\u001b[32m        # for the whole simulation yielded better results, probably because of variability in density and basal area\u001b[m\r\n",
      "\u001b[32m+\u001b[m\u001b[32m        # unique to aspen\u001b[m\r\n",
      "\u001b[32m+\u001b[m\u001b[32m        # we can't do simulation choice = no here for sb, sw, pl because the factor should not be applied for them\u001b[m\r\n",
      "\u001b[32m+\u001b[m\u001b[32m        # sw, sb, pl use the factor until the time of data. the subsequent years use the regular basal area increment formula\u001b[m\r\n",
      "\u001b[32m+\u001b[m\u001b[32m        # julianno sambatti, november 10, 2016\u001b[m\r\n",
      "\u001b[32m+\u001b[m\u001b[32m        BA_0_to_data_Aw_arr = BAfromZeroToDataAw(startTage, SI_bh_Aw, N0_Aw, BA_Aw0, SDF_Aw0, f_Aw, densities, simulation_choice='no')\u001b[m\r\n",
      "\u001b[32m+\u001b[m\u001b[32m        BA_0_to_data_Sb_arr = BAfromZeroToDataSb(startTage, startTageSb, y2bh_Sb, SC_Sb, SI_bh_Sb, N_bh_SbT, N0_Sb, BA_Sb0, f_Sb, simulation_choice)\u001b[m\r\n",
      "\u001b[32m+\u001b[m\u001b[32m        BA_0_to_data_Sw_arr = BAfromZeroToDataSw(startTage, startTageSw, y2bh_Sw, SC_Sw, SI_bh_Sw, N_bh_SwT, N0_Sw, SDF_Aw0, SDF_Pl0, SDF_Sb0, BA_Sw0, f_Sw, simulation_choice)\u001b[m\r\n",
      "\u001b[32m+\u001b[m\u001b[32m        BA_0_to_data_Pl_arr = BAfromZeroToDataPl(startTage, startTagePl, y2bh_Pl, SC_Pl, SI_bh_Pl, N_bh_PlT, N0_Pl, SDF_Aw0, SDF_Sw0, SDF_Sb0, BA_Pl0, f_Pl, simulation_choice)\u001b[m\r\n",
      "\u001b[32m+\u001b[m\r\n",
      "\u001b[32m+\u001b[m\u001b[32m        output_DF_Aw = pd.DataFrame(BA_0_to_data_Aw_arr, columns=['BA_Aw'])\u001b[m\r\n",
      "\u001b[32m+\u001b[m\u001b[32m        output_DF_Sw = pd.DataFrame(BA_0_to_data_Sw_arr, columns=['BA_Sw'])\u001b[m\r\n",
      "\u001b[32m+\u001b[m\u001b[32m        output_DF_Sb = pd.DataFrame(BA_0_to_data_Sb_arr, columns=['BA_Sb'])\u001b[m\r\n",
      "\u001b[32m+\u001b[m\u001b[32m        output_DF_Pl = pd.DataFrame(BA_0_to_data_Pl_arr, columns=['BA_Pl'])\u001b[m\r\n",
      "\u001b[32m+\u001b[m\r\n",
      "         if simulation_choice == 'no':\u001b[m\r\n",
      "             continue\u001b[m\r\n",
      " \u001b[m\r\n",
      "         # allocate extra space for the simulation results\u001b[m\r\n",
      "         # this is not ideal, would rather follow what is done for aspen, but at least\u001b[m\r\n",
      "         # this only appends once instead of for every year in the iteration\u001b[m\r\n",
      "\u001b[31m-        # TODO: fill with NaN instead of 0s?\u001b[m\r\n",
      "\u001b[31m-        n_extra_rows = len(densities)-startTage+1\u001b[m\r\n",
      "\u001b[32m+\u001b[m\u001b[32m        n_extra_rows = len(densities) - startTage+1\u001b[m\r\n",
      "         output_DF_Sb = pd.concat([\u001b[m\r\n",
      "             output_DF_Sb,\u001b[m\r\n",
      "             pd.DataFrame({'BA_Sb': [np.NaN]*n_extra_rows})\u001b[m\r\n",
      "\u001b[36m@@ -350,11 +310,15 @@\u001b[m \u001b[mdef simulate_forwards_df(plot_df, simulation_choice='yes'):\u001b[m\r\n",
      "             bhage_PlF = SC_Dict['bhage_Pl']\u001b[m\r\n",
      "             SC_PlF = SC_Dict['SC_Pl']\u001b[m\r\n",
      "             N_bh_PlT = SC_Dict['N_bh_PlT']\u001b[m\r\n",
      "\u001b[31m-            '''Ages at time t + 1'''\u001b[m\r\n",
      "             logger.debug('Simulating year %d', t)\u001b[m\r\n",
      " \u001b[m\r\n",
      " \u001b[m\r\n",
      "\u001b[31m-            # TODO: it looks like Aw was factored out of here, these species should have that done also\u001b[m\r\n",
      "\u001b[32m+\u001b[m\u001b[32m            # TODO: Aw uses bafromzerotodataaw as described and called above,\u001b[m\r\n",
      "\u001b[32m+\u001b[m\u001b[32m            # but htese are here to avoid using the factors, which should only\u001b[m\r\n",
      "\u001b[32m+\u001b[m\u001b[32m            # apply until time t, then a implicit factor of 1 is used we can\u001b[m\r\n",
      "\u001b[32m+\u001b[m\u001b[32m            # refactor the frmozerotodata functions to switch the factor off\u001b[m\r\n",
      "\u001b[32m+\u001b[m\u001b[32m            # after a certain year, then the whole for loop containing this\u001b[m\r\n",
      "\u001b[32m+\u001b[m\u001b[32m            # comment could be removed\u001b[m\r\n",
      "             if N_bh_SbT > 0:\u001b[m\r\n",
      "                 BA_SbT = BA_SbT + BasalAreaIncrementNonSpatialSb('Sb', SC_SbF, SI_bh_Sb, N_bh_SbT, N0_Sb, bhage_SbF, BA_SbT)\u001b[m\r\n",
      "                 if BA_SbT < 0:\u001b[m\r\n",
      "\u001b[36m@@ -376,10 +340,9 @@\u001b[m \u001b[mdef simulate_forwards_df(plot_df, simulation_choice='yes'):\u001b[m\r\n",
      "             else:\u001b[m\r\n",
      "                 BA_PlT = 0\u001b[m\r\n",
      " \u001b[m\r\n",
      "\u001b[31m-            # TODO: should these be t+1?\u001b[m\r\n",
      "\u001b[31m-            output_DF_Sw.loc[t, 'BA_Sw'] = BA_SwT\u001b[m\r\n",
      "\u001b[31m-            output_DF_Sb.loc[t, 'BA_Sb'] = BA_SbT\u001b[m\r\n",
      "\u001b[31m-            output_DF_Pl.loc[t, 'BA_Pl'] = BA_PlT\u001b[m\r\n",
      "\u001b[32m+\u001b[m\u001b[32m            output_DF_Sw.at[t, 'BA_Sw'] = BA_SwT\u001b[m\r\n",
      "\u001b[32m+\u001b[m\u001b[32m            output_DF_Sb.at[t, 'BA_Sb'] = BA_SbT\u001b[m\r\n",
      "\u001b[32m+\u001b[m\u001b[32m            output_DF_Pl.at[t, 'BA_Pl'] = BA_PlT\u001b[m\r\n",
      " \u001b[m\r\n",
      "             t += 1\u001b[m\r\n",
      "             startTageAwF += 1\u001b[m\r\n",
      "\u001b[36m@@ -394,18 +357,15 @@\u001b[m \u001b[mdef simulate_forwards_df(plot_df, simulation_choice='yes'):\u001b[m\r\n",
      "         )\u001b[m\r\n",
      "         #http://stackoverflow.com/questions/25314547/cell-var-from-loop-warning-from-pylint\u001b[m\r\n",
      " \u001b[m\r\n",
      "\u001b[31m-        output_DF['Gross_Total_Volume_Aw'] = output_DF.apply(\u001b[m\r\n",
      "\u001b[31m-            lambda x: GrossTotalVolume_Aw(x['BA_Aw'], x['topHeight_Aw']), axis=1\u001b[m\r\n",
      "\u001b[31m-        )\u001b[m\r\n",
      "\u001b[31m-        output_DF['Gross_Total_Volume_Sw'] = output_DF.apply(\u001b[m\r\n",
      "\u001b[31m-            lambda x: GrossTotalVolume_Sw(x['BA_Sw'], x['topHeight_Sw']), axis=1\u001b[m\r\n",
      "\u001b[31m-        )\u001b[m\r\n",
      "\u001b[31m-        output_DF['Gross_Total_Volume_Sb'] = output_DF.apply(\u001b[m\r\n",
      "\u001b[31m-            lambda x: GrossTotalVolume_Sb(x['BA_Sb'], x['topHeight_Sb']), axis=1\u001b[m\r\n",
      "\u001b[31m-        )\u001b[m\r\n",
      "\u001b[31m-        output_DF['Gross_Total_Volume_Pl'] = output_DF.apply(\u001b[m\r\n",
      "\u001b[31m-            lambda x: GrossTotalVolume_Pl(x['BA_Pl'], x['topHeight_Pl']), axis=1\u001b[m\r\n",
      "\u001b[31m-        )\u001b[m\r\n",
      "\u001b[32m+\u001b[m\u001b[32m        for spec in SPECIES:\u001b[m\r\n",
      "\u001b[32m+\u001b[m\u001b[32m            output_DF['Gross_Total_Volume_%s' % spec] = output_DF.apply(\u001b[m\r\n",
      "\u001b[32m+\u001b[m\u001b[32m                lambda x: gross_total_volume(\u001b[m\r\n",
      "\u001b[32m+\u001b[m\u001b[32m                    spec,\u001b[m\r\n",
      "\u001b[32m+\u001b[m\u001b[32m                    x.at['BA_%s' % spec],\u001b[m\r\n",
      "\u001b[32m+\u001b[m\u001b[32m                    x.at['topHeight_%s' % spec]\u001b[m\r\n",
      "\u001b[32m+\u001b[m\u001b[32m                ),\u001b[m\r\n",
      "\u001b[32m+\u001b[m\u001b[32m                axis=1\u001b[m\r\n",
      "\u001b[32m+\u001b[m\u001b[32m            )\u001b[m\r\n",
      " \u001b[m\r\n",
      "         output_DF['Gross_Total_Volume_Con'] = output_DF['Gross_Total_Volume_Sw'] \\\u001b[m\r\n",
      "                                               + output_DF['Gross_Total_Volume_Sb'] \\\u001b[m\r\n",
      "\u001b[36m@@ -414,29 +374,45 @@\u001b[m \u001b[mdef simulate_forwards_df(plot_df, simulation_choice='yes'):\u001b[m\r\n",
      "         output_DF['Gross_Total_Volume_Tot'] = output_DF['Gross_Total_Volume_Con'] \\\u001b[m\r\n",
      "                                               + output_DF['Gross_Total_Volume_Dec']\u001b[m\r\n",
      " \u001b[m\r\n",
      "\u001b[31m-        output_DF['MerchantableVolumeAw'] = output_DF.apply(\u001b[m\r\n",
      "\u001b[31m-            lambda x: MerchantableVolumeAw(\u001b[m\r\n",
      "\u001b[31m-                x['N_bh_AwT'], x['BA_Aw'], x['topHeight_Aw'],\u001b[m\r\n",
      "\u001b[31m-                StumpDOB_Aw, StumpHeight_Aw, TopDib_Aw, x['Gross_Total_Volume_Aw']\u001b[m\r\n",
      "\u001b[31m-            ), axis=1\u001b[m\r\n",
      "\u001b[31m-        )\u001b[m\r\n",
      "\u001b[31m-        output_DF['MerchantableVolumeSw'] = output_DF.apply(\u001b[m\r\n",
      "\u001b[31m-            lambda x: MerchantableVolumeSw(\u001b[m\r\n",
      "\u001b[31m-                x['N_bh_SwT'], x['BA_Sw'], x['topHeight_Sw'],\u001b[m\r\n",
      "\u001b[31m-                StumpDOB_Sw, StumpHeight_Sw, TopDib_Sw, x['Gross_Total_Volume_Sw']\u001b[m\r\n",
      "\u001b[31m-            ), axis=1\u001b[m\r\n",
      "\u001b[31m-        )\u001b[m\r\n",
      "\u001b[31m-        output_DF['MerchantableVolumeSb'] = output_DF.apply(\u001b[m\r\n",
      "\u001b[31m-            lambda x: MerchantableVolumeSb(\u001b[m\r\n",
      "\u001b[31m-                x['N_bh_SbT'], x['BA_Sb'], x['topHeight_Sb'],\u001b[m\r\n",
      "\u001b[31m-                StumpDOB_Sb, StumpHeight_Sb, TopDib_Sb, x['Gross_Total_Volume_Sb']), axis=1\u001b[m\r\n",
      "\u001b[31m-        )\u001b[m\r\n",
      "\u001b[31m-        output_DF['MerchantableVolumePl'] = output_DF.apply(\u001b[m\r\n",
      "\u001b[31m-            lambda x: MerchantableVolumePl(\u001b[m\r\n",
      "\u001b[31m-                x['N_bh_PlT'], x['BA_Pl'], x['topHeight_Pl'],\u001b[m\r\n",
      "\u001b[31m-                StumpDOB_Pl, StumpHeight_Pl, TopDib_Pl, x['Gross_Total_Volume_Pl']\u001b[m\r\n",
      "\u001b[31m-            ), axis=1\u001b[m\r\n",
      "\u001b[32m+\u001b[m\u001b[32m        # this could go in the loop above, but is left here for now since\u001b[m\r\n",
      "\u001b[32m+\u001b[m\u001b[32m        # the tests are sensitive to column order\u001b[m\r\n",
      "\u001b[32m+\u001b[m\u001b[32m        species_plot_merch_vol_params = OrderedDict(\u001b[m\r\n",
      "\u001b[32m+\u001b[m\u001b[32m            (\u001b[m\r\n",
      "\u001b[32m+\u001b[m\u001b[32m                ('Aw', {\u001b[m\r\n",
      "\u001b[32m+\u001b[m\u001b[32m                    'StumpDOB': StumpDOB_Aw,\u001b[m\r\n",
      "\u001b[32m+\u001b[m\u001b[32m                    'TopDib': TopDib_Aw,\u001b[m\r\n",
      "\u001b[32m+\u001b[m\u001b[32m                    'StumpHeight': StumpHeight_Aw\u001b[m\r\n",
      "\u001b[32m+\u001b[m\u001b[32m                 }),\u001b[m\r\n",
      "\u001b[32m+\u001b[m\u001b[32m                ('Sw', {\u001b[m\r\n",
      "\u001b[32m+\u001b[m\u001b[32m                    'StumpDOB': StumpDOB_Sw,\u001b[m\r\n",
      "\u001b[32m+\u001b[m\u001b[32m                    'TopDib': TopDib_Sw,\u001b[m\r\n",
      "\u001b[32m+\u001b[m\u001b[32m                    'StumpHeight': StumpHeight_Sw\u001b[m\r\n",
      "\u001b[32m+\u001b[m\u001b[32m                 }),\u001b[m\r\n",
      "\u001b[32m+\u001b[m\u001b[32m                ('Sb', {\u001b[m\r\n",
      "\u001b[32m+\u001b[m\u001b[32m                    'StumpDOB': StumpDOB_Sb,\u001b[m\r\n",
      "\u001b[32m+\u001b[m\u001b[32m                    'TopDib': TopDib_Sb,\u001b[m\r\n",
      "\u001b[32m+\u001b[m\u001b[32m                    'StumpHeight': StumpHeight_Sb\u001b[m\r\n",
      "\u001b[32m+\u001b[m\u001b[32m                 }),\u001b[m\r\n",
      "\u001b[32m+\u001b[m\u001b[32m                ('Pl', {\u001b[m\r\n",
      "\u001b[32m+\u001b[m\u001b[32m                    'StumpDOB': StumpDOB_Pl,\u001b[m\r\n",
      "\u001b[32m+\u001b[m\u001b[32m                    'TopDib': TopDib_Pl,\u001b[m\r\n",
      "\u001b[32m+\u001b[m\u001b[32m                    'StumpHeight': StumpHeight_Pl\u001b[m\r\n",
      "\u001b[32m+\u001b[m\u001b[32m                 }),\u001b[m\r\n",
      "\u001b[32m+\u001b[m\u001b[32m            )\u001b[m\r\n",
      "         )\u001b[m\r\n",
      "\u001b[32m+\u001b[m\u001b[32m        for spec, params in species_plot_merch_vol_params.items():\u001b[m\r\n",
      "\u001b[32m+\u001b[m\u001b[32m            output_DF['MerchantableVolume%s' % spec] = output_DF.apply(\u001b[m\r\n",
      "\u001b[32m+\u001b[m\u001b[32m                lambda x: merchantable_volume(\u001b[m\r\n",
      "\u001b[32m+\u001b[m\u001b[32m                    spec,\u001b[m\r\n",
      "\u001b[32m+\u001b[m\u001b[32m                    x.at['N_bh_%sT' % spec],\u001b[m\r\n",
      "\u001b[32m+\u001b[m\u001b[32m                    x.at['BA_%s' % spec],\u001b[m\r\n",
      "\u001b[32m+\u001b[m\u001b[32m                    x.at['topHeight_%s' % spec],\u001b[m\r\n",
      "\u001b[32m+\u001b[m\u001b[32m                    params['StumpDOB'],\u001b[m\r\n",
      "\u001b[32m+\u001b[m\u001b[32m                    params['StumpHeight'],\u001b[m\r\n",
      "\u001b[32m+\u001b[m\u001b[32m                    params['TopDib'],\u001b[m\r\n",
      "\u001b[32m+\u001b[m\u001b[32m                    x.at['Gross_Total_Volume_%s' % spec]\u001b[m\r\n",
      "\u001b[32m+\u001b[m\u001b[32m                ), axis=1\u001b[m\r\n",
      "\u001b[32m+\u001b[m\u001b[32m            )\u001b[m\r\n",
      " \u001b[m\r\n",
      "         output_DF['MerchantableVolume_Con'] = output_DF['MerchantableVolumeSw'] \\\u001b[m\r\n",
      "                                               + output_DF['MerchantableVolumeSb'] \\\u001b[m\r\n",
      "\u001b[36m@@ -448,7 +424,7 @@\u001b[m \u001b[mdef simulate_forwards_df(plot_df, simulation_choice='yes'):\u001b[m\r\n",
      "         output_dict[plot_id] = output_DF\u001b[m\r\n",
      " \u001b[m\r\n",
      "         end = datetime.datetime.now()\u001b[m\r\n",
      "\u001b[31m-        time = end - start\u001b[m\r\n",
      "\u001b[31m-        logger.info('plot %s took %f seconds', plot_id, time.total_seconds())\u001b[m\r\n",
      "\u001b[32m+\u001b[m\u001b[32m        duration = end - start\u001b[m\r\n",
      "\u001b[32m+\u001b[m\u001b[32m        logger.info('plot %s took %f seconds', plot_id, duration.total_seconds())\u001b[m\r\n",
      " \u001b[m\r\n",
      "     return output_dict\u001b[m\r\n"
     ]
    }
   ],
   "source": [
    "! git diff HEAD~23 ../gypsy"
   ]
  },
  {
   "cell_type": "markdown",
   "metadata": {},
   "source": [
    "# Tests\n",
    "\n",
    "Do tests still pass?"
   ]
  },
  {
   "cell_type": "markdown",
   "metadata": {},
   "source": [
    "# Run timings"
   ]
  },
  {
   "cell_type": "code",
   "execution_count": 3,
   "metadata": {
    "collapsed": false
   },
   "outputs": [],
   "source": [
    "%%bash\n",
    "# git checkout dev\n",
    "# time gypsy simulate ../private-data/prepped_random_sample_300.csv --output-dir tmp\n",
    "# rm -rfd tmp\n",
    "\n",
    "# real\t8m18.753s\n",
    "# user\t8m8.980s\n",
    "# sys\t0m1.620s"
   ]
  },
  {
   "cell_type": "code",
   "execution_count": 22,
   "metadata": {
    "collapsed": false
   },
   "outputs": [],
   "source": [
    "%%bash\n",
    "# after factoring dataframe out of zerotodata functions\n",
    "# git checkout -b da080a79200f50d2dda7942c838b7f3cad845280 df-factored-out-zerotodata\n",
    "# time gypsy simulate ../private-data/prepped_random_sample_300.csv --output-dir tmp\n",
    "# rm -rfd tmp\n",
    "\n",
    "# real\t5m51.028s\n",
    "# user\t5m40.130s\n",
    "# sys\t0m1.680s"
   ]
  },
  {
   "cell_type": "markdown",
   "metadata": {},
   "source": [
    "Removing the data frame init gets a 25% time reduction"
   ]
  },
  {
   "cell_type": "code",
   "execution_count": 41,
   "metadata": {
    "collapsed": false
   },
   "outputs": [],
   "source": [
    "%%bash\n",
    "# after using a faster indexing method for the arguments put into the apply functions\n",
    "# git checkout 6b541d5fb8534d6fb055961a9d5b09e1946f0b46 -b applys-use-faster-getitem\n",
    "# time gypsy simulate ../private-data/prepped_random_sample_300.csv --output-dir tmp\n",
    "# rm -rfd tmp\n",
    "\n",
    "# real\t6m16.021s\n",
    "# user\t5m59.620s\n",
    "# sys\t0m2.030s"
   ]
  },
  {
   "cell_type": "markdown",
   "metadata": {},
   "source": [
    "Hm, this actually got worse, although it is a small sample......... if anything i suspect its because we're calling row.at[] instead of assigning the variable outside the loop. It's ok as the code has less reptition, it's a good tradeoff."
   ]
  },
  {
   "cell_type": "code",
   "execution_count": 55,
   "metadata": {
    "collapsed": false
   },
   "outputs": [],
   "source": [
    "%%bash\n",
    "# after fixing `.at` redundancy - calling it in each apply call\n",
    "# git checkout 4c978aff110001efdc917ed60cb611139e1b54c9 -b remove-getitem-redundancy\n",
    "# time gypsy simulate ../private-data/prepped_random_sample_300.csv --output-dir tmp\n",
    "# rm -rfd tmp\n",
    "\n",
    "# real\t5m36.407s\n",
    "# user\t5m25.740s\n",
    "# sys\t0m2.140s"
   ]
  },
  {
   "cell_type": "markdown",
   "metadata": {},
   "source": [
    "It doesn't totrally remove redundancy, we still get an attr/value of an object, but now its a dict instead of a pandas series. Hopefully it's faster. Should have tested first using MWE.\n",
    "\n",
    "It is moderately faster. Not much."
   ]
  },
  {
   "cell_type": "markdown",
   "metadata": {},
   "source": [
    "Leave cython optimization for next iteration"
   ]
  },
  {
   "cell_type": "markdown",
   "metadata": {},
   "source": [
    "# Run profiling"
   ]
  },
  {
   "cell_type": "code",
   "execution_count": 42,
   "metadata": {
    "collapsed": false
   },
   "outputs": [],
   "source": [
    "from gypsy.forward_simulation import simulate_forwards_df"
   ]
  },
  {
   "cell_type": "code",
   "execution_count": 44,
   "metadata": {
    "collapsed": false
   },
   "outputs": [],
   "source": [
    "data = pd.read_csv('../private-data/prepped_random_sample_300.csv', index_col=0, nrows=10)"
   ]
  },
  {
   "cell_type": "code",
   "execution_count": 54,
   "metadata": {
    "collapsed": false
   },
   "outputs": [
    {
     "name": "stdout",
     "output_type": "stream",
     "text": [
      " \n",
      "*** Profile stats marshalled to file u'forward-sim-2.prof'. \n",
      "\n",
      "*** Profile printout saved to text file u'forward-sim-2.txt'. \n"
     ]
    }
   ],
   "source": [
    "%%prun -D forward-sim-2.prof -T forward-sim-2.txt -q\n",
    "result = simulate_forwards_df(data)"
   ]
  },
  {
   "cell_type": "code",
   "execution_count": 56,
   "metadata": {
    "collapsed": false
   },
   "outputs": [
    {
     "name": "stdout",
     "output_type": "stream",
     "text": [
      "         4167146 function calls (4034230 primitive calls) in 36.370 seconds\r\n",
      "\r\n",
      "   Ordered by: internal time\r\n",
      "\r\n",
      "   ncalls  tottime  percall  cumtime  percall filename:lineno(function)\r\n",
      "   492069    7.050    0.000    7.050    0.000 GYPSYNonSpatial.py:428(BasalAreaIncrementNonSpatialAw)\r\n",
      "     7191    2.481    0.000    9.716    0.001 GYPSYNonSpatial.py:956(BAfromZeroToDataAw)\r\n",
      "    90290    2.419    0.000    8.879    0.000 base.py:2116(get_value)\r\n",
      "    90280    1.686    0.000   17.526    0.000 indexing.py:1654(__getitem__)\r\n",
      "   369310    1.517    0.000    2.398    0.000 {isinstance}\r\n"
     ]
    }
   ],
   "source": [
    "!head forward-sim-2.txt"
   ]
  },
  {
   "cell_type": "markdown",
   "metadata": {},
   "source": [
    "# Compare performance visualizations"
   ]
  },
  {
   "cell_type": "markdown",
   "metadata": {},
   "source": [
    "Now use either of these commands to visualize the profiling\n",
    "\n",
    "```\n",
    "pyprof2calltree -k -i forward-sim-1.prof forward-sim-1.txt\n",
    "\n",
    "# or\n",
    "\n",
    "dc run --service-ports snakeviz notebooks/forward-sim-1.prof\n",
    "```"
   ]
  },
  {
   "cell_type": "markdown",
   "metadata": {
    "collapsed": true
   },
   "source": [
    "### Old"
   ]
  },
  {
   "cell_type": "markdown",
   "metadata": {},
   "source": [
    "![definitive reference profile screenshot](forward-sim-1-performance-icicle.png)"
   ]
  },
  {
   "cell_type": "markdown",
   "metadata": {
    "collapsed": true
   },
   "source": [
    "### New"
   ]
  },
  {
   "cell_type": "markdown",
   "metadata": {},
   "source": [
    "![2nd iteration performance](forward-sim-2a-performance.png)"
   ]
  },
  {
   "cell_type": "markdown",
   "metadata": {},
   "source": [
    "## Summary of performance improvements\n",
    "\n",
    "forward_simulation is now 2x faster than last iteration, 8 times in total, due to the changes outlined in the code review section above\n",
    "\n",
    "on my hardware, this takes 1000 plots to ~4 minutes\n",
    "\n",
    "on carol's hardware, this takes 1000 plots to ~13 minutes\n",
    "\n",
    "For 1 million plots, we're looking at 2 to 9 days on desktop hardware\n",
    "\n"
   ]
  },
  {
   "cell_type": "markdown",
   "metadata": {},
   "source": [
    "# Profile with I/O\n"
   ]
  },
  {
   "cell_type": "code",
   "execution_count": null,
   "metadata": {
    "collapsed": true
   },
   "outputs": [],
   "source": [
    "! rm -rfd gypsy-output"
   ]
  },
  {
   "cell_type": "code",
   "execution_count": null,
   "metadata": {
    "collapsed": true
   },
   "outputs": [],
   "source": [
    "output_dir = 'gypsy-output'"
   ]
  },
  {
   "cell_type": "code",
   "execution_count": 20,
   "metadata": {
    "collapsed": false
   },
   "outputs": [
    {
     "name": "stdout",
     "output_type": "stream",
     "text": [
      " \n",
      "*** Profile stats marshalled to file u'forward-sim-1.prof'. \n",
      "\n",
      "*** Profile printout saved to text file u'forward-sim-1.txt'. \n"
     ]
    }
   ],
   "source": [
    "%%prun -D forward-sim-2.prof -T forward-sim-2.txt -q\n",
    "# restart the kernel first\n",
    "data = pd.read_csv('../private-data/prepped_random_sample_300.csv', index_col=0, nrows=10)\n",
    "result = simulate_forwards_df(data)\n",
    "os.makedirs(output_dir)\n",
    "for plot_id, df in result.items():\n",
    "    filename = '%s.csv' % plot_id\n",
    "    output_path = os.path.join(output_dir, filename)\n",
    "    df.to_csv(output_path)\n"
   ]
  },
  {
   "cell_type": "markdown",
   "metadata": {},
   "source": [
    "# Identify new areas to optimize\n",
    "\n"
   ]
  },
  {
   "cell_type": "markdown",
   "metadata": {},
   "source": [
    "- from last time:\n",
    "    - parallel (3 cores) gets us to 2 - 6 days - save for last\n",
    "    - AWS with 36 cores gets us to 4 - 12 hours ($6.70 - $20.10 USD on a c4.8xlarge instance in US West Region)\n",
    "    - aws lambda and split up the data \n",
    "- now:\n",
    "    - getting items in apply is still slow - vectorize the functions\n",
    "    - cython for icnrement functions epsecially bA"
   ]
  },
  {
   "cell_type": "code",
   "execution_count": null,
   "metadata": {
    "collapsed": true
   },
   "outputs": [],
   "source": []
  }
 ],
 "metadata": {
  "kernelspec": {
   "display_name": "Python 2",
   "language": "python",
   "name": "python2"
  },
  "language_info": {
   "codemirror_mode": {
    "name": "ipython",
    "version": 2
   },
   "file_extension": ".py",
   "mimetype": "text/x-python",
   "name": "python",
   "nbconvert_exporter": "python",
   "pygments_lexer": "ipython2",
   "version": "2.7.12"
  }
 },
 "nbformat": 4,
 "nbformat_minor": 1
}
