{
 "cells": [
  {
   "cell_type": "markdown",
   "metadata": {},
   "source": [
    "Initial attemps at profiling had very confusing results; possibly because of module loading and i/o\n",
    "\n",
    "Here, gypsy will be run and profiled on one plot, with no module loading/io recorded in profiling"
   ]
  },
  {
   "cell_type": "markdown",
   "metadata": {},
   "source": [
    "# Characterize what is happening"
   ]
  },
  {
   "cell_type": "markdown",
   "metadata": {},
   "source": [
    "In several places, we append data to a data frame"
   ]
  },
  {
   "cell_type": "code",
   "execution_count": 19,
   "metadata": {
    "collapsed": false
   },
   "outputs": [
    {
     "name": "stdout",
     "output_type": "stream",
     "text": [
      "../gypsy/GYPSYNonSpatial.py:1028:        densities_along_time.append({'N_bh_AwT': N_bh_AwT, 'N_bh_SwT': N_bh_SwT, 'N_bh_SbT': N_bh_SbT, 'N_bh_PlT': N_bh_PlT,\n",
      "../gypsy/GYPSYNonSpatial.py:1163:            BA_Aw_DF = BA_Aw_DF.append({'BA_Aw':BA_AwB}, ignore_index=True)\n",
      "../gypsy/GYPSYNonSpatial.py:1287:            BA_Sb_DF = BA_Sb_DF.append({'BA_Sb': BA_SbB}, ignore_index=True)\n",
      "../gypsy/GYPSYNonSpatial.py:1422:            BA_Sw_DF = BA_Sw_DF.append({'BA_Sw': BA_SwB}, ignore_index=True)\n",
      "../gypsy/GYPSYNonSpatial.py:1673:            BA_Pl_DF = BA_Pl_DF.append({'BA_Pl': BA_PlB}, ignore_index=True)\n",
      "../gypsy/forward_simulation.py:367:            output_DF_Sw = output_DF_Sw.append({'BA_Sw':BA_SwT}, ignore_index=True)\n",
      "../gypsy/forward_simulation.py:368:            output_DF_Sb = output_DF_Sb.append({'BA_Sb':BA_SbT}, ignore_index=True)\n",
      "../gypsy/forward_simulation.py:369:            output_DF_Pl = output_DF_Pl.append({'BA_Pl':BA_PlT}, ignore_index=True)\n"
     ]
    }
   ],
   "source": [
    "%%bash\n",
    "grep --colour -nr append ../gypsy/*.py"
   ]
  },
  {
   "cell_type": "markdown",
   "metadata": {},
   "source": [
    "Either in the way we do it, or by its nature, it is a slow operation."
   ]
  },
  {
   "cell_type": "code",
   "execution_count": 21,
   "metadata": {
    "collapsed": true
   },
   "outputs": [],
   "source": [
    "import pandas as pd"
   ]
  },
  {
   "cell_type": "code",
   "execution_count": 23,
   "metadata": {
    "collapsed": false,
    "scrolled": true
   },
   "outputs": [
    {
     "name": "stdout",
     "output_type": "stream",
     "text": [
      "Help on method append in module pandas.core.frame:\n",
      "\n",
      "append(self, other, ignore_index=False, verify_integrity=False) unbound pandas.core.frame.DataFrame method\n",
      "    Append rows of `other` to the end of this frame, returning a new\n",
      "    object. Columns not in this frame are added as new columns.\n",
      "    \n",
      "    Parameters\n",
      "    ----------\n",
      "    other : DataFrame or Series/dict-like object, or list of these\n",
      "        The data to append.\n",
      "    ignore_index : boolean, default False\n",
      "        If True, do not use the index labels.\n",
      "    verify_integrity : boolean, default False\n",
      "        If True, raise ValueError on creating index with duplicates.\n",
      "    \n",
      "    Returns\n",
      "    -------\n",
      "    appended : DataFrame\n",
      "    \n",
      "    Notes\n",
      "    -----\n",
      "    If a list of dict/series is passed and the keys are all contained in\n",
      "    the DataFrame's index, the order of the columns in the resulting\n",
      "    DataFrame will be unchanged.\n",
      "    \n",
      "    See also\n",
      "    --------\n",
      "    pandas.concat : General function to concatenate DataFrame, Series\n",
      "        or Panel objects\n",
      "    \n",
      "    Examples\n",
      "    --------\n",
      "    \n",
      "    >>> df = pd.DataFrame([[1, 2], [3, 4]], columns=list('AB'))\n",
      "    >>> df\n",
      "       A  B\n",
      "    0  1  2\n",
      "    1  3  4\n",
      "    >>> df2 = pd.DataFrame([[5, 6], [7, 8]], columns=list('AB'))\n",
      "    >>> df.append(df2)\n",
      "       A  B\n",
      "    0  1  2\n",
      "    1  3  4\n",
      "    0  5  6\n",
      "    1  7  8\n",
      "    \n",
      "    With `ignore_index` set to True:\n",
      "    \n",
      "    >>> df.append(df2, ignore_index=True)\n",
      "       A  B\n",
      "    0  1  2\n",
      "    1  3  4\n",
      "    2  5  6\n",
      "    3  7  8\n",
      "\n"
     ]
    }
   ],
   "source": [
    "help(pd.DataFrame.append)"
   ]
  },
  {
   "cell_type": "markdown",
   "metadata": {},
   "source": [
    "There is nothing very clear about performance from the documentation. It may be worth examining the source, and of course googling append performance.\n",
    "\n",
    "python - Improve Row Append Performance On Pandas DataFrames - Stack Overflow  \n",
    "http://stackoverflow.com/questions/27929472/improve-row-append-performance-on-pandas-dataframes\n",
    "\n",
    "python - Pandas: Why should appending to a dataframe of floats and ints be slower than if its full of NaN - Stack Overflow  \n",
    "http://stackoverflow.com/questions/17141828/pandas-why-should-appending-to-a-dataframe-of-floats-and-ints-be-slower-than-if\n",
    "\n",
    "python - Creating large Pandas DataFrames: preallocation vs append vs concat - Stack Overflow  \n",
    "http://stackoverflow.com/questions/31690076/creating-large-pandas-dataframes-preallocation-vs-append-vs-concat\n",
    "\n",
    "python - efficient appending to pandas dataframes - Stack Overflow  \n",
    "http://stackoverflow.com/questions/32746248/efficient-appending-to-pandas-dataframes\n",
    "\n",
    "python - Pandas append perfomance concat/append using \"larger\" DataFrames - Stack Overflow  \n",
    "http://stackoverflow.com/questions/31860671/pandas-append-perfomance-concat-append-using-larger-dataframes\n",
    "\n",
    "pandas.DataFrame.append — pandas 0.18.1 documentation  \n",
    "http://pandas.pydata.org/pandas-docs/stable/generated/pandas.DataFrame.append.html"
   ]
  },
  {
   "cell_type": "markdown",
   "metadata": {},
   "source": [
    "# Decide on the action"
   ]
  },
  {
   "cell_type": "markdown",
   "metadata": {},
   "source": [
    "Do not append in a loop. It makes a copy each time and the memory allocation is poor. Should have known; it's interesting to see it demonstrated in the wild!\n",
    "\n",
    "Pre-allocate the dataframe length by giving it an index and assigning to the index"
   ]
  },
  {
   "cell_type": "markdown",
   "metadata": {},
   "source": [
    "# MWE"
   ]
  },
  {
   "cell_type": "code",
   "execution_count": 29,
   "metadata": {
    "collapsed": false
   },
   "outputs": [
    {
     "name": "stdout",
     "output_type": "stream",
     "text": [
      "1 loop, best of 3: 1.39 s per loop\n"
     ]
    }
   ],
   "source": [
    "%%timeit\n",
    "d = pd.DataFrame(columns=['A'])\n",
    "for i in xrange(1000):\n",
    "    d.append({'A': i}, ignore_index=True)"
   ]
  },
  {
   "cell_type": "code",
   "execution_count": 30,
   "metadata": {
    "collapsed": false
   },
   "outputs": [
    {
     "name": "stdout",
     "output_type": "stream",
     "text": [
      "1 loop, best of 3: 150 ms per loop\n"
     ]
    }
   ],
   "source": [
    "%%timeit\n",
    "d = pd.DataFrame(columns=['A'], index=xrange(1000))\n",
    "for i in xrange(1000):\n",
    "    d.loc[i,'A'] = i"
   ]
  },
  {
   "cell_type": "code",
   "execution_count": 31,
   "metadata": {
    "collapsed": false
   },
   "outputs": [
    {
     "data": {
      "text/plain": [
       "9.266666666666666"
      ]
     },
     "execution_count": 31,
     "metadata": {},
     "output_type": "execute_result"
    }
   ],
   "source": [
    "1.39/.150"
   ]
  },
  {
   "cell_type": "markdown",
   "metadata": {},
   "source": [
    "Speedup of nearly 1 order of magnitude"
   ]
  },
  {
   "cell_type": "markdown",
   "metadata": {},
   "source": [
    "# Review code changes"
   ]
  },
  {
   "cell_type": "code",
   "execution_count": 36,
   "metadata": {
    "collapsed": false,
    "scrolled": true
   },
   "outputs": [
    {
     "name": "stdout",
     "output_type": "stream",
     "text": [
      "\u001b[1mdiff --git a/gypsy/GYPSYNonSpatial.py b/gypsy/GYPSYNonSpatial.py\u001b[m\r\n",
      "\u001b[1mindex 9ece9bc..2bae1d6 100644\u001b[m\r\n",
      "\u001b[1m--- a/gypsy/GYPSYNonSpatial.py\u001b[m\r\n",
      "\u001b[1m+++ b/gypsy/GYPSYNonSpatial.py\u001b[m\r\n",
      "\u001b[36m@@ -981,11 +981,10 @@\u001b[m \u001b[mdef BAfromZeroToDataAw(startTage, SI_bh_Aw, N0_Aw, BA_Aw0, SDF_Aw0, f_Aw,\u001b[m\r\n",
      "     elif simulation_choice == 'no':\u001b[m\r\n",
      "         max_age = 250\u001b[m\r\n",
      " \u001b[m\r\n",
      "\u001b[31m-    BA_Aw_DF = pd.DataFrame(columns=['BA_Aw'])\u001b[m\r\n",
      "\u001b[31m-    t = 0\u001b[m\r\n",
      "\u001b[32m+\u001b[m\u001b[32m    basal_area_aw_df = pd.DataFrame(columns=['BA_Aw'], index=xrange(max_age))\u001b[m\r\n",
      "     BA_tempAw = BA_Aw0\u001b[m\r\n",
      " \u001b[m\r\n",
      "\u001b[31m-    for SC_Dict in densities[0: max_age]:\u001b[m\r\n",
      "\u001b[32m+\u001b[m\u001b[32m    for SC_Dict, i in enumerate(densities[0: max_age]):\u001b[m\r\n",
      "         bhage_Aw = SC_Dict['bhage_Aw']\u001b[m\r\n",
      "         SC_Aw = SC_Dict['SC_Aw']\u001b[m\r\n",
      "         N_bh_AwT = SC_Dict['N_bh_AwT']\u001b[m\r\n",
      "\u001b[36m@@ -1008,11 +1007,9 @@\u001b[m \u001b[mdef BAfromZeroToDataAw(startTage, SI_bh_Aw, N0_Aw, BA_Aw0, SDF_Aw0, f_Aw,\u001b[m\r\n",
      "             BA_AwB = 0\u001b[m\r\n",
      " \u001b[m\r\n",
      "         if simulation == False:\u001b[m\r\n",
      "\u001b[31m-            BA_Aw_DF = BA_Aw_DF.append({'BA_Aw':BA_AwB}, ignore_index=True)\u001b[m\r\n",
      "\u001b[31m-\u001b[m\r\n",
      "\u001b[31m-        t += 1\u001b[m\r\n",
      "\u001b[32m+\u001b[m\u001b[32m            basal_area_aw_df.loc[i, 'BA_Aw'] = BA_AwB\u001b[m\r\n",
      " \u001b[m\r\n",
      "\u001b[31m-    return BA_AwB, BA_Aw_DF\u001b[m\r\n",
      "\u001b[32m+\u001b[m\u001b[32m    return BA_AwB, basal_area_aw_df\u001b[m\r\n",
      " \u001b[m\r\n",
      " \u001b[m\r\n",
      " def BAfactorFinder_Sb(**kwargs):\u001b[m\r\n",
      "\u001b[36m@@ -1103,16 +1100,18 @@\u001b[m \u001b[mdef BAfromZeroToDataSb(startTage, startTageSb, y2bh_Sb, SC_Sb, SI_bh_Sb,\u001b[m\r\n",
      "     elif simulation_choice == 'no':\u001b[m\r\n",
      "         max_age = 250\u001b[m\r\n",
      " \u001b[m\r\n",
      "\u001b[31m-    BA_Sb_DF = pd.DataFrame(columns=['BA_Sb'])\u001b[m\r\n",
      "     t = 0\u001b[m\r\n",
      "\u001b[32m+\u001b[m\u001b[32m    basal_area_sb_df = pd.DataFrame(columns=['BA_Sb'], index=xrange(max_age))\u001b[m\r\n",
      "     BA_tempSb = BA_Sb0\u001b[m\r\n",
      " \u001b[m\r\n",
      "     while t < max_age:\u001b[m\r\n",
      "         tage_Sb = startTageSb - startTage\u001b[m\r\n",
      "         bhage_Sb = tage_Sb - y2bh_Sb\u001b[m\r\n",
      "\u001b[32m+\u001b[m\r\n",
      "         if N0_Sb > 0:\u001b[m\r\n",
      "             if bhage_Sb < 0:\u001b[m\r\n",
      "                 BA_SbB = 0\u001b[m\r\n",
      "\u001b[32m+\u001b[m\r\n",
      "             if bhage_Sb > 0:\u001b[m\r\n",
      "                 SC_Sb = (SC_Sb) * f_Sb\u001b[m\r\n",
      "                 BAinc_Sb = BasalAreaIncrementNonSpatialSb('Sb', SC_Sb, SI_bh_Sb, N_bh_SbT,\u001b[m\r\n",
      "\u001b[36m@@ -1128,7 +1127,7 @@\u001b[m \u001b[mdef BAfromZeroToDataSb(startTage, startTageSb, y2bh_Sb, SC_Sb, SI_bh_Sb,\u001b[m\r\n",
      "             BA_SbB = 0\u001b[m\r\n",
      " \u001b[m\r\n",
      "         if simulation == False:\u001b[m\r\n",
      "\u001b[31m-            BA_Sb_DF = BA_Sb_DF.append({'BA_Sb': BA_SbB}, ignore_index=True)\u001b[m\r\n",
      "\u001b[32m+\u001b[m\u001b[32m            basal_area_sb_df.loc[t, 'BA_Sb'] = BA_SbB\u001b[m\r\n",
      " \u001b[m\r\n",
      "         t += 1\u001b[m\r\n",
      "         startTageSb += 1\u001b[m\r\n",
      "\u001b[36m@@ -1234,7 +1233,7 @@\u001b[m \u001b[mdef BAfromZeroToDataSw(startTage, startTageSw, y2bh_Sw, SC_Sw, SI_bh_Sw,\u001b[m\r\n",
      "     elif simulation_choice == 'no':\u001b[m\r\n",
      "         max_age = 250\u001b[m\r\n",
      " \u001b[m\r\n",
      "\u001b[31m-    BA_Sw_DF = pd.DataFrame(columns=['BA_Sw'])\u001b[m\r\n",
      "\u001b[32m+\u001b[m\u001b[32m    basal_area_sw_df = pd.DataFrame(columns=['BA_Sw'], index=xrange(max_age))\u001b[m\r\n",
      "     t = 0\u001b[m\r\n",
      "     BA_tempSw = BA_Sw0\u001b[m\r\n",
      " \u001b[m\r\n",
      "\u001b[36m@@ -1259,7 +1258,7 @@\u001b[m \u001b[mdef BAfromZeroToDataSw(startTage, startTageSw, y2bh_Sw, SC_Sw, SI_bh_Sw,\u001b[m\r\n",
      "             BA_SwB = 0\u001b[m\r\n",
      " \u001b[m\r\n",
      "         if simulation == False:\u001b[m\r\n",
      "\u001b[31m-            BA_Sw_DF = BA_Sw_DF.append({'BA_Sw': BA_SwB}, ignore_index=True)\u001b[m\r\n",
      "\u001b[32m+\u001b[m\u001b[32m            basal_area_sw_df.loc[t, 'BA_Sw'] = BA_SwB\u001b[m\r\n",
      " \u001b[m\r\n",
      "         t += 1\u001b[m\r\n",
      "         startTageSw += 1\u001b[m\r\n",
      "\u001b[36m@@ -1367,7 +1366,7 @@\u001b[m \u001b[mdef BAfromZeroToDataPl(startTage, startTagePl, y2bh_Pl, SC_Pl, SI_bh_Pl,\u001b[m\r\n",
      "     elif simulation_choice == 'no':\u001b[m\r\n",
      "         max_age = 250\u001b[m\r\n",
      " \u001b[m\r\n",
      "\u001b[31m-    BA_Pl_DF = pd.DataFrame(columns=['BA_Pl'])\u001b[m\r\n",
      "\u001b[32m+\u001b[m\u001b[32m    basal_area_pl_df = pd.DataFrame(columns=['BA_Pl'], index=xrange(max_age))\u001b[m\r\n",
      "     t = 0\u001b[m\r\n",
      "     BA_tempPl = BA_Pl0\u001b[m\r\n",
      " \u001b[m\r\n",
      "\u001b[36m@@ -1391,7 +1390,7 @@\u001b[m \u001b[mdef BAfromZeroToDataPl(startTage, startTagePl, y2bh_Pl, SC_Pl, SI_bh_Pl,\u001b[m\r\n",
      "             BA_PlB = 0\u001b[m\r\n",
      " \u001b[m\r\n",
      "         if simulation == False:\u001b[m\r\n",
      "\u001b[31m-            BA_Pl_DF = BA_Pl_DF.append({'BA_Pl': BA_PlB}, ignore_index=True)\u001b[m\r\n",
      "\u001b[32m+\u001b[m\u001b[32m            basal_area_pl_df.loc[t, 'BA_Pl'] = BA_SwB\u001b[m\r\n",
      " \u001b[m\r\n",
      "         t += 1\u001b[m\r\n",
      "         startTagePl += 1\u001b[m\r\n"
     ]
    }
   ],
   "source": [
    "! git diff HEAD~~ ../gypsy"
   ]
  },
  {
   "cell_type": "markdown",
   "metadata": {},
   "source": [
    "# Tests\n",
    "\n",
    "There are some issues with the tests - the data does not match the old output data to within 3 or even 2 decimal places. The mismatch is always:\n",
    "\n",
    "`(mismatch 0.221052631579%)`\n",
    "\n"
   ]
  },
  {
   "cell_type": "markdown",
   "metadata": {},
   "source": [
    "# Run profiling"
   ]
  },
  {
   "cell_type": "code",
   "execution_count": 22,
   "metadata": {
    "collapsed": false
   },
   "outputs": [],
   "source": [
    "from gypsy.forward_simulation import simulate_forwards_df"
   ]
  },
  {
   "cell_type": "code",
   "execution_count": 3,
   "metadata": {
    "collapsed": false
   },
   "outputs": [],
   "source": [
    "data = pd.read_csv('../private-data/prepped_random_sample_300.csv', index_col=0, nrows=10)"
   ]
  },
  {
   "cell_type": "code",
   "execution_count": null,
   "metadata": {
    "collapsed": true
   },
   "outputs": [],
   "source": [
    "%%prun -D forward-sim-1.prof -T forward-sim-1.txt -q\n",
    "result = simulate_forwards_df(data)"
   ]
  },
  {
   "cell_type": "code",
   "execution_count": 1,
   "metadata": {
    "collapsed": false
   },
   "outputs": [
    {
     "name": "stdout",
     "output_type": "stream",
     "text": [
      "head: cannot open ‘forward-sim.txt’ for reading: No such file or directory\r\n"
     ]
    }
   ],
   "source": [
    "!head forward-sim-1.txt"
   ]
  },
  {
   "cell_type": "markdown",
   "metadata": {},
   "source": [
    "# Compare performance visualizations"
   ]
  },
  {
   "cell_type": "markdown",
   "metadata": {},
   "source": [
    "Now use either of these commands to visualize the profiling\n",
    "\n",
    "```\n",
    "pyprof2calltree -k -i forward-sim-1.prof forward-sim-1.txt\n",
    "\n",
    "# or\n",
    "\n",
    "dc run --service-ports snakeviz notebooks/forward-sim-1.prof\n",
    "```"
   ]
  },
  {
   "cell_type": "markdown",
   "metadata": {},
   "source": [
    "![definitive reference profile screenshot](profile-forwards-sim.png)"
   ]
  },
  {
   "cell_type": "markdown",
   "metadata": {},
   "source": [
    "![profile 1 screenshot](profile-forwards-sim-1.png)"
   ]
  },
  {
   "cell_type": "markdown",
   "metadata": {},
   "source": [
    "# Identify new areas to optimize\n",
    "\n"
   ]
  },
  {
   "cell_type": "markdown",
   "metadata": {},
   "source": [
    "# Identify some means of optimization\n",
    "\n",
    "- do not ignore index in append operations\n",
    "- use cpython for factor finder / zero to data functions\n",
    "- cache numeric functions\n",
    "- ???"
   ]
  }
 ],
 "metadata": {
  "kernelspec": {
   "display_name": "Python 2",
   "language": "python",
   "name": "python2"
  },
  "language_info": {
   "codemirror_mode": {
    "name": "ipython",
    "version": 2
   },
   "file_extension": ".py",
   "mimetype": "text/x-python",
   "name": "python",
   "nbconvert_exporter": "python",
   "pygments_lexer": "ipython2",
   "version": "2.7.12"
  }
 },
 "nbformat": 4,
 "nbformat_minor": 1
}
