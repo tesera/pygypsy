{
 "cells": [
  {
   "cell_type": "markdown",
   "metadata": {},
   "source": [
    "# Recap\n",
    "\n",
    "In order of priority/time taken\n",
    "\n",
    "1. basalareaincremementnonspatialaw\n",
    "    - this is actually slow because of the number of times the BAFromZeroToDataAw function is called as shown above\n",
    "    - relaxing the tolerance may help\n",
    "    - indeed the tolerance is 0.01 * some value while the other factor finder functions have 0.1 tolerance i think\n",
    "    - can also use cython for the increment functions\n",
    "\n",
    "do a profiling run with IO (of reading input data and writing the plot curves to files) at end of this next run\n"
   ]
  },
  {
   "cell_type": "markdown",
   "metadata": {},
   "source": [
    "# Decide on the action"
   ]
  },
  {
   "cell_type": "markdown",
   "metadata": {},
   "source": [
    "- speed up increment functions\n",
    "    - use cython for increment functions\n",
    "    - it turns out this may not help that much. the function is pretty fast, it's called almost 500,000 times on the sample of 300 plots\n",
    "    - cython actually is very fast in this type of case"
   ]
  },
  {
   "cell_type": "markdown",
   "metadata": {},
   "source": [
    "# Characterize what is happening"
   ]
  },
  {
   "cell_type": "markdown",
   "metadata": {},
   "source": [
    "n/a"
   ]
  },
  {
   "cell_type": "markdown",
   "metadata": {},
   "source": [
    "### Timings"
   ]
  },
  {
   "cell_type": "code",
   "execution_count": null,
   "metadata": {
    "collapsed": false
   },
   "outputs": [],
   "source": []
  },
  {
   "cell_type": "code",
   "execution_count": 3,
   "metadata": {
    "collapsed": false
   },
   "outputs": [
    {
     "name": "stdout",
     "output_type": "stream",
     "text": [
      "The slowest run took 561.62 times longer than the fastest. This could mean that an intermediate result is being cached.\n",
      "100000000 loops, best of 3: 10.6 ns per loop\n"
     ]
    }
   ],
   "source": [
    "%%timeit\n",
    "pass"
   ]
  },
  {
   "cell_type": "code",
   "execution_count": 2,
   "metadata": {
    "collapsed": false
   },
   "outputs": [
    {
     "name": "stdout",
     "output_type": "stream",
     "text": [
      "The slowest run took 287.17 times longer than the fastest. This could mean that an intermediate result is being cached.\n",
      "100000000 loops, best of 3: 10.8 ns per loop\n"
     ]
    }
   ],
   "source": [
    "%%timeit\n",
    "pass"
   ]
  },
  {
   "cell_type": "markdown",
   "metadata": {},
   "source": [
    "The array method is 20x faster. This is worth implementing. We should also add tests to help be explicity about the behaviour of these volume functions."
   ]
  },
  {
   "cell_type": "markdown",
   "metadata": {},
   "source": [
    "# Revise the code\n",
    "\n",
    "Go on. Do it."
   ]
  },
  {
   "cell_type": "markdown",
   "metadata": {},
   "source": [
    "# Tests\n",
    "\n",
    "Yes, data prep test is affected and the data updated.\n",
    "\n",
    "The forward simulation test is also affected\n",
    "\n",
    "```\n",
    "ipdb> (abs(result-expected)).describe().transpose()\n",
    "                        count          mean           std  min           25%  \\\n",
    "N_bh_AwT                249.0  2.435895e-10  1.454449e-10  0.0  1.369074e-10\n",
    "N_bh_PlT                249.0  1.199803e-09  1.501018e-09  0.0  1.664375e-10\n",
    "N_bh_SbT                249.0  0.000000e+00  0.000000e+00  0.0  0.000000e+00\n",
    "N_bh_SwT                249.0  2.448324e-10  1.525425e-10  0.0  1.023182e-10\n",
    "SC_Aw                   249.0  1.350547e-13  1.540323e-13  0.0  1.898481e-14\n",
    "SC_Pl                   249.0  2.251269e-13  1.517209e-13  0.0  8.903989e-14\n",
    "SC_Sb                   249.0  0.000000e+00  0.000000e+00  0.0  0.000000e+00\n",
    "SC_Sw                   249.0  2.428712e-13  1.513704e-13  0.0  1.204037e-13\n",
    "bhage_Aw                249.0  2.730927e-10  2.494264e-10  0.0  7.105427e-15\n",
    "bhage_Pl                249.0  4.698465e-11  5.000432e-11  0.0  0.000000e+00\n",
    "bhage_Sb                249.0  0.000000e+00  0.000000e+00  0.0  0.000000e+00\n",
    "bhage_Sw                249.0  4.900925e-11  5.009649e-11  0.0  3.552714e-15\n",
    "tage_Aw                 249.0  2.991947e-10  2.456013e-10  0.0  0.000000e+00\n",
    "tage_Pl                 249.0  0.000000e+00  0.000000e+00  0.0  0.000000e+00\n",
    "tage_Sb                 249.0  0.000000e+00  0.000000e+00  0.0  0.000000e+00\n",
    "tage_Sw                 249.0  5.503173e-11  4.985236e-11  0.0  2.442491e-15\n",
    "topHeight_Aw            249.0  1.396238e-11  1.518400e-11  0.0  2.186695e-12\n",
    "topHeight_Pl            249.0  1.595169e-11  1.537507e-11  0.0  2.788880e-12\n",
    "topHeight_Sb            249.0  0.000000e+00  0.000000e+00  0.0  0.000000e+00\n",
    "topHeight_Sw            249.0  1.659295e-11  1.540095e-11  0.0  2.748024e-12\n",
    "BA_Aw                   250.0  1.804915e-01  3.019193e-01  0.0  0.000000e+00\n",
    "BA_Sw                   250.0  3.510634e+00  2.112538e+00  0.0  1.339257e+00\n",
    "BA_Sb                   250.0  0.000000e+00  0.000000e+00  0.0  0.000000e+00\n",
    "BA_Pl                   250.0  7.438736e+00  3.905314e+00  0.0  4.778180e+00\n",
    "Gross_Total_Volume_Aw   249.0  2.783830e-01  5.265409e-01  0.0  0.000000e+00\n",
    "Gross_Total_Volume_Sw   249.0  2.253155e+01  1.681682e+01  0.0  3.071398e+00\n",
    "Gross_Total_Volume_Sb   249.0  0.000000e+00  0.000000e+00  0.0  0.000000e+00\n",
    "Gross_Total_Volume_Pl   249.0  4.553167e+01  2.989262e+01  0.0  1.365971e+01\n",
    "Gross_Total_Volume_Con  249.0  6.805619e+01  4.657865e+01  0.0  1.691722e+01\n",
    "Gross_Total_Volume_Dec  249.0  2.783830e-01  5.265409e-01  0.0  0.000000e+00\n",
    "Gross_Total_Volume_Tot  249.0  6.831815e+01  4.633388e+01  0.0  1.854768e+01\n",
    "MerchantableVolumeAw    236.0  3.036864e-03  6.743568e-03  0.0  0.000000e+00\n",
    "MerchantableVolumeSw    237.0  2.106102e+01  1.589720e+01  0.0  2.459339e+00\n",
    "MerchantableVolumeSb      0.0           NaN           NaN  NaN           NaN\n",
    "MerchantableVolumePl    230.0  5.143352e+01  3.017516e+01  0.0  2.119154e+01\n",
    "MerchantableVolume_Con    0.0           NaN           NaN  NaN           NaN\n",
    "MerchantableVolume_Dec  236.0  3.036864e-03  6.743568e-03  0.0  0.000000e+00\n",
    "MerchantableVolume_Tot    0.0           NaN           NaN  NaN           NaN\n",
    "\n",
    "                                 50%           75%           max\n",
    "N_bh_AwT                2.458762e-10  3.571756e-10  4.978631e-10\n",
    "N_bh_PlT                3.376499e-10  1.921308e-09  4.926278e-09\n",
    "N_bh_SbT                0.000000e+00  0.000000e+00  0.000000e+00\n",
    "N_bh_SwT                2.419824e-10  3.861942e-10  4.990852e-10\n",
    "SC_Aw                   4.353462e-14  2.491896e-13  4.938272e-13\n",
    "SC_Pl                   2.271516e-13  3.484990e-13  4.964917e-13\n",
    "SC_Sb                   0.000000e+00  0.000000e+00  0.000000e+00\n",
    "SC_Sw                   2.376432e-13  3.693157e-13  4.988787e-13\n",
    "bhage_Aw                4.999947e-10  4.999947e-10  4.999947e-10\n",
    "bhage_Pl                7.105427e-15  9.998757e-11  1.000018e-10\n",
    "bhage_Sb                0.000000e+00  0.000000e+00  0.000000e+00\n",
    "bhage_Sw                2.842171e-14  1.000160e-10  1.000302e-10\n",
    "tage_Aw                 4.999947e-10  4.999947e-10  4.999947e-10\n",
    "tage_Pl                 0.000000e+00  0.000000e+00  0.000000e+00\n",
    "tage_Sb                 0.000000e+00  0.000000e+00  0.000000e+00\n",
    "tage_Sw                 1.000160e-10  1.000160e-10  1.000160e-10\n",
    "topHeight_Aw            4.896528e-12  2.366285e-11  4.937029e-11\n",
    "topHeight_Pl            1.067413e-11  2.675193e-11  4.981615e-11\n",
    "topHeight_Sb            0.000000e+00  0.000000e+00  0.000000e+00\n",
    "topHeight_Sw            1.278977e-11  2.808775e-11  4.998846e-11\n",
    "BA_Aw                   0.000000e+00  2.822209e-01  8.614847e-01\n",
    "BA_Sw                   4.846047e+00  5.260187e+00  5.275985e+00\n",
    "BA_Sb                   0.000000e+00  0.000000e+00  0.000000e+00\n",
    "BA_Pl                   9.844476e+00  1.023751e+01  1.342897e+01\n",
    "Gross_Total_Volume_Aw   0.000000e+00  1.994721e-01  1.653403e+00\n",
    "Gross_Total_Volume_Sw   2.588771e+01  3.845868e+01  4.582427e+01\n",
    "Gross_Total_Volume_Sb   0.000000e+00  0.000000e+00  0.000000e+00\n",
    "Gross_Total_Volume_Pl   5.673902e+01  7.282259e+01  8.003148e+01\n",
    "Gross_Total_Volume_Con  8.262674e+01  1.112813e+02  1.258558e+02\n",
    "Gross_Total_Volume_Dec  0.000000e+00  1.994721e-01  1.653403e+00\n",
    "Gross_Total_Volume_Tot  8.262674e+01  1.112813e+02  1.258558e+02\n",
    "MerchantableVolumeAw    0.000000e+00  4.381253e-04  2.448841e-02\n",
    "MerchantableVolumeSw    2.376683e+01  3.609233e+01  4.360047e+01\n",
    "MerchantableVolumeSb             NaN           NaN           NaN\n",
    "MerchantableVolumePl    7.023569e+01  7.415137e+01  7.796752e+01\n",
    "MerchantableVolume_Con           NaN           NaN           NaN\n",
    "MerchantableVolume_Dec  0.000000e+00  4.381253e-04  2.448841e-02\n",
    "MerchantableVolume_Tot           NaN           NaN           NaN\n",
    "```"
   ]
  },
  {
   "cell_type": "markdown",
   "metadata": {},
   "source": [
    "# Review code changes"
   ]
  },
  {
   "cell_type": "code",
   "execution_count": 33,
   "metadata": {
    "collapsed": false
   },
   "outputs": [
    {
     "name": "stdout",
     "output_type": "stream",
     "text": [
      "3694134 Update test data\n",
      "ab526af Vectorise the merch vol functions\n",
      "4aa48dc Fixup merch vol constants\n",
      "bd1239b Refactor merch volume functions\n",
      "4f6757d Remove species checks in the merch vol functions\n",
      "23d2674 Remove species suffix where not needed\n",
      "36bc44a Add reminder for testing gross total volume\n",
      "a26b09c Update test data-vectorized volume functs yield na\n",
      "7b70fcf vectorize the gross total volume functions\n",
      "5c42031 Add notebook for 3rd iteration - vectorize volumes\n"
     ]
    }
   ],
   "source": [
    "%%bash\n",
    "git log --since \"2016-11-14 19:30\" --oneline # 19:30 GMT/UTC"
   ]
  },
  {
   "cell_type": "code",
   "execution_count": 34,
   "metadata": {
    "collapsed": false,
    "scrolled": true
   },
   "outputs": [
    {
     "name": "stdout",
     "output_type": "stream",
     "text": [
      "\u001b[1mdiff --git a/gypsy/GYPSYNonSpatial.py b/gypsy/GYPSYNonSpatial.py\u001b[m\r\n",
      "\u001b[1mindex 7b93c0f..ec1d1fc 100644\u001b[m\r\n",
      "\u001b[1m--- a/gypsy/GYPSYNonSpatial.py\u001b[m\r\n",
      "\u001b[1m+++ b/gypsy/GYPSYNonSpatial.py\u001b[m\r\n",
      "\u001b[36m@@ -1381,82 +1381,88 @@\u001b[m \u001b[mdef BAfromZeroToDataPl(startTage, startTagePl, y2bh_Pl, SC_Pl, SI_bh_Pl,\u001b[m\r\n",
      "     return basal_area_arr\u001b[m\r\n",
      " \u001b[m\r\n",
      " \u001b[m\r\n",
      "\u001b[31m-def GrossTotalVolume_Aw(BA_Aw, topHeight_Aw):\u001b[m\r\n",
      "\u001b[31m-    '''Gross total volume is estimated only using species specific Basal Area and\u001b[m\r\n",
      "\u001b[31m-    Top height\u001b[m\r\n",
      "\u001b[32m+\u001b[m\u001b[32mdef GrossTotalVolume_Aw(basal_area, top_height):\u001b[m\r\n",
      "\u001b[32m+\u001b[m\u001b[32m    ''' White Aspen Gross Total Volume\u001b[m\r\n",
      " \u001b[m\r\n",
      "\u001b[31m-    :param float BA_Aw: basal area of Aw\u001b[m\r\n",
      "\u001b[31m-    :param float topHeight_Aw: top height of Aw\u001b[m\r\n",
      "\u001b[32m+\u001b[m\u001b[32m    Note that inputs may be scalars, or numpy arrays.\u001b[m\r\n",
      "\u001b[32m+\u001b[m\r\n",
      "\u001b[32m+\u001b[m\u001b[32m    :param float basal_area: basal area\u001b[m\r\n",
      "\u001b[32m+\u001b[m\u001b[32m    :param float top_height: top height\u001b[m\r\n",
      " \u001b[m\r\n",
      "     '''\u001b[m\r\n",
      "\u001b[31m-    Tvol_Aw = 0\u001b[m\r\n",
      "\u001b[32m+\u001b[m\u001b[32m    a1 = 0.248718\u001b[m\r\n",
      "\u001b[32m+\u001b[m\u001b[32m    a2 = 0.98568\u001b[m\r\n",
      "\u001b[32m+\u001b[m\u001b[32m    a3 = 0.857278\u001b[m\r\n",
      "\u001b[32m+\u001b[m\u001b[32m    a4 = -24.9961\u001b[m\r\n",
      "\u001b[32m+\u001b[m\u001b[32m    tot_vol = a1 \\\u001b[m\r\n",
      "\u001b[32m+\u001b[m\u001b[32m              * (basal_area**a2) \\\u001b[m\r\n",
      "\u001b[32m+\u001b[m\u001b[32m              * (top_height**a3) \\\u001b[m\r\n",
      "\u001b[32m+\u001b[m\u001b[32m              * numpy.exp( 1 \\\u001b[m\r\n",
      "\u001b[32m+\u001b[m\u001b[32m                           + ( a4 / (( top_height**2 ) + 1 ))\u001b[m\r\n",
      "\u001b[32m+\u001b[m\u001b[32m              )\u001b[m\r\n",
      " \u001b[m\r\n",
      "\u001b[31m-    if topHeight_Aw > 0:\u001b[m\r\n",
      "\u001b[31m-        a1 = 0.248718\u001b[m\r\n",
      "\u001b[31m-        a2 = 0.98568\u001b[m\r\n",
      "\u001b[31m-        a3 = 0.857278\u001b[m\r\n",
      "\u001b[31m-        a4 = -24.9961\u001b[m\r\n",
      "\u001b[31m-        Tvol_Aw = a1 * (BA_Aw**a2) * (topHeight_Aw**a3) * numpy.exp(1+(a4/((topHeight_Aw**2)+1)))\u001b[m\r\n",
      "\u001b[32m+\u001b[m\u001b[32m    return tot_vol\u001b[m\r\n",
      " \u001b[m\r\n",
      "\u001b[31m-    return Tvol_Aw\u001b[m\r\n",
      " \u001b[m\r\n",
      "\u001b[32m+\u001b[m\u001b[32mdef GrossTotalVolume_Sw(basal_area, top_height):\u001b[m\r\n",
      "\u001b[32m+\u001b[m\u001b[32m    '''White Spruce Gross Total Volume\u001b[m\r\n",
      " \u001b[m\r\n",
      "\u001b[31m-def GrossTotalVolume_Sw(BA_Sw, topHeight_Sw):\u001b[m\r\n",
      "\u001b[31m-    '''Gross total volume is estimated only using species specific Basal Area and\u001b[m\r\n",
      "\u001b[31m-    Top height\u001b[m\r\n",
      "\u001b[32m+\u001b[m\u001b[32m    Note that inputs may be scalars, or numpy arrays.\u001b[m\r\n",
      " \u001b[m\r\n",
      "\u001b[31m-    :param float BA_Sw: basal area of Sw\u001b[m\r\n",
      "\u001b[31m-    :param float topHeight_Sw: top height of Sw\u001b[m\r\n",
      "\u001b[32m+\u001b[m\u001b[32m    :param float basal_area: basal area\u001b[m\r\n",
      "\u001b[32m+\u001b[m\u001b[32m    :param float top_height: top height\u001b[m\r\n",
      " \u001b[m\r\n",
      "     '''\u001b[m\r\n",
      "\u001b[31m-    Tvol_Sw = 0\u001b[m\r\n",
      "\u001b[32m+\u001b[m\u001b[32m    b1 = 0.41104\u001b[m\r\n",
      "\u001b[32m+\u001b[m\u001b[32m    b2 = 0.983108\u001b[m\r\n",
      "\u001b[32m+\u001b[m\u001b[32m    b3 = 0.971061\u001b[m\r\n",
      "\u001b[32m+\u001b[m\u001b[32m    tot_vol = b1 \\\u001b[m\r\n",
      "\u001b[32m+\u001b[m\u001b[32m              * (basal_area**b2) \\\u001b[m\r\n",
      "\u001b[32m+\u001b[m\u001b[32m              * (top_height**b3)\u001b[m\r\n",
      " \u001b[m\r\n",
      "\u001b[31m-    if topHeight_Sw > 0:\u001b[m\r\n",
      "\u001b[31m-        b1 = 0.41104\u001b[m\r\n",
      "\u001b[31m-        b2 = 0.983108\u001b[m\r\n",
      "\u001b[31m-        b3 = 0.971061\u001b[m\r\n",
      "\u001b[31m-        Tvol_Sw = b1 * (BA_Sw**b2) *  (topHeight_Sw**b3)\u001b[m\r\n",
      "\u001b[32m+\u001b[m\u001b[32m    return tot_vol\u001b[m\r\n",
      " \u001b[m\r\n",
      "\u001b[31m-    return Tvol_Sw\u001b[m\r\n",
      " \u001b[m\r\n",
      "\u001b[32m+\u001b[m\u001b[32mdef GrossTotalVolume_Sb(basal_area, top_height):\u001b[m\r\n",
      "\u001b[32m+\u001b[m\u001b[32m    '''Black Spruce Gross Total Volume\u001b[m\r\n",
      " \u001b[m\r\n",
      "\u001b[31m-def GrossTotalVolume_Sb(BA_Sb, topHeight_Sb):\u001b[m\r\n",
      "\u001b[31m-    '''Gross total volume is estimated only using species specific Basal Area and\u001b[m\r\n",
      "\u001b[31m-    Top height\u001b[m\r\n",
      "\u001b[32m+\u001b[m\u001b[32m    Note that inputs may be scalars, or numpy arrays.\u001b[m\r\n",
      " \u001b[m\r\n",
      "\u001b[31m-    :param float BA_Sb: basal area of Sb\u001b[m\r\n",
      "\u001b[31m-    :param float topHeight_Sb: top height of Sb\u001b[m\r\n",
      "\u001b[32m+\u001b[m\u001b[32m    :param float basal_area: basal area\u001b[m\r\n",
      "\u001b[32m+\u001b[m\u001b[32m    :param float top_height: top height\u001b[m\r\n",
      " \u001b[m\r\n",
      "     '''\u001b[m\r\n",
      "\u001b[31m-    Tvol_Sb = 0\u001b[m\r\n",
      "\u001b[32m+\u001b[m\u001b[32m    b1 = 0.48628\u001b[m\r\n",
      "\u001b[32m+\u001b[m\u001b[32m    b2 = 0.982962\u001b[m\r\n",
      "\u001b[32m+\u001b[m\u001b[32m    b3 = 0.910603\u001b[m\r\n",
      "\u001b[32m+\u001b[m\u001b[32m    tot_vol = b1 \\\u001b[m\r\n",
      "\u001b[32m+\u001b[m\u001b[32m              * (basal_area**b2) \\\u001b[m\r\n",
      "\u001b[32m+\u001b[m\u001b[32m              * (top_height**b3)\u001b[m\r\n",
      " \u001b[m\r\n",
      "\u001b[31m-    if topHeight_Sb > 0:\u001b[m\r\n",
      "\u001b[31m-        b1 = 0.48628\u001b[m\r\n",
      "\u001b[31m-        b2 = 0.982962\u001b[m\r\n",
      "\u001b[31m-        b3 = 0.910603\u001b[m\r\n",
      "\u001b[31m-        Tvol_Sb = b1 * (BA_Sb**b2) * (topHeight_Sb**b3)\u001b[m\r\n",
      "\u001b[32m+\u001b[m\u001b[32m    return tot_vol\u001b[m\r\n",
      " \u001b[m\r\n",
      "\u001b[31m-    return Tvol_Sb\u001b[m\r\n",
      " \u001b[m\r\n",
      "\u001b[32m+\u001b[m\u001b[32mdef GrossTotalVolume_Pl(basal_area, top_height):\u001b[m\r\n",
      "\u001b[32m+\u001b[m\u001b[32m    '''Lodgepole Pine Gross Total Volume\u001b[m\r\n",
      " \u001b[m\r\n",
      "\u001b[31m-def GrossTotalVolume_Pl(BA_Pl, topHeight_Pl):\u001b[m\r\n",
      "\u001b[31m-    '''Gross total volume is estimated only using species specific Basal Area and\u001b[m\r\n",
      "\u001b[31m-    Top height\u001b[m\r\n",
      "\u001b[32m+\u001b[m\u001b[32m    Note that inputs may be scalars, or numpy arrays.\u001b[m\r\n",
      " \u001b[m\r\n",
      "\u001b[31m-    :param float BA_Pl: basal area of Pl\u001b[m\r\n",
      "\u001b[31m-    :param float topHeight_Pl: top height of Pl\u001b[m\r\n",
      "\u001b[32m+\u001b[m\u001b[32m    :param float basal_area: basal area\u001b[m\r\n",
      "\u001b[32m+\u001b[m\u001b[32m    :param float top_height: top height\u001b[m\r\n",
      " \u001b[m\r\n",
      "     '''\u001b[m\r\n",
      "\u001b[31m-    Tvol_Pl = 0\u001b[m\r\n",
      "\u001b[31m-\u001b[m\r\n",
      "\u001b[31m-    if topHeight_Pl > 0:\u001b[m\r\n",
      "\u001b[31m-        a1 = 0.194086\u001b[m\r\n",
      "\u001b[31m-        a2 = 0.988276\u001b[m\r\n",
      "\u001b[31m-        a3 = 0.949346\u001b[m\r\n",
      "\u001b[31m-        a4 = -3.39036\u001b[m\r\n",
      "\u001b[31m-        Tvol_Pl = a1* (BA_Pl**a2) * (topHeight_Pl **a3) * numpy.exp(1+(a4/((topHeight_Pl**2)+1)))\u001b[m\r\n",
      "\u001b[31m-\u001b[m\r\n",
      "\u001b[31m-    return Tvol_Pl\u001b[m\r\n",
      "\u001b[32m+\u001b[m\u001b[32m    a1 = 0.194086\u001b[m\r\n",
      "\u001b[32m+\u001b[m\u001b[32m    a2 = 0.988276\u001b[m\r\n",
      "\u001b[32m+\u001b[m\u001b[32m    a3 = 0.949346\u001b[m\r\n",
      "\u001b[32m+\u001b[m\u001b[32m    a4 = -3.39036\u001b[m\r\n",
      "\u001b[32m+\u001b[m\u001b[32m    tot_vol = a1 \\\u001b[m\r\n",
      "\u001b[32m+\u001b[m\u001b[32m              * (basal_area**a2) \\\u001b[m\r\n",
      "\u001b[32m+\u001b[m\u001b[32m              * (top_height**a3) \\\u001b[m\r\n",
      "\u001b[32m+\u001b[m\u001b[32m              * numpy.exp(\u001b[m\r\n",
      "\u001b[32m+\u001b[m\u001b[32m                  1 + ( a4 / (( top_height**2 ) + 1 ))\u001b[m\r\n",
      "\u001b[32m+\u001b[m\u001b[32m              )\u001b[m\r\n",
      "\u001b[32m+\u001b[m\r\n",
      "\u001b[32m+\u001b[m\u001b[32m    return tot_vol\u001b[m\r\n",
      " \u001b[m\r\n",
      " def gross_total_volume(species, *args):\u001b[m\r\n",
      "     return {\u001b[m\r\n",
      "\u001b[36m@@ -1468,8 +1474,8 @@\u001b[m \u001b[mdef gross_total_volume(species, *args):\u001b[m\r\n",
      " \u001b[m\r\n",
      " \u001b[m\r\n",
      " \u001b[m\r\n",
      "\u001b[31m-def MerchantableVolumeAw(N_bh_Aw, BA_Aw, topHeight_Aw, StumpDOB_Aw,\u001b[m\r\n",
      "\u001b[31m-                         StumpHeight_Aw, TopDib_Aw, Tvol_Aw):\u001b[m\r\n",
      "\u001b[32m+\u001b[m\u001b[32mdef MerchantableVolumeAw(density, basal_area, top_height, total_volume,\u001b[m\r\n",
      "\u001b[32m+\u001b[m\u001b[32m                         stump_dob=13, top_dib=7, stump_height=0.3):\u001b[m\r\n",
      "     '''Merchantable volume for white aspen\u001b[m\r\n",
      " \u001b[m\r\n",
      "     Only new variables are the stump diameter outside bark, stump height and\u001b[m\r\n",
      "\u001b[36m@@ -1477,156 +1483,158 @@\u001b[m \u001b[mdef MerchantableVolumeAw(N_bh_Aw, BA_Aw, topHeight_Aw, StumpDOB_Aw,\u001b[m\r\n",
      "     avoid division by zero when density is zero, i.e., when the species is\u001b[m\r\n",
      "     absent in the plot.\u001b[m\r\n",
      " \u001b[m\r\n",
      "\u001b[31m-    :param float N_bh_Aw: density of sp Aw\u001b[m\r\n",
      "\u001b[31m-    :param float topHeight_Aw: top height of Aw\u001b[m\r\n",
      "\u001b[31m-    :param float StumpDOB_Aw:  stump diameter outside bark of Aw\u001b[m\r\n",
      "\u001b[31m-    :param float StumpHeight_Aw: stump height of Aw\u001b[m\r\n",
      "\u001b[31m-    :param float TopDib_Aw: top diameter inside bark\u001b[m\r\n",
      "\u001b[31m-    :param float Tvol_Aw: Gross total volume of Aw\u001b[m\r\n",
      "\u001b[32m+\u001b[m\u001b[32m    :param float density: density\u001b[m\r\n",
      "\u001b[32m+\u001b[m\u001b[32m    :param float basal_area: basal area\u001b[m\r\n",
      "\u001b[32m+\u001b[m\u001b[32m    :param float top_height: top height\u001b[m\r\n",
      "\u001b[32m+\u001b[m\u001b[32m    :param float StumpHeight: stump height\u001b[m\r\n",
      "\u001b[32m+\u001b[m\u001b[32m    :param float TopDib: top diameter inside bark\u001b[m\r\n",
      "\u001b[32m+\u001b[m\u001b[32m    :param float total_volume: Gross total volume\u001b[m\r\n",
      "\u001b[32m+\u001b[m\u001b[32m    :param float StumpDOB:  stump diameter outside bark\u001b[m\r\n",
      " \u001b[m\r\n",
      "     '''\u001b[m\r\n",
      "\u001b[31m-    if N_bh_Aw > 0:\u001b[m\r\n",
      "\u001b[31m-        k_Aw = (BA_Aw * 10000.0 / N_bh_Aw)**0.5\u001b[m\r\n",
      "\u001b[31m-    else:\u001b[m\r\n",
      "\u001b[31m-        k_Aw = 0\u001b[m\r\n",
      "\u001b[31m-\u001b[m\r\n",
      "\u001b[31m-    if k_Aw > 0 and topHeight_Aw > 0:\u001b[m\r\n",
      "\u001b[31m-        b0 = 0.993673\u001b[m\r\n",
      "\u001b[31m-        b1 = 923.5825\u001b[m\r\n",
      "\u001b[31m-        b2 = -3.96171\u001b[m\r\n",
      "\u001b[31m-        b3 = 3.366144\u001b[m\r\n",
      "\u001b[31m-        b4 = 0.316236\u001b[m\r\n",
      "\u001b[31m-        b5 = 0.968953\u001b[m\r\n",
      "\u001b[31m-        b6 = -1.61247\u001b[m\r\n",
      "\u001b[31m-        k1 = Tvol_Aw * (k_Aw**b0)\u001b[m\r\n",
      "\u001b[31m-        k2 = (b1* (topHeight_Aw**b2) * (StumpDOB_Aw**b3) * (StumpHeight_Aw**b4) * (TopDib_Aw**b5)  * (k_Aw**b6)) + k_Aw\u001b[m\r\n",
      "\u001b[31m-        MVol_Aw = k1/k2\u001b[m\r\n",
      "\u001b[31m-    else:\u001b[m\r\n",
      "\u001b[31m-        MVol_Aw = 0\u001b[m\r\n",
      "\u001b[31m-\u001b[m\r\n",
      "\u001b[31m-    return MVol_Aw\u001b[m\r\n",
      "\u001b[31m-\u001b[m\r\n",
      "\u001b[31m-\u001b[m\r\n",
      "\u001b[31m-def MerchantableVolumeSb(N_bh_Sb, BA_Sb, topHeight_Sb, StumpDOB_Sb,\u001b[m\r\n",
      "\u001b[31m-                         StumpHeight_Sb, TopDib_Sb, Tvol_Sb):\u001b[m\r\n",
      "\u001b[32m+\u001b[m\u001b[32m    k = (basal_area * 10000.0 / density)**0.5\u001b[m\r\n",
      "\u001b[32m+\u001b[m\u001b[32m    b0 = 0.993673\u001b[m\r\n",
      "\u001b[32m+\u001b[m\u001b[32m    b1 = 923.5825\u001b[m\r\n",
      "\u001b[32m+\u001b[m\u001b[32m    b2 = -3.96171\u001b[m\r\n",
      "\u001b[32m+\u001b[m\u001b[32m    b3 = 3.366144\u001b[m\r\n",
      "\u001b[32m+\u001b[m\u001b[32m    b4 = 0.316236\u001b[m\r\n",
      "\u001b[32m+\u001b[m\u001b[32m    b5 = 0.968953\u001b[m\r\n",
      "\u001b[32m+\u001b[m\u001b[32m    b6 = -1.61247\u001b[m\r\n",
      "\u001b[32m+\u001b[m\u001b[32m    k1 = total_volume * (k**b0)\u001b[m\r\n",
      "\u001b[32m+\u001b[m\u001b[32m    k2 = (\u001b[m\r\n",
      "\u001b[32m+\u001b[m\u001b[32m        b1 \\\u001b[m\r\n",
      "\u001b[32m+\u001b[m\u001b[32m        * (top_height**b2) \\\u001b[m\r\n",
      "\u001b[32m+\u001b[m\u001b[32m        * (stump_dob**b3) \\\u001b[m\r\n",
      "\u001b[32m+\u001b[m\u001b[32m        * (stump_height**b4) \\\u001b[m\r\n",
      "\u001b[32m+\u001b[m\u001b[32m        * (top_dib**b5) \\\u001b[m\r\n",
      "\u001b[32m+\u001b[m\u001b[32m        * (k**b6)\u001b[m\r\n",
      "\u001b[32m+\u001b[m\u001b[32m    ) + k\u001b[m\r\n",
      "\u001b[32m+\u001b[m\u001b[32m    merch_vol = k1/k2\u001b[m\r\n",
      "\u001b[32m+\u001b[m\r\n",
      "\u001b[32m+\u001b[m\u001b[32m    return merch_vol\u001b[m\r\n",
      "\u001b[32m+\u001b[m\r\n",
      "\u001b[32m+\u001b[m\r\n",
      "\u001b[32m+\u001b[m\u001b[32mdef MerchantableVolumeSb(density, basal_area, top_height, total_volume,\u001b[m\r\n",
      "\u001b[32m+\u001b[m\u001b[32m                         stump_dob=13, top_dib=7, stump_height=0.3):\u001b[m\r\n",
      "     '''Merchantable volume black spruce\u001b[m\r\n",
      " \u001b[m\r\n",
      "     The if below was used (and in other functions) to avoid division by zero\u001b[m\r\n",
      "     when density is zero, i.e., when the species is absent in the plot.\u001b[m\r\n",
      " \u001b[m\r\n",
      "\u001b[31m-    :param float N_bh_Sb: density of sp Sb\u001b[m\r\n",
      "\u001b[31m-    :param float topHeight_Sb: top height of Sb\u001b[m\r\n",
      "\u001b[31m-    :param float StumpDOB_Sb:  stump diameter outside bark of Sb\u001b[m\r\n",
      "\u001b[31m-    :param float StumpHeight_Sb: stump height of Sb\u001b[m\r\n",
      "\u001b[31m-    :param float TopDib_Sb: top diameter inside bark of Sb\u001b[m\r\n",
      "\u001b[31m-    :param float Tvol_Sb: Gross total volume of Sb\u001b[m\r\n",
      "\u001b[31m-\u001b[m\r\n",
      "\u001b[31m-    '''\u001b[m\r\n",
      "\u001b[31m-    if N_bh_Sb > 0:\u001b[m\r\n",
      "\u001b[31m-        k_Sb = (BA_Sb * 10000.0 / N_bh_Sb)**0.5\u001b[m\r\n",
      "\u001b[31m-    else:\u001b[m\r\n",
      "\u001b[31m-        k_Sb = 0\u001b[m\r\n",
      "\u001b[31m-\u001b[m\r\n",
      "\u001b[31m-    if k_Sb > 0 and  topHeight_Sb > 0:\u001b[m\r\n",
      "\u001b[31m-        if sp_Sb[0] in('Sb', 'Lt', 'La', 'Lw', 'L'):\u001b[m\r\n",
      "\u001b[31m-            b0 = 0.98152\u001b[m\r\n",
      "\u001b[31m-            b1 = 0.678011\u001b[m\r\n",
      "\u001b[31m-            b2 = -1.10256\u001b[m\r\n",
      "\u001b[31m-            b3 = 4.148139\u001b[m\r\n",
      "\u001b[31m-            b4 = 0.511391\u001b[m\r\n",
      "\u001b[31m-            b5 = 1.484988\u001b[m\r\n",
      "\u001b[31m-            b6 = -3.26425\u001b[m\r\n",
      "\u001b[31m-            StumpDOB = sp_Sb[7]\u001b[m\r\n",
      "\u001b[31m-            StumpHeight = sp_Sb[8]\u001b[m\r\n",
      "\u001b[31m-            TopDib = sp_Sb[9]\u001b[m\r\n",
      "\u001b[31m-            MVol_Sb = (Tvol_Sb * (k_Sb**b0))/ ((b1* (topHeight_Sb**b2) * (StumpDOB_Sb**b3) * (StumpHeight_Sb**b4) * (TopDib_Sb**b5) * (k_Sb**b6)) +k_Sb)\u001b[m\r\n",
      "\u001b[31m-    else:\u001b[m\r\n",
      "\u001b[31m-        MVol_Sb = 0\u001b[m\r\n",
      "\u001b[31m-\u001b[m\r\n",
      "\u001b[31m-    return MVol_Sb\u001b[m\r\n",
      "\u001b[31m-\u001b[m\r\n",
      "\u001b[32m+\u001b[m\u001b[32m    :param float density: density\u001b[m\r\n",
      "\u001b[32m+\u001b[m\u001b[32m    :param float top_height: top height\u001b[m\r\n",
      "\u001b[32m+\u001b[m\u001b[32m    :param float StumpDOB:  stump diameter outside bark\u001b[m\r\n",
      "\u001b[32m+\u001b[m\u001b[32m    :param float StumpHeight: stump height\u001b[m\r\n",
      "\u001b[32m+\u001b[m\u001b[32m    :param float TopDib: top diameter inside bark\u001b[m\r\n",
      "\u001b[32m+\u001b[m\u001b[32m    :param float total_volume: Gross total volume\u001b[m\r\n",
      " \u001b[m\r\n",
      "\u001b[31m-\u001b[m\r\n",
      "\u001b[31m-def MerchantableVolumeSw(N_bh_Sw, BA_Sw, topHeight_Sw, StumpDOB_Sw,\u001b[m\r\n",
      "\u001b[31m-                         StumpHeight_Sw, TopDib_Sw, Tvol_Sw):\u001b[m\r\n",
      "     '''\u001b[m\r\n",
      "\u001b[31m-    Merchantable volume only new variables are the stump diameter outside bark, stump height and top diameter inside bark\u001b[m\r\n",
      "\u001b[32m+\u001b[m\u001b[32m    k = (basal_area * 10000.0 / density)**0.5\u001b[m\r\n",
      "\u001b[32m+\u001b[m\u001b[32m    b0 = 0.98152\u001b[m\r\n",
      "\u001b[32m+\u001b[m\u001b[32m    b1 = 0.678011\u001b[m\r\n",
      "\u001b[32m+\u001b[m\u001b[32m    b2 = -1.10256\u001b[m\r\n",
      "\u001b[32m+\u001b[m\u001b[32m    b3 = 4.148139\u001b[m\r\n",
      "\u001b[32m+\u001b[m\u001b[32m    b4 = 0.511391\u001b[m\r\n",
      "\u001b[32m+\u001b[m\u001b[32m    b5 = 1.484988\u001b[m\r\n",
      "\u001b[32m+\u001b[m\u001b[32m    b6 = -3.26425\u001b[m\r\n",
      "\u001b[32m+\u001b[m\u001b[32m    merch_vol = ( total_volume * (k**b0) ) \\\u001b[m\r\n",
      "\u001b[32m+\u001b[m\u001b[32m                / (\u001b[m\r\n",
      "\u001b[32m+\u001b[m\u001b[32m                    ( b1 \\\u001b[m\r\n",
      "\u001b[32m+\u001b[m\u001b[32m                      * (top_height**b2) \\\u001b[m\r\n",
      "\u001b[32m+\u001b[m\u001b[32m                      * (stump_dob**b3) \\\u001b[m\r\n",
      "\u001b[32m+\u001b[m\u001b[32m                      * (stump_height**b4) \\\u001b[m\r\n",
      "\u001b[32m+\u001b[m\u001b[32m                      * (top_dib**b5) \\\u001b[m\r\n",
      "\u001b[32m+\u001b[m\u001b[32m                      * (k**b6)\u001b[m\r\n",
      "\u001b[32m+\u001b[m\u001b[32m                    ) + k\u001b[m\r\n",
      "\u001b[32m+\u001b[m\u001b[32m                )\u001b[m\r\n",
      "\u001b[32m+\u001b[m\r\n",
      "\u001b[32m+\u001b[m\u001b[32m    return merch_vol\u001b[m\r\n",
      "\u001b[32m+\u001b[m\r\n",
      "\u001b[32m+\u001b[m\r\n",
      "\u001b[32m+\u001b[m\r\n",
      "\u001b[32m+\u001b[m\u001b[32mdef MerchantableVolumeSw(density, basal_area, top_height, total_volume,\u001b[m\r\n",
      "\u001b[32m+\u001b[m\u001b[32m                         stump_dob=13, top_dib=7, stump_height=0.3):\u001b[m\r\n",
      "\u001b[32m+\u001b[m\u001b[32m    '''Merchantable volume for white spruce\u001b[m\r\n",
      " \u001b[m\r\n",
      "     The if below was used (and in other functions) to avoid\u001b[m\r\n",
      "     division by zero when density is zero, i.e., when the\u001b[m\r\n",
      "     species is absent in the plot.\u001b[m\r\n",
      " \u001b[m\r\n",
      "\u001b[31m-    :param float N_bh_Sw: density of sp Sw\u001b[m\r\n",
      "\u001b[31m-    :param float topHeight_Sw: top height of Sw\u001b[m\r\n",
      "\u001b[31m-    :param float StumpDOB_Sw:  stump diameter outside bark of Sw\u001b[m\r\n",
      "\u001b[31m-    :param float StumpHeight_Sw: stump height of Sw\u001b[m\r\n",
      "\u001b[31m-    :param float TopDib_Sw: top diameter inside bark of Sw\u001b[m\r\n",
      "\u001b[31m-    :param float Tvol_Sw: Gross total volume of Sw\u001b[m\r\n",
      "\u001b[31m-    '''\u001b[m\r\n",
      "\u001b[31m-    if N_bh_Sw > 0:\u001b[m\r\n",
      "\u001b[31m-        k_Sw = (BA_Sw * 10000.0 / N_bh_Sw)**0.5\u001b[m\r\n",
      "\u001b[31m-    else:\u001b[m\r\n",
      "\u001b[31m-        k_Sw = 0\u001b[m\r\n",
      "\u001b[31m-    if k_Sw > 0 and  topHeight_Sw > 0:\u001b[m\r\n",
      "\u001b[31m-        if sp_Sw[0] in ('Sw', 'Se', 'Fd', 'Fb', 'Fa'):\u001b[m\r\n",
      "\u001b[31m-            b0 = 0.996262\u001b[m\r\n",
      "\u001b[31m-            b1 = 7.021736\u001b[m\r\n",
      "\u001b[31m-            b2 = -1.77615\u001b[m\r\n",
      "\u001b[31m-            b3 = 1.91562\u001b[m\r\n",
      "\u001b[31m-            b4 = 0.4111\u001b[m\r\n",
      "\u001b[31m-            b5 = 1.024803\u001b[m\r\n",
      "\u001b[31m-            b6 = -0.80121\u001b[m\r\n",
      "\u001b[31m-            MVol_Sw = (Tvol_Sw * (k_Sw**b0)) /   ((b1* (topHeight_Sw**b2) * (sp_Sw[7]**b3) * (sp_Sw[8]**b4) * (sp_Sw[9]**b5) * (k_Sw**b6)) +k_Sw)\u001b[m\r\n",
      "\u001b[31m-    else:\u001b[m\r\n",
      "\u001b[31m-        MVol_Sw = 0\u001b[m\r\n",
      "\u001b[31m-\u001b[m\r\n",
      "\u001b[31m-    return MVol_Sw\u001b[m\r\n",
      "\u001b[31m-\u001b[m\r\n",
      "\u001b[31m-\u001b[m\r\n",
      "\u001b[32m+\u001b[m\u001b[32m    :param float density: density\u001b[m\r\n",
      "\u001b[32m+\u001b[m\u001b[32m    :param float top_height: top height\u001b[m\r\n",
      "\u001b[32m+\u001b[m\u001b[32m    :param float StumpDOB:  stump diameter outside bark\u001b[m\r\n",
      "\u001b[32m+\u001b[m\u001b[32m    :param float StumpHeight: stump height\u001b[m\r\n",
      "\u001b[32m+\u001b[m\u001b[32m    :param float TopDib: top diameter inside bark\u001b[m\r\n",
      "\u001b[32m+\u001b[m\u001b[32m    :param float total_volume: Gross total volume\u001b[m\r\n",
      " \u001b[m\r\n",
      "\u001b[31m-def MerchantableVolumePl(N_bh_Pl, BA_Pl, topHeight_Pl, StumpDOB_Pl,\u001b[m\r\n",
      "\u001b[31m-                         StumpHeight_Pl, TopDib_Pl, Tvol_Pl):\u001b[m\r\n",
      "\u001b[31m-    '''Merchantable volume lodgepole pine\u001b[m\r\n",
      "\u001b[32m+\u001b[m\u001b[32m    '''\u001b[m\r\n",
      "\u001b[32m+\u001b[m\u001b[32m    k = (basal_area * 10000.0 / density)**0.5\u001b[m\r\n",
      "\u001b[32m+\u001b[m\u001b[32m    b0 = 0.996262\u001b[m\r\n",
      "\u001b[32m+\u001b[m\u001b[32m    b1 = 7.021736\u001b[m\r\n",
      "\u001b[32m+\u001b[m\u001b[32m    b2 = -1.77615\u001b[m\r\n",
      "\u001b[32m+\u001b[m\u001b[32m    b3 = 1.91562\u001b[m\r\n",
      "\u001b[32m+\u001b[m\u001b[32m    b4 = 0.4111\u001b[m\r\n",
      "\u001b[32m+\u001b[m\u001b[32m    b5 = 1.024803\u001b[m\r\n",
      "\u001b[32m+\u001b[m\u001b[32m    b6 = -0.80121\u001b[m\r\n",
      "\u001b[32m+\u001b[m\u001b[32m    merch_vol = (total_volume * (k**b0)) \\\u001b[m\r\n",
      "\u001b[32m+\u001b[m\u001b[32m                / (\u001b[m\r\n",
      "\u001b[32m+\u001b[m\u001b[32m                    ( b1 \\\u001b[m\r\n",
      "\u001b[32m+\u001b[m\u001b[32m                     * (top_height**b2) \\\u001b[m\r\n",
      "\u001b[32m+\u001b[m\u001b[32m                     * (stump_dob**b3) \\\u001b[m\r\n",
      "\u001b[32m+\u001b[m\u001b[32m                     * (stump_height**b4) \\\u001b[m\r\n",
      "\u001b[32m+\u001b[m\u001b[32m                     * (top_dib**b5) \\\u001b[m\r\n",
      "\u001b[32m+\u001b[m\u001b[32m                     * (k**b6)\u001b[m\r\n",
      "\u001b[32m+\u001b[m\u001b[32m                    ) + k\u001b[m\r\n",
      "\u001b[32m+\u001b[m\u001b[32m                )\u001b[m\r\n",
      "\u001b[32m+\u001b[m\r\n",
      "\u001b[32m+\u001b[m\u001b[32m    return merch_vol\u001b[m\r\n",
      "\u001b[32m+\u001b[m\r\n",
      "\u001b[32m+\u001b[m\r\n",
      "\u001b[32m+\u001b[m\r\n",
      "\u001b[32m+\u001b[m\u001b[32mdef MerchantableVolumePl(density, basal_area, top_height, total_volume,\u001b[m\r\n",
      "\u001b[32m+\u001b[m\u001b[32m                         stump_dob=13, top_dib=7, stump_height=0.3):\u001b[m\r\n",
      "\u001b[32m+\u001b[m\u001b[32m    '''Merchantable volume for lodgepole pine\u001b[m\r\n",
      " \u001b[m\r\n",
      "     The if below was used (and in other functions) to avoid division by zero\u001b[m\r\n",
      "     when density is zero, i.e., when the species is absent in the plot.\u001b[m\r\n",
      " \u001b[m\r\n",
      "\u001b[31m-    :param float N_bh_Pl: density of sp Pl\u001b[m\r\n",
      "\u001b[31m-    :param float topHeight_Pl: top height of Pl\u001b[m\r\n",
      "\u001b[31m-    :param float StumpDOB_Pl:  stump diameter outside bark of Pl\u001b[m\r\n",
      "\u001b[31m-    :param float StumpHeight_Pl: stump height of Pl\u001b[m\r\n",
      "\u001b[31m-    :param float TopDib_Pl: top diameter inside bark of Pl\u001b[m\r\n",
      "\u001b[31m-    :param float Tvol_Pl: Gross total volume of Pl\u001b[m\r\n",
      "\u001b[32m+\u001b[m\u001b[32m    :param float density: density\u001b[m\r\n",
      "\u001b[32m+\u001b[m\u001b[32m    :param float top_height: top height\u001b[m\r\n",
      "\u001b[32m+\u001b[m\u001b[32m    :param float StumpDOB:  stump diameter outside bark\u001b[m\r\n",
      "\u001b[32m+\u001b[m\u001b[32m    :param float StumpHeight: stump height\u001b[m\r\n",
      "\u001b[32m+\u001b[m\u001b[32m    :param float TopDib: top diameter inside bark\u001b[m\r\n",
      "\u001b[32m+\u001b[m\u001b[32m    :param float total_volume: Gross total volume\u001b[m\r\n",
      " \u001b[m\r\n",
      "     '''\u001b[m\r\n",
      "\u001b[31m-    if N_bh_Pl > 0:\u001b[m\r\n",
      "\u001b[31m-        k_Pl = (BA_Pl * 10000.0 / N_bh_Pl)**0.5\u001b[m\r\n",
      "\u001b[31m-    else:\u001b[m\r\n",
      "\u001b[31m-        k_Pl = 0\u001b[m\r\n",
      "\u001b[31m-\u001b[m\r\n",
      "\u001b[31m-    if k_Pl > 0 and topHeight_Pl > 0:\u001b[m\r\n",
      "\u001b[31m-        if sp_Pl[0] in ('P', 'Pl', 'Pj', 'Pa', 'Pf'):\u001b[m\r\n",
      "\u001b[31m-            b0 = 0.989889\u001b[m\r\n",
      "\u001b[31m-            b1 = 1.055091\u001b[m\r\n",
      "\u001b[31m-            b2 = -0.19072\u001b[m\r\n",
      "\u001b[31m-            b3 = 4.915593\u001b[m\r\n",
      "\u001b[31m-            b4 = 0.42574\u001b[m\r\n",
      "\u001b[31m-            b5 = 1.006379\u001b[m\r\n",
      "\u001b[31m-            b6 = -4.87808\u001b[m\r\n",
      "\u001b[31m-            MVol_Pl = (Tvol_Pl * (k_Pl**b0)) / ((b1* (topHeight_Pl**b2) * (sp_Pl[7]**b3) * (sp_Pl[8]**b4) * (sp_Pl[9]**b5) * (k_Pl**b6)) +k_Pl)\u001b[m\r\n",
      "\u001b[31m-    else:\u001b[m\r\n",
      "\u001b[31m-        MVol_Pl = 0\u001b[m\r\n",
      "\u001b[31m-\u001b[m\r\n",
      "\u001b[31m-    return MVol_Pl\u001b[m\r\n",
      "\u001b[31m-\u001b[m\r\n",
      "\u001b[31m-\u001b[m\r\n",
      "\u001b[31m-def merchantable_volume(species, *args):\u001b[m\r\n",
      "\u001b[32m+\u001b[m\u001b[32m    k = (basal_area * 10000.0 / density)**0.5\u001b[m\r\n",
      "\u001b[32m+\u001b[m\u001b[32m    b0 = 0.989889\u001b[m\r\n",
      "\u001b[32m+\u001b[m\u001b[32m    b1 = 1.055091\u001b[m\r\n",
      "\u001b[32m+\u001b[m\u001b[32m    b2 = -0.19072\u001b[m\r\n",
      "\u001b[32m+\u001b[m\u001b[32m    b3 = 4.915593\u001b[m\r\n",
      "\u001b[32m+\u001b[m\u001b[32m    b4 = 0.42574\u001b[m\r\n",
      "\u001b[32m+\u001b[m\u001b[32m    b5 = 1.006379\u001b[m\r\n",
      "\u001b[32m+\u001b[m\u001b[32m    b6 = -4.87808\u001b[m\r\n",
      "\u001b[32m+\u001b[m\u001b[32m    merch_vol = (total_volume * (k**b0)) \\\u001b[m\r\n",
      "\u001b[32m+\u001b[m\u001b[32m                / (\u001b[m\r\n",
      "\u001b[32m+\u001b[m\u001b[32m                    (b1 \\\u001b[m\r\n",
      "\u001b[32m+\u001b[m\u001b[32m                     * (top_height**b2) \\\u001b[m\r\n",
      "\u001b[32m+\u001b[m\u001b[32m                     * (stump_dob**b3) \\\u001b[m\r\n",
      "\u001b[32m+\u001b[m\u001b[32m                     * (stump_height**b4) \\\u001b[m\r\n",
      "\u001b[32m+\u001b[m\u001b[32m                     * (top_dib**b5) \\\u001b[m\r\n",
      "\u001b[32m+\u001b[m\u001b[32m                     * (k**b6)\u001b[m\r\n",
      "\u001b[32m+\u001b[m\u001b[32m                    ) + k\u001b[m\r\n",
      "\u001b[32m+\u001b[m\u001b[32m                )\u001b[m\r\n",
      "\u001b[32m+\u001b[m\r\n",
      "\u001b[32m+\u001b[m\u001b[32m    return merch_vol\u001b[m\r\n",
      "\u001b[32m+\u001b[m\r\n",
      "\u001b[32m+\u001b[m\r\n",
      "\u001b[32m+\u001b[m\u001b[32mdef merchantable_volume(species, *args, **kwargs):\u001b[m\r\n",
      "     return {\u001b[m\r\n",
      "         'Aw': MerchantableVolumeAw,\u001b[m\r\n",
      "         'Sw': MerchantableVolumeSw,\u001b[m\r\n",
      "         'Sb': MerchantableVolumeSb,\u001b[m\r\n",
      "         'Pl': MerchantableVolumePl,\u001b[m\r\n",
      "\u001b[31m-    }[species](*args)\u001b[m\r\n",
      "\u001b[32m+\u001b[m\u001b[32m    }[species](*args, **kwargs)\u001b[m\r\n",
      " \u001b[m\r\n",
      " \u001b[m\r\n",
      " def _plot_simulation_variables(simulation_df, ax=None, plot_vars=None, y_lab=''):\u001b[m\r\n",
      "\u001b[1mdiff --git a/gypsy/forward_simulation.py b/gypsy/forward_simulation.py\u001b[m\r\n",
      "\u001b[1mindex e96705d..3862ae0 100644\u001b[m\r\n",
      "\u001b[1m--- a/gypsy/forward_simulation.py\u001b[m\r\n",
      "\u001b[1m+++ b/gypsy/forward_simulation.py\u001b[m\r\n",
      "\u001b[36m@@ -157,18 +157,6 @@\u001b[m \u001b[mdef simulate_forwards_df(plot_df, simulation_choice='yes'):\u001b[m\r\n",
      "         N0_Sw = row.at['N0_Sw']\u001b[m\r\n",
      "         N0_Pl = row.at['N0_Pl']\u001b[m\r\n",
      "         N0_Sb = row.at['N0_Sb']\u001b[m\r\n",
      "\u001b[31m-        StumpDOB_Aw = row.at['StumpDOB_Aw']\u001b[m\r\n",
      "\u001b[31m-        StumpDOB_Sb = row.at['StumpDOB_Sb']\u001b[m\r\n",
      "\u001b[31m-        StumpDOB_Sw = row.at['StumpDOB_Sw']\u001b[m\r\n",
      "\u001b[31m-        StumpDOB_Pl = row.at['StumpDOB_Pl']\u001b[m\r\n",
      "\u001b[31m-        StumpHeight_Aw = row.at['StumpHeight_Aw']\u001b[m\r\n",
      "\u001b[31m-        StumpHeight_Sb = row.at['StumpHeight_Sb']\u001b[m\r\n",
      "\u001b[31m-        StumpHeight_Sw = row.at['StumpHeight_Sw']\u001b[m\r\n",
      "\u001b[31m-        StumpHeight_Pl = row.at['StumpHeight_Pl']\u001b[m\r\n",
      "\u001b[31m-        TopDib_Aw = row.at['TopDib_Aw']\u001b[m\r\n",
      "\u001b[31m-        TopDib_Sb = row.at['TopDib_Sb']\u001b[m\r\n",
      "\u001b[31m-        TopDib_Sw = row.at['TopDib_Sw']\u001b[m\r\n",
      "\u001b[31m-        TopDib_Pl = row.at['TopDib_Pl']\u001b[m\r\n",
      " \u001b[m\r\n",
      "         BA_Aw0 = BA0_lower_BAT_Aw(BA_AwT)\u001b[m\r\n",
      "         BA_Sw0 = BA0_lower_BAT_Sw(BA_SwT)\u001b[m\r\n",
      "\u001b[36m@@ -358,13 +346,10 @@\u001b[m \u001b[mdef simulate_forwards_df(plot_df, simulation_choice='yes'):\u001b[m\r\n",
      "         #http://stackoverflow.com/questions/25314547/cell-var-from-loop-warning-from-pylint\u001b[m\r\n",
      " \u001b[m\r\n",
      "         for spec in SPECIES:\u001b[m\r\n",
      "\u001b[31m-            output_DF['Gross_Total_Volume_%s' % spec] = output_DF.apply(\u001b[m\r\n",
      "\u001b[31m-                lambda x: gross_total_volume(\u001b[m\r\n",
      "\u001b[31m-                    spec,\u001b[m\r\n",
      "\u001b[31m-                    x.at['BA_%s' % spec],\u001b[m\r\n",
      "\u001b[31m-                    x.at['topHeight_%s' % spec]\u001b[m\r\n",
      "\u001b[31m-                ),\u001b[m\r\n",
      "\u001b[31m-                axis=1\u001b[m\r\n",
      "\u001b[32m+\u001b[m\u001b[32m            output_DF['Gross_Total_Volume_%s' % spec] = gross_total_volume(\u001b[m\r\n",
      "\u001b[32m+\u001b[m\u001b[32m                spec,\u001b[m\r\n",
      "\u001b[32m+\u001b[m\u001b[32m                output_DF['BA_%s' % spec],\u001b[m\r\n",
      "\u001b[32m+\u001b[m\u001b[32m                output_DF['topHeight_%s' % spec]\u001b[m\r\n",
      "             )\u001b[m\r\n",
      " \u001b[m\r\n",
      "         output_DF['Gross_Total_Volume_Con'] = output_DF['Gross_Total_Volume_Sw'] \\\u001b[m\r\n",
      "\u001b[36m@@ -376,42 +361,13 @@\u001b[m \u001b[mdef simulate_forwards_df(plot_df, simulation_choice='yes'):\u001b[m\r\n",
      " \u001b[m\r\n",
      "         # this could go in the loop above, but is left here for now since\u001b[m\r\n",
      "         # the tests are sensitive to column order\u001b[m\r\n",
      "\u001b[31m-        species_plot_merch_vol_params = OrderedDict(\u001b[m\r\n",
      "\u001b[31m-            (\u001b[m\r\n",
      "\u001b[31m-                ('Aw', {\u001b[m\r\n",
      "\u001b[31m-                    'StumpDOB': StumpDOB_Aw,\u001b[m\r\n",
      "\u001b[31m-                    'TopDib': TopDib_Aw,\u001b[m\r\n",
      "\u001b[31m-                    'StumpHeight': StumpHeight_Aw\u001b[m\r\n",
      "\u001b[31m-                 }),\u001b[m\r\n",
      "\u001b[31m-                ('Sw', {\u001b[m\r\n",
      "\u001b[31m-                    'StumpDOB': StumpDOB_Sw,\u001b[m\r\n",
      "\u001b[31m-                    'TopDib': TopDib_Sw,\u001b[m\r\n",
      "\u001b[31m-                    'StumpHeight': StumpHeight_Sw\u001b[m\r\n",
      "\u001b[31m-                 }),\u001b[m\r\n",
      "\u001b[31m-                ('Sb', {\u001b[m\r\n",
      "\u001b[31m-                    'StumpDOB': StumpDOB_Sb,\u001b[m\r\n",
      "\u001b[31m-                    'TopDib': TopDib_Sb,\u001b[m\r\n",
      "\u001b[31m-                    'StumpHeight': StumpHeight_Sb\u001b[m\r\n",
      "\u001b[31m-                 }),\u001b[m\r\n",
      "\u001b[31m-                ('Pl', {\u001b[m\r\n",
      "\u001b[31m-                    'StumpDOB': StumpDOB_Pl,\u001b[m\r\n",
      "\u001b[31m-                    'TopDib': TopDib_Pl,\u001b[m\r\n",
      "\u001b[31m-                    'StumpHeight': StumpHeight_Pl\u001b[m\r\n",
      "\u001b[31m-                 }),\u001b[m\r\n",
      "\u001b[31m-            )\u001b[m\r\n",
      "\u001b[31m-        )\u001b[m\r\n",
      "\u001b[31m-        for spec, params in species_plot_merch_vol_params.items():\u001b[m\r\n",
      "\u001b[31m-            output_DF['MerchantableVolume%s' % spec] = output_DF.apply(\u001b[m\r\n",
      "\u001b[31m-                lambda x: merchantable_volume(\u001b[m\r\n",
      "\u001b[31m-                    spec,\u001b[m\r\n",
      "\u001b[31m-                    x.at['N_bh_%sT' % spec],\u001b[m\r\n",
      "\u001b[31m-                    x.at['BA_%s' % spec],\u001b[m\r\n",
      "\u001b[31m-                    x.at['topHeight_%s' % spec],\u001b[m\r\n",
      "\u001b[31m-                    params['StumpDOB'],\u001b[m\r\n",
      "\u001b[31m-                    params['StumpHeight'],\u001b[m\r\n",
      "\u001b[31m-                    params['TopDib'],\u001b[m\r\n",
      "\u001b[31m-                    x.at['Gross_Total_Volume_%s' % spec]\u001b[m\r\n",
      "\u001b[31m-                ), axis=1\u001b[m\r\n",
      "\u001b[32m+\u001b[m\u001b[32m        for spec in SPECIES:\u001b[m\r\n",
      "\u001b[32m+\u001b[m\u001b[32m            output_DF['MerchantableVolume%s' % spec] = merchantable_volume(\u001b[m\r\n",
      "\u001b[32m+\u001b[m\u001b[32m                spec,\u001b[m\r\n",
      "\u001b[32m+\u001b[m\u001b[32m                output_DF['N_bh_%sT' % spec],\u001b[m\r\n",
      "\u001b[32m+\u001b[m\u001b[32m                output_DF['BA_%s' % spec],\u001b[m\r\n",
      "\u001b[32m+\u001b[m\u001b[32m                output_DF['topHeight_%s' % spec],\u001b[m\r\n",
      "\u001b[32m+\u001b[m\u001b[32m                output_DF['Gross_Total_Volume_%s' % spec]\u001b[m\r\n",
      "             )\u001b[m\r\n",
      " \u001b[m\r\n",
      "         output_DF['MerchantableVolume_Con'] = output_DF['MerchantableVolumeSw'] \\\u001b[m\r\n"
     ]
    }
   ],
   "source": [
    "! git diff \"HEAD~$(git log --since \"2016-11-14 19:30\" --oneline | wc -l)\" ../gypsy"
   ]
  },
  {
   "cell_type": "markdown",
   "metadata": {},
   "source": [
    "# Run timings"
   ]
  },
  {
   "cell_type": "markdown",
   "metadata": {},
   "source": [
    "From last time:\n",
    "\n",
    "```\n",
    "real\t5m36.407s\n",
    "user\t5m25.740s\n",
    "sys \t0m2.140s\n",
    "```"
   ]
  },
  {
   "cell_type": "markdown",
   "metadata": {},
   "source": [
    "After cython'ing iter functions:"
   ]
  },
  {
   "cell_type": "code",
   "execution_count": 36,
   "metadata": {
    "collapsed": false
   },
   "outputs": [],
   "source": [
    "%%bash\n",
    "# git checkout 36941343aca2df763f93192abef461093918fff4 -b vectorize-volume-functions\n",
    "# time gypsy simulate ../private-data/prepped_random_sample_300.csv --output-dir tmp\n",
    "# rm -rfd tmp\n",
    "\n",
    "# real\t4m51.287s\n",
    "# user\t4m41.770s\n",
    "# sys\t0m1.070s"
   ]
  },
  {
   "cell_type": "code",
   "execution_count": 38,
   "metadata": {
    "collapsed": false
   },
   "outputs": [
    {
     "data": {
      "text/plain": [
       "0.13392857142857142"
      ]
     },
     "execution_count": 38,
     "metadata": {},
     "output_type": "execute_result"
    }
   ],
   "source": [
    "45/336."
   ]
  },
  {
   "cell_type": "markdown",
   "metadata": {},
   "source": [
    "It yielded a 13% reduction in the time."
   ]
  },
  {
   "cell_type": "markdown",
   "metadata": {},
   "source": [
    "# Run profiling"
   ]
  },
  {
   "cell_type": "code",
   "execution_count": 2,
   "metadata": {
    "collapsed": false
   },
   "outputs": [],
   "source": [
    "from gypsy.forward_simulation import simulate_forwards_df"
   ]
  },
  {
   "cell_type": "code",
   "execution_count": 3,
   "metadata": {
    "collapsed": false
   },
   "outputs": [],
   "source": [
    "data = pd.read_csv('../private-data/prepped_random_sample_300.csv', index_col=0, nrows=10)"
   ]
  },
  {
   "cell_type": "code",
   "execution_count": 4,
   "metadata": {
    "collapsed": false
   },
   "outputs": [
    {
     "name": "stdout",
     "output_type": "stream",
     "text": [
      " \n",
      "*** Profile stats marshalled to file u'forward-sim-3.prof'. \n",
      "\n",
      "*** Profile printout saved to text file u'forward-sim-3.txt'. \n"
     ]
    }
   ],
   "source": [
    "%%prun -D forward-sim-3.prof -T forward-sim-3.txt -q\n",
    "result = simulate_forwards_df(data)"
   ]
  },
  {
   "cell_type": "code",
   "execution_count": 5,
   "metadata": {
    "collapsed": false
   },
   "outputs": [
    {
     "name": "stdout",
     "output_type": "stream",
     "text": [
      "         1076718 function calls (1074662 primitive calls) in 13.756 seconds\r\n",
      "\r\n",
      "   Ordered by: internal time\r\n",
      "\r\n",
      "   ncalls  tottime  percall  cumtime  percall filename:lineno(function)\r\n",
      "   492069    6.234    0.000    6.234    0.000 GYPSYNonSpatial.py:428(BasalAreaIncrementNonSpatialAw)\r\n",
      "     7191    2.179    0.000    8.563    0.001 GYPSYNonSpatial.py:956(BAfromZeroToDataAw)\r\n",
      "    31044    0.734    0.000    0.734    0.000 GYPSYNonSpatial.py:585(BasalAreaIncrementNonSpatialSw)\r\n",
      "    16426    0.338    0.000    0.338    0.000 GYPSYNonSpatial.py:683(BasalAreaIncrementNonSpatialPl)\r\n",
      "    79970    0.279    0.000    0.348    0.000 {isinstance}\r\n"
     ]
    }
   ],
   "source": [
    "!head forward-sim-3.txt"
   ]
  },
  {
   "cell_type": "markdown",
   "metadata": {},
   "source": [
    "# Compare performance visualizations"
   ]
  },
  {
   "cell_type": "markdown",
   "metadata": {},
   "source": [
    "Now use either of these commands to visualize the profiling\n",
    "\n",
    "```\n",
    "pyprof2calltree -k -i forward-sim-1.prof forward-sim-3.txt\n",
    "\n",
    "# or\n",
    "\n",
    "dc run --service-ports snakeviz notebooks/forward-sim-3.prof\n",
    "```"
   ]
  },
  {
   "cell_type": "markdown",
   "metadata": {
    "collapsed": true
   },
   "source": [
    "### Old"
   ]
  },
  {
   "cell_type": "markdown",
   "metadata": {},
   "source": [
    "![2nd iteration performance](forward-sim-2a-performance.png)"
   ]
  },
  {
   "cell_type": "markdown",
   "metadata": {
    "collapsed": true
   },
   "source": [
    "### New"
   ]
  },
  {
   "cell_type": "markdown",
   "metadata": {},
   "source": [
    "![3nd iteration performance](forward-sim-3-performance.png)"
   ]
  },
  {
   "cell_type": "markdown",
   "metadata": {},
   "source": [
    "## Summary of performance improvements\n",
    "\n",
    "The calculation of gross and merchantable volume is drastically faster now; under profiling it decrease to 1 second from 22 seconds.\n",
    "\n",
    "A lot of that seems to be profiler overhead, as when using gypsy simulate CLI it only got 15% faster; however I expect i/o is obfuscating the outcome there.\n"
   ]
  },
  {
   "cell_type": "markdown",
   "metadata": {},
   "source": [
    "# Profile with I/O\n"
   ]
  },
  {
   "cell_type": "code",
   "execution_count": null,
   "metadata": {
    "collapsed": true
   },
   "outputs": [],
   "source": [
    "! rm -rfd gypsy-output"
   ]
  },
  {
   "cell_type": "code",
   "execution_count": null,
   "metadata": {
    "collapsed": true
   },
   "outputs": [],
   "source": [
    "output_dir = 'gypsy-output'"
   ]
  },
  {
   "cell_type": "code",
   "execution_count": 20,
   "metadata": {
    "collapsed": false
   },
   "outputs": [
    {
     "name": "stdout",
     "output_type": "stream",
     "text": [
      " \n",
      "*** Profile stats marshalled to file u'forward-sim-1.prof'. \n",
      "\n",
      "*** Profile printout saved to text file u'forward-sim-1.txt'. \n"
     ]
    }
   ],
   "source": [
    "%%prun -D forward-sim-2.prof -T forward-sim-2.txt -q\n",
    "# restart the kernel first\n",
    "data = pd.read_csv('../private-data/prepped_random_sample_300.csv', index_col=0, nrows=10)\n",
    "result = simulate_forwards_df(data)\n",
    "os.makedirs(output_dir)\n",
    "for plot_id, df in result.items():\n",
    "    filename = '%s.csv' % plot_id\n",
    "    output_path = os.path.join(output_dir, filename)\n",
    "    df.to_csv(output_path)\n"
   ]
  },
  {
   "cell_type": "markdown",
   "metadata": {},
   "source": [
    "# Identify new areas to optimize\n",
    "\n"
   ]
  },
  {
   "cell_type": "markdown",
   "metadata": {},
   "source": [
    "- from last time:\n",
    "    - parallel (3 cores) gets us to 2 - 6 days - save for last\n",
    "    - AWS with 36 cores gets us to 4 - 12 hours ($6.70 - $20.10 USD on a c4.8xlarge instance in US West Region)\n",
    "    - aws lambda and split up the data \n",
    "- now:\n",
    "    - cython for increment functions epsecially bA\n",
    "    - i/o"
   ]
  },
  {
   "cell_type": "code",
   "execution_count": null,
   "metadata": {
    "collapsed": true
   },
   "outputs": [],
   "source": []
  }
 ],
 "metadata": {
  "kernelspec": {
   "display_name": "Python 2",
   "language": "python",
   "name": "python2"
  },
  "language_info": {
   "codemirror_mode": {
    "name": "ipython",
    "version": 2
   },
   "file_extension": ".py",
   "mimetype": "text/x-python",
   "name": "python",
   "nbconvert_exporter": "python",
   "pygments_lexer": "ipython2",
   "version": "2.7.12"
  }
 },
 "nbformat": 4,
 "nbformat_minor": 1
}
