{
 "cells": [
  {
   "cell_type": "code",
   "execution_count": 7,
   "metadata": {
    "collapsed": true
   },
   "outputs": [],
   "source": [
    "%matplotlib inline"
   ]
  },
  {
   "cell_type": "markdown",
   "metadata": {},
   "source": [
    "# Recap\n",
    "\n",
    "In order of priority/time taken\n",
    "\n",
    "1. basalareaincremementnonspatialaw\n",
    "    - this is actually slow because of the number of times the BAFromZeroToDataAw function is called as shown above\n",
    "    - relaxing the tolerance may help\n",
    "    - indeed the tolerance is 0.01 * some value while the other factor finder functions have 0.1 tolerance i think\n",
    "    - can also use cython for the increment functions\n",
    "\n",
    "do a profiling run with IO (of reading input data and writing the plot curves to files) at end of this next run\n"
   ]
  },
  {
   "cell_type": "markdown",
   "metadata": {},
   "source": [
    "# Decide on the action"
   ]
  },
  {
   "cell_type": "markdown",
   "metadata": {},
   "source": [
    "- speed up increment functions\n",
    "    - use cython for increment functions\n",
    "    - it turns out this may not help that much. the function is pretty fast, it's called almost 500,000 times on the sample of 300 plots\n",
    "    - cython actually is very fast in this type of case"
   ]
  },
  {
   "cell_type": "markdown",
   "metadata": {},
   "source": [
    "# Characterize what is happening"
   ]
  },
  {
   "cell_type": "markdown",
   "metadata": {},
   "source": [
    "n/a"
   ]
  },
  {
   "cell_type": "markdown",
   "metadata": {},
   "source": [
    "### Timings"
   ]
  },
  {
   "cell_type": "code",
   "execution_count": null,
   "metadata": {
    "collapsed": false
   },
   "outputs": [],
   "source": []
  },
  {
   "cell_type": "code",
   "execution_count": 3,
   "metadata": {
    "collapsed": false
   },
   "outputs": [
    {
     "name": "stdout",
     "output_type": "stream",
     "text": [
      "The slowest run took 561.62 times longer than the fastest. This could mean that an intermediate result is being cached.\n",
      "100000000 loops, best of 3: 10.6 ns per loop\n"
     ]
    }
   ],
   "source": [
    "%%timeit\n",
    "pass"
   ]
  },
  {
   "cell_type": "code",
   "execution_count": 2,
   "metadata": {
    "collapsed": false
   },
   "outputs": [
    {
     "name": "stdout",
     "output_type": "stream",
     "text": [
      "The slowest run took 287.17 times longer than the fastest. This could mean that an intermediate result is being cached.\n",
      "100000000 loops, best of 3: 10.8 ns per loop\n"
     ]
    }
   ],
   "source": [
    "%%timeit\n",
    "pass"
   ]
  },
  {
   "cell_type": "markdown",
   "metadata": {},
   "source": [
    "The array method is 20x faster. This is worth implementing. We should also add tests to help be explicity about the behaviour of these volume functions."
   ]
  },
  {
   "cell_type": "markdown",
   "metadata": {},
   "source": [
    "# Revise the code\n",
    "\n",
    "Go on. Do it."
   ]
  },
  {
   "cell_type": "markdown",
   "metadata": {},
   "source": [
    "# Tests\n",
    "\n",
    "Yes, data prep test is affected and the data updated.\n",
    "\n",
    "The forward simulation test is also affected, significantly:"
   ]
  },
  {
   "cell_type": "code",
   "execution_count": 5,
   "metadata": {
    "collapsed": true
   },
   "outputs": [],
   "source": [
    "import pandas as pd"
   ]
  },
  {
   "cell_type": "markdown",
   "metadata": {},
   "source": [
    "**diff is result-expected, so when negative, diff is larger in expected.**"
   ]
  },
  {
   "cell_type": "code",
   "execution_count": 9,
   "metadata": {
    "collapsed": false
   },
   "outputs": [],
   "source": [
    "diff = pd.read_csv('../private-data/cython-forward-sim-diff.csv', index_col=0)"
   ]
  },
  {
   "cell_type": "code",
   "execution_count": 26,
   "metadata": {
    "collapsed": true
   },
   "outputs": [],
   "source": [
    "sel = [i for i in diff.columns.tolist() if i.startswith('BA_')]"
   ]
  },
  {
   "cell_type": "code",
   "execution_count": 27,
   "metadata": {
    "collapsed": false
   },
   "outputs": [
    {
     "name": "stdout",
     "output_type": "stream",
     "text": [
      "        BA_Aw     BA_Sw  BA_Sb      BA_Pl\n",
      "0    0.000000  0.000000    0.0   0.000000\n",
      "1    0.000000  0.000000    0.0   0.000000\n",
      "2    0.000000  0.000000    0.0   0.000000\n",
      "3    0.000000  0.000000    0.0   0.000000\n",
      "4    0.000000  0.000000    0.0   0.000000\n",
      "5    0.000000  0.000000    0.0   0.000000\n",
      "6    0.000000  0.000000    0.0   0.000000\n",
      "7    0.000000  0.000000    0.0   0.000000\n",
      "8    0.000000  0.000000    0.0   0.000000\n",
      "9    0.000000  0.000000    0.0   0.000000\n",
      "10   0.000000  0.000000    0.0   0.000000\n",
      "11   0.000000  0.000000    0.0   0.000000\n",
      "12   0.000000  0.000000    0.0   0.000000\n",
      "13  -0.001215  0.000000    0.0   0.000000\n",
      "14  -0.005955  0.000000    0.0   0.000000\n",
      "15  -0.016246  0.000000    0.0   0.000000\n",
      "16  -0.033790  0.000000    0.0   0.000000\n",
      "17  -0.059914  0.000000    0.0   0.000000\n",
      "18  -0.095537  0.000000    0.0   0.000000\n",
      "19  -0.104325  0.000000    0.0   0.000000\n",
      "20  -0.115392  0.000000    0.0   0.000000\n",
      "21  -0.128879  0.000000    0.0   0.000000\n",
      "22  -0.144897  0.000000    0.0   0.000000\n",
      "23  -0.163517  0.000000    0.0   0.000000\n",
      "24  -0.184782  0.000000    0.0   0.000000\n",
      "25  -0.208699  0.000000    0.0   0.000000\n",
      "26  -0.235249  0.000000    0.0   0.000000\n",
      "27  -0.264386 -0.000022    0.0   0.000000\n",
      "28  -0.296038 -0.000346    0.0   0.000000\n",
      "29  -0.330116 -0.001461    0.0   0.000000\n",
      "30  -0.366513 -0.003965    0.0   0.000000\n",
      "31  -0.405106 -0.008521    0.0   0.000000\n",
      "32  -0.445765 -0.015826    0.0   1.230697\n",
      "33  -0.488350 -0.026591    0.0   1.883707\n",
      "34  -0.532718 -0.041528    0.0   2.167559\n",
      "35  -0.578722 -0.061336    0.0   2.185869\n",
      "36  -0.626215 -0.086699    0.0   2.006147\n",
      "37  -0.649543 -0.118274    0.0   1.674622\n",
      "38  -0.666267 -0.156697    0.0   1.223878\n",
      "39  -0.682751 -0.202571    0.0   0.677599\n",
      "40  -0.698910 -0.256470    0.0   0.053519\n",
      "41  -0.714662 -0.318937    0.0  -0.634728\n",
      "42  -0.729930 -0.390481    0.0  -1.376431\n",
      "43  -0.744639 -0.471576    0.0  -2.163018\n",
      "44  -0.758719 -0.562660    0.0  -2.987529\n",
      "45  -0.772105 -0.664133    0.0  -3.844241\n",
      "46  -0.784736 -0.776358    0.0  -4.728403\n",
      "47  -0.796556 -0.899658    0.0  -5.636038\n",
      "48  -0.807514 -1.034314    0.0  -6.563797\n",
      "49  -0.817564 -1.180567    0.0  -7.508843\n",
      "50  -0.826662 -1.338616    0.0  -8.468764\n",
      "51  -0.834773 -1.508621    0.0  -9.441500\n",
      "52  -0.841860 -1.690697    0.0 -10.425291\n",
      "53  -0.847895 -1.884923    0.0 -11.418631\n",
      "54  -0.852852 -2.091334    0.0 -12.420225\n",
      "55  -0.856707 -2.309931    0.0 -13.428966\n",
      "56  -0.859442 -0.095380    0.0  -0.357620\n",
      "57  -0.861039 -0.192926    0.0  -0.707404\n",
      "58  -0.861485 -0.292390    0.0  -1.049030\n",
      "59  -0.860769 -0.393527    0.0  -1.382255\n",
      "60  -0.858883 -0.496097    0.0  -1.706898\n",
      "61  -0.855821 -0.599861    0.0  -2.022839\n",
      "62  -0.851579 -0.704589    0.0  -2.330005\n",
      "63  -0.846155 -0.810056    0.0  -2.628369\n",
      "64  -0.839551 -0.916046    0.0  -2.917937\n",
      "65  -0.831767 -1.022348    0.0  -3.198751\n",
      "66  -0.822807 -1.128764    0.0  -3.470878\n",
      "67  -0.812678 -1.235102    0.0  -3.734408\n",
      "68  -0.801386 -1.341180    0.0  -3.989452\n",
      "69  -0.788939 -1.446826    0.0  -4.236137\n",
      "70  -0.775348 -1.551878    0.0  -4.474605\n",
      "71  -0.760622 -1.656184    0.0  -4.705009\n",
      "72  -0.744775 -1.759601    0.0  -4.927512\n",
      "73  -0.727820 -1.861996    0.0  -5.142284\n",
      "74  -0.709772 -1.963248    0.0  -5.349502\n",
      "75  -0.690645 -2.063242    0.0  -5.549347\n",
      "76  -0.670458 -2.161875    0.0  -5.742006\n",
      "77  -0.649227 -2.259054    0.0  -5.927664\n",
      "78  -0.626971 -2.354691    0.0  -6.106512\n",
      "79  -0.603710 -2.448712    0.0  -6.278739\n",
      "80  -0.579465 -2.541046    0.0  -6.444534\n",
      "81  -0.554257 -2.631634    0.0  -6.604087\n",
      "82  -0.528109 -2.720424    0.0  -6.757585\n",
      "83  -0.501045 -2.807369    0.0  -6.905214\n",
      "84  -0.473089 -2.892433    0.0  -7.047157\n",
      "85  -0.444268 -2.975582    0.0  -7.183597\n",
      "86  -0.414608 -3.056793    0.0  -7.314712\n",
      "87  -0.384138 -3.136046    0.0  -7.440676\n",
      "88  -0.352887 -3.213327    0.0  -7.561662\n",
      "89  -0.320885 -3.288628    0.0  -7.677838\n",
      "90  -0.288166 -3.361945    0.0  -7.789371\n",
      "91  -0.254763 -3.433280    0.0  -7.896420\n",
      "92  -0.220711 -3.502638    0.0  -7.999143\n",
      "93  -0.186048 -3.570029    0.0  -8.097695\n",
      "94  -0.150813 -3.635465    0.0  -8.192224\n",
      "95  -0.115049 -3.698963    0.0  -8.282876\n",
      "96  -0.078799 -3.760542    0.0  -8.369794\n",
      "97  -0.042112 -3.820224    0.0  -8.453114\n",
      "98  -0.005036 -3.878034    0.0  -8.532971\n",
      "99   0.000000 -3.933999    0.0  -8.609495\n",
      "100  0.000000 -3.988148    0.0  -8.682811\n",
      "101  0.000000 -4.040512    0.0  -8.753041\n",
      "102  0.000000 -4.091123    0.0  -8.820305\n",
      "103  0.000000 -4.140014    0.0  -8.884716\n",
      "104  0.000000 -4.187222    0.0  -8.946385\n",
      "105  0.000000 -4.232780    0.0  -9.005420\n",
      "106  0.000000 -4.276728    0.0  -9.061924\n",
      "107  0.000000 -4.319101    0.0  -9.115997\n",
      "108  0.000000 -4.359938    0.0  -9.167736\n",
      "109  0.000000 -4.399278    0.0  -9.217235\n",
      "110  0.000000 -4.437158    0.0  -9.264584\n",
      "111  0.000000 -4.473619    0.0  -9.309869\n",
      "112  0.000000 -4.508698    0.0  -9.353175\n",
      "113  0.000000 -4.542436    0.0  -9.394582\n",
      "114  0.000000 -4.574869    0.0  -9.434168\n",
      "115  0.000000 -4.606038    0.0  -9.472009\n",
      "116  0.000000 -4.635979    0.0  -9.508176\n",
      "117  0.000000 -4.664732    0.0  -9.542740\n",
      "118  0.000000 -4.692332    0.0  -9.575766\n",
      "119  0.000000 -4.718818    0.0  -9.607321\n",
      "120  0.000000 -4.744226    0.0  -9.637465\n",
      "121  0.000000 -4.768591    0.0  -9.666259\n",
      "122  0.000000 -4.791948    0.0  -9.693759\n",
      "123  0.000000 -4.814332    0.0  -9.720021\n",
      "124  0.000000 -4.835777    0.0  -9.745098\n",
      "125  0.000000 -4.856316    0.0  -9.769040\n",
      "126  0.000000 -4.875982    0.0  -9.791897\n",
      "127  0.000000 -4.894805    0.0  -9.813715\n",
      "128  0.000000 -4.912816    0.0  -9.834539\n",
      "129  0.000000 -4.930047    0.0  -9.854413\n",
      "130  0.000000 -4.946526    0.0  -9.873377\n",
      "131  0.000000 -4.962281    0.0  -9.891473\n",
      "132  0.000000 -4.977341    0.0  -9.908737\n",
      "133  0.000000 -4.991731    0.0  -9.925206\n",
      "134  0.000000 -5.005480    0.0  -9.940916\n",
      "135  0.000000 -5.018611    0.0  -9.955901\n",
      "136  0.000000 -5.031150    0.0  -9.970191\n",
      "137  0.000000 -5.043119    0.0  -9.983819\n",
      "138  0.000000 -5.054543    0.0  -9.996814\n",
      "139  0.000000 -5.065444    0.0 -10.009203\n",
      "140  0.000000 -5.075843    0.0 -10.021015\n",
      "141  0.000000 -5.085761    0.0 -10.032275\n",
      "142  0.000000 -5.095218    0.0 -10.043009\n",
      "143  0.000000 -5.104234    0.0 -10.053239\n",
      "144  0.000000 -5.112827    0.0 -10.062989\n",
      "145  0.000000 -5.121016    0.0 -10.072280\n",
      "146  0.000000 -5.128817    0.0 -10.081134\n",
      "147  0.000000 -5.136249    0.0 -10.089570\n",
      "148  0.000000 -5.143326    0.0 -10.097607\n",
      "149  0.000000 -5.150064    0.0 -10.105264\n",
      "150  0.000000 -5.156479    0.0 -10.112558\n",
      "151  0.000000 -5.162584    0.0 -10.119506\n",
      "152  0.000000 -5.168394    0.0 -10.126124\n",
      "153  0.000000 -5.173922    0.0 -10.132427\n",
      "154  0.000000 -5.179180    0.0 -10.138429\n",
      "155  0.000000 -5.184181    0.0 -10.144145\n",
      "156  0.000000 -5.188937    0.0 -10.149587\n",
      "157  0.000000 -5.193458    0.0 -10.154769\n",
      "158  0.000000 -5.197756    0.0 -10.159703\n",
      "159  0.000000 -5.201841    0.0 -10.164400\n",
      "160  0.000000 -5.205723    0.0 -10.168871\n",
      "161  0.000000 -5.209411    0.0 -10.173127\n",
      "162  0.000000 -5.212915    0.0 -10.177179\n",
      "163  0.000000 -5.216243    0.0 -10.181034\n",
      "164  0.000000 -5.219403    0.0 -10.184704\n",
      "165  0.000000 -5.222404    0.0 -10.188196\n",
      "166  0.000000 -5.225253    0.0 -10.191519\n",
      "167  0.000000 -5.227957    0.0 -10.194682\n",
      "168  0.000000 -5.230523    0.0 -10.197690\n",
      "169  0.000000 -5.232959    0.0 -10.200553\n",
      "170  0.000000 -5.235270    0.0 -10.203277\n",
      "171  0.000000 -5.237462    0.0 -10.205868\n",
      "172  0.000000 -5.239542    0.0 -10.208332\n",
      "173  0.000000 -5.241514    0.0 -10.210677\n",
      "174  0.000000 -5.243384    0.0 -10.212907\n",
      "175  0.000000 -5.245158    0.0 -10.215028\n",
      "176  0.000000 -5.246839    0.0 -10.217045\n",
      "177  0.000000 -5.248432    0.0 -10.218964\n",
      "178  0.000000 -5.249943    0.0 -10.220788\n",
      "179  0.000000 -5.251374    0.0 -10.222523\n",
      "180  0.000000 -5.252731    0.0 -10.224173\n",
      "181  0.000000 -5.254016    0.0 -10.225742\n",
      "182  0.000000 -5.255233    0.0 -10.227233\n",
      "183  0.000000 -5.256386    0.0 -10.228651\n",
      "184  0.000000 -5.257478    0.0 -10.230000\n",
      "185  0.000000 -5.258512    0.0 -10.231281\n",
      "186  0.000000 -5.259492    0.0 -10.232500\n",
      "187  0.000000 -5.260419    0.0 -10.233658\n",
      "188  0.000000 -5.261297    0.0 -10.234759\n",
      "189  0.000000 -5.262127    0.0 -10.235805\n",
      "190  0.000000 -5.262914    0.0 -10.236800\n",
      "191  0.000000 -5.263658    0.0 -10.237745\n",
      "192  0.000000 -5.264362    0.0 -10.238644\n",
      "193  0.000000 -5.265028    0.0 -10.239497\n",
      "194  0.000000 -5.265659    0.0 -10.240309\n",
      "195  0.000000 -5.266255    0.0 -10.241080\n",
      "196  0.000000 -5.266819    0.0 -10.241812\n",
      "197  0.000000 -5.267352    0.0 -10.242508\n",
      "198  0.000000 -5.267857    0.0 -10.243170\n",
      "199  0.000000 -5.268333    0.0 -10.243798\n",
      "200  0.000000 -5.268784    0.0 -10.244395\n",
      "201  0.000000 -5.269211    0.0 -10.244963\n",
      "202  0.000000 -5.269614    0.0 -10.245502\n",
      "203  0.000000 -5.269995    0.0 -10.246014\n",
      "204  0.000000 -5.270355    0.0 -10.246500\n",
      "205  0.000000 -5.270695    0.0 -10.246962\n",
      "206  0.000000 -5.271016    0.0 -10.247401\n",
      "207  0.000000 -5.271320    0.0 -10.247818\n",
      "208  0.000000 -5.271607    0.0 -10.248213\n",
      "209  0.000000 -5.271878    0.0 -10.248589\n",
      "210  0.000000 -5.272134    0.0 -10.248947\n",
      "211  0.000000 -5.272376    0.0 -10.249286\n",
      "212  0.000000 -5.272605    0.0 -10.249608\n",
      "213  0.000000 -5.272821    0.0 -10.249914\n",
      "214  0.000000 -5.273024    0.0 -10.250204\n",
      "215  0.000000 -5.273217    0.0 -10.250480\n",
      "216  0.000000 -5.273398    0.0 -10.250742\n",
      "217  0.000000 -5.273570    0.0 -10.250991\n",
      "218  0.000000 -5.273732    0.0 -10.251227\n",
      "219  0.000000 -5.273884    0.0 -10.251451\n",
      "220  0.000000 -5.274029    0.0 -10.251664\n",
      "221  0.000000 -5.274165    0.0 -10.251866\n",
      "222  0.000000 -5.274293    0.0 -10.252058\n",
      "223  0.000000 -5.274414    0.0 -10.252240\n",
      "224  0.000000 -5.274529    0.0 -10.252413\n",
      "225  0.000000 -5.274637    0.0 -10.252578\n",
      "226  0.000000 -5.274739    0.0 -10.252733\n",
      "227  0.000000 -5.274835    0.0 -10.252881\n",
      "228  0.000000 -5.274925    0.0 -10.253022\n",
      "229  0.000000 -5.275011    0.0 -10.253155\n",
      "230  0.000000 -5.275091    0.0 -10.253282\n",
      "231  0.000000 -5.275167    0.0 -10.253402\n",
      "232  0.000000 -5.275239    0.0 -10.253516\n",
      "233  0.000000 -5.275306    0.0 -10.253624\n",
      "234  0.000000 -5.275370    0.0 -10.253727\n",
      "235  0.000000 -5.275430    0.0 -10.253824\n",
      "236  0.000000 -5.275487    0.0 -10.253917\n",
      "237  0.000000 -5.275540    0.0 -10.254005\n",
      "238  0.000000 -5.275591    0.0 -10.254088\n",
      "239  0.000000 -5.275638    0.0 -10.254167\n",
      "240  0.000000 -5.275683    0.0 -10.254242\n",
      "241  0.000000 -5.275725    0.0 -10.254313\n",
      "242  0.000000 -5.275765    0.0 -10.254381\n",
      "243  0.000000 -5.275802    0.0 -10.254445\n",
      "244  0.000000 -5.275837    0.0 -10.254506\n",
      "245  0.000000 -5.275871    0.0 -10.254563\n",
      "246  0.000000 -5.275902    0.0 -10.254618\n",
      "247  0.000000 -5.275931    0.0 -10.254670\n",
      "248  0.000000 -5.275959    0.0 -10.254720\n",
      "249  0.000000 -5.275985    0.0 -10.254766\n"
     ]
    }
   ],
   "source": [
    "with pd.option_context('display.max_rows', 999):\n",
    "    print(diff.loc[:,sel])"
   ]
  },
  {
   "cell_type": "code",
   "execution_count": 22,
   "metadata": {
    "collapsed": false
   },
   "outputs": [
    {
     "data": {
      "text/plain": [
       "<matplotlib.axes._subplots.AxesSubplot at 0x7f9509c7e310>"
      ]
     },
     "execution_count": 22,
     "metadata": {},
     "output_type": "execute_result"
    },
    {
     "data": {
      "image/png": "[encoded data removed]",
      "text/plain": [
       "<matplotlib.figure.Figure at 0x7f9509ceb1d0>"
      ]
     },
     "metadata": {},
     "output_type": "display_data"
    }
   ],
   "source": [
    "diff.loc[:,sel].plot()"
   ]
  },
  {
   "cell_type": "markdown",
   "metadata": {},
   "source": [
    "I can tell if cython is the issue by removing cython and running tests:"
   ]
  },
  {
   "cell_type": "code",
   "execution_count": null,
   "metadata": {
    "collapsed": true
   },
   "outputs": [],
   "source": [
    "%%bash\n",
    "mv ../gypsy/increment.pyx ../gypsy/increment.pyx\n",
    "rm ../gypsy/increment.c ../gypsy/increment.so"
   ]
  },
  {
   "cell_type": "code",
   "execution_count": null,
   "metadata": {
    "collapsed": true
   },
   "outputs": [],
   "source": []
  },
  {
   "cell_type": "markdown",
   "metadata": {},
   "source": [
    "# Review code changes"
   ]
  },
  {
   "cell_type": "code",
   "execution_count": 28,
   "metadata": {
    "collapsed": false
   },
   "outputs": [
    {
     "name": "stdout",
     "output_type": "stream",
     "text": [
      "ad78508 Add test differences to notebook\n",
      "bffc17a Fixup log args & add notebook for optimization 4\n",
      "c480ed2 Use allclose for dataprep test\n",
      "c12142d Revise test data for data prep result\n",
      "6e3afa7 Fixups for test reminders and data prep\n",
      "9a9515d Update forward simulation for new increment module\n",
      "8cdf262 Ignore cython generated .c files\n",
      "7e9240d Update DataPrep to use new increment module\n",
      "f805107 Fixup cython build\n",
      "2e14fa0 Add cython to dev requirements\n",
      "d5602a1 Configure to build cython extensions\n",
      "fe29d3a Add docstring & make logger name PEP8 compliant\n",
      "7eee18b Use PEP8 compliant function names\n",
      "994d343 Move increment functions to own module\n",
      "8aa3011 Add reminder for merch vol tests\n",
      "bdee60c Add notes for vol vectorization yields\n"
     ]
    }
   ],
   "source": [
    "%%bash\n",
    "git log --since \"2016-11-15 16:00\" --oneline # 16:00 GMT/UTC"
   ]
  },
  {
   "cell_type": "code",
   "execution_count": 34,
   "metadata": {
    "collapsed": false,
    "scrolled": true
   },
   "outputs": [
    {
     "name": "stdout",
     "output_type": "stream",
     "text": [
      "\u001b[1mdiff --git a/gypsy/GYPSYNonSpatial.py b/gypsy/GYPSYNonSpatial.py\u001b[m\r\n",
      "\u001b[1mindex 7b93c0f..ec1d1fc 100644\u001b[m\r\n",
      "\u001b[1m--- a/gypsy/GYPSYNonSpatial.py\u001b[m\r\n",
      "\u001b[1m+++ b/gypsy/GYPSYNonSpatial.py\u001b[m\r\n",
      "\u001b[36m@@ -1381,82 +1381,88 @@\u001b[m \u001b[mdef BAfromZeroToDataPl(startTage, startTagePl, y2bh_Pl, SC_Pl, SI_bh_Pl,\u001b[m\r\n",
      "     return basal_area_arr\u001b[m\r\n",
      " \u001b[m\r\n",
      " \u001b[m\r\n",
      "\u001b[31m-def GrossTotalVolume_Aw(BA_Aw, topHeight_Aw):\u001b[m\r\n",
      "\u001b[31m-    '''Gross total volume is estimated only using species specific Basal Area and\u001b[m\r\n",
      "\u001b[31m-    Top height\u001b[m\r\n",
      "\u001b[32m+\u001b[m\u001b[32mdef GrossTotalVolume_Aw(basal_area, top_height):\u001b[m\r\n",
      "\u001b[32m+\u001b[m\u001b[32m    ''' White Aspen Gross Total Volume\u001b[m\r\n",
      " \u001b[m\r\n",
      "\u001b[31m-    :param float BA_Aw: basal area of Aw\u001b[m\r\n",
      "\u001b[31m-    :param float topHeight_Aw: top height of Aw\u001b[m\r\n",
      "\u001b[32m+\u001b[m\u001b[32m    Note that inputs may be scalars, or numpy arrays.\u001b[m\r\n",
      "\u001b[32m+\u001b[m\r\n",
      "\u001b[32m+\u001b[m\u001b[32m    :param float basal_area: basal area\u001b[m\r\n",
      "\u001b[32m+\u001b[m\u001b[32m    :param float top_height: top height\u001b[m\r\n",
      " \u001b[m\r\n",
      "     '''\u001b[m\r\n",
      "\u001b[31m-    Tvol_Aw = 0\u001b[m\r\n",
      "\u001b[32m+\u001b[m\u001b[32m    a1 = 0.248718\u001b[m\r\n",
      "\u001b[32m+\u001b[m\u001b[32m    a2 = 0.98568\u001b[m\r\n",
      "\u001b[32m+\u001b[m\u001b[32m    a3 = 0.857278\u001b[m\r\n",
      "\u001b[32m+\u001b[m\u001b[32m    a4 = -24.9961\u001b[m\r\n",
      "\u001b[32m+\u001b[m\u001b[32m    tot_vol = a1 \\\u001b[m\r\n",
      "\u001b[32m+\u001b[m\u001b[32m              * (basal_area**a2) \\\u001b[m\r\n",
      "\u001b[32m+\u001b[m\u001b[32m              * (top_height**a3) \\\u001b[m\r\n",
      "\u001b[32m+\u001b[m\u001b[32m              * numpy.exp( 1 \\\u001b[m\r\n",
      "\u001b[32m+\u001b[m\u001b[32m                           + ( a4 / (( top_height**2 ) + 1 ))\u001b[m\r\n",
      "\u001b[32m+\u001b[m\u001b[32m              )\u001b[m\r\n",
      " \u001b[m\r\n",
      "\u001b[31m-    if topHeight_Aw > 0:\u001b[m\r\n",
      "\u001b[31m-        a1 = 0.248718\u001b[m\r\n",
      "\u001b[31m-        a2 = 0.98568\u001b[m\r\n",
      "\u001b[31m-        a3 = 0.857278\u001b[m\r\n",
      "\u001b[31m-        a4 = -24.9961\u001b[m\r\n",
      "\u001b[31m-        Tvol_Aw = a1 * (BA_Aw**a2) * (topHeight_Aw**a3) * numpy.exp(1+(a4/((topHeight_Aw**2)+1)))\u001b[m\r\n",
      "\u001b[32m+\u001b[m\u001b[32m    return tot_vol\u001b[m\r\n",
      " \u001b[m\r\n",
      "\u001b[31m-    return Tvol_Aw\u001b[m\r\n",
      " \u001b[m\r\n",
      "\u001b[32m+\u001b[m\u001b[32mdef GrossTotalVolume_Sw(basal_area, top_height):\u001b[m\r\n",
      "\u001b[32m+\u001b[m\u001b[32m    '''White Spruce Gross Total Volume\u001b[m\r\n",
      " \u001b[m\r\n",
      "\u001b[31m-def GrossTotalVolume_Sw(BA_Sw, topHeight_Sw):\u001b[m\r\n",
      "\u001b[31m-    '''Gross total volume is estimated only using species specific Basal Area and\u001b[m\r\n",
      "\u001b[31m-    Top height\u001b[m\r\n",
      "\u001b[32m+\u001b[m\u001b[32m    Note that inputs may be scalars, or numpy arrays.\u001b[m\r\n",
      " \u001b[m\r\n",
      "\u001b[31m-    :param float BA_Sw: basal area of Sw\u001b[m\r\n",
      "\u001b[31m-    :param float topHeight_Sw: top height of Sw\u001b[m\r\n",
      "\u001b[32m+\u001b[m\u001b[32m    :param float basal_area: basal area\u001b[m\r\n",
      "\u001b[32m+\u001b[m\u001b[32m    :param float top_height: top height\u001b[m\r\n",
      " \u001b[m\r\n",
      "     '''\u001b[m\r\n",
      "\u001b[31m-    Tvol_Sw = 0\u001b[m\r\n",
      "\u001b[32m+\u001b[m\u001b[32m    b1 = 0.41104\u001b[m\r\n",
      "\u001b[32m+\u001b[m\u001b[32m    b2 = 0.983108\u001b[m\r\n",
      "\u001b[32m+\u001b[m\u001b[32m    b3 = 0.971061\u001b[m\r\n",
      "\u001b[32m+\u001b[m\u001b[32m    tot_vol = b1 \\\u001b[m\r\n",
      "\u001b[32m+\u001b[m\u001b[32m              * (basal_area**b2) \\\u001b[m\r\n",
      "\u001b[32m+\u001b[m\u001b[32m              * (top_height**b3)\u001b[m\r\n",
      " \u001b[m\r\n",
      "\u001b[31m-    if topHeight_Sw > 0:\u001b[m\r\n",
      "\u001b[31m-        b1 = 0.41104\u001b[m\r\n",
      "\u001b[31m-        b2 = 0.983108\u001b[m\r\n",
      "\u001b[31m-        b3 = 0.971061\u001b[m\r\n",
      "\u001b[31m-        Tvol_Sw = b1 * (BA_Sw**b2) *  (topHeight_Sw**b3)\u001b[m\r\n",
      "\u001b[32m+\u001b[m\u001b[32m    return tot_vol\u001b[m\r\n",
      " \u001b[m\r\n",
      "\u001b[31m-    return Tvol_Sw\u001b[m\r\n",
      " \u001b[m\r\n",
      "\u001b[32m+\u001b[m\u001b[32mdef GrossTotalVolume_Sb(basal_area, top_height):\u001b[m\r\n",
      "\u001b[32m+\u001b[m\u001b[32m    '''Black Spruce Gross Total Volume\u001b[m\r\n",
      " \u001b[m\r\n",
      "\u001b[31m-def GrossTotalVolume_Sb(BA_Sb, topHeight_Sb):\u001b[m\r\n",
      "\u001b[31m-    '''Gross total volume is estimated only using species specific Basal Area and\u001b[m\r\n",
      "\u001b[31m-    Top height\u001b[m\r\n",
      "\u001b[32m+\u001b[m\u001b[32m    Note that inputs may be scalars, or numpy arrays.\u001b[m\r\n",
      " \u001b[m\r\n",
      "\u001b[31m-    :param float BA_Sb: basal area of Sb\u001b[m\r\n",
      "\u001b[31m-    :param float topHeight_Sb: top height of Sb\u001b[m\r\n",
      "\u001b[32m+\u001b[m\u001b[32m    :param float basal_area: basal area\u001b[m\r\n",
      "\u001b[32m+\u001b[m\u001b[32m    :param float top_height: top height\u001b[m\r\n",
      " \u001b[m\r\n",
      "     '''\u001b[m\r\n",
      "\u001b[31m-    Tvol_Sb = 0\u001b[m\r\n",
      "\u001b[32m+\u001b[m\u001b[32m    b1 = 0.48628\u001b[m\r\n",
      "\u001b[32m+\u001b[m\u001b[32m    b2 = 0.982962\u001b[m\r\n",
      "\u001b[32m+\u001b[m\u001b[32m    b3 = 0.910603\u001b[m\r\n",
      "\u001b[32m+\u001b[m\u001b[32m    tot_vol = b1 \\\u001b[m\r\n",
      "\u001b[32m+\u001b[m\u001b[32m              * (basal_area**b2) \\\u001b[m\r\n",
      "\u001b[32m+\u001b[m\u001b[32m              * (top_height**b3)\u001b[m\r\n",
      " \u001b[m\r\n",
      "\u001b[31m-    if topHeight_Sb > 0:\u001b[m\r\n",
      "\u001b[31m-        b1 = 0.48628\u001b[m\r\n",
      "\u001b[31m-        b2 = 0.982962\u001b[m\r\n",
      "\u001b[31m-        b3 = 0.910603\u001b[m\r\n",
      "\u001b[31m-        Tvol_Sb = b1 * (BA_Sb**b2) * (topHeight_Sb**b3)\u001b[m\r\n",
      "\u001b[32m+\u001b[m\u001b[32m    return tot_vol\u001b[m\r\n",
      " \u001b[m\r\n",
      "\u001b[31m-    return Tvol_Sb\u001b[m\r\n",
      " \u001b[m\r\n",
      "\u001b[32m+\u001b[m\u001b[32mdef GrossTotalVolume_Pl(basal_area, top_height):\u001b[m\r\n",
      "\u001b[32m+\u001b[m\u001b[32m    '''Lodgepole Pine Gross Total Volume\u001b[m\r\n",
      " \u001b[m\r\n",
      "\u001b[31m-def GrossTotalVolume_Pl(BA_Pl, topHeight_Pl):\u001b[m\r\n",
      "\u001b[31m-    '''Gross total volume is estimated only using species specific Basal Area and\u001b[m\r\n",
      "\u001b[31m-    Top height\u001b[m\r\n",
      "\u001b[32m+\u001b[m\u001b[32m    Note that inputs may be scalars, or numpy arrays.\u001b[m\r\n",
      " \u001b[m\r\n",
      "\u001b[31m-    :param float BA_Pl: basal area of Pl\u001b[m\r\n",
      "\u001b[31m-    :param float topHeight_Pl: top height of Pl\u001b[m\r\n",
      "\u001b[32m+\u001b[m\u001b[32m    :param float basal_area: basal area\u001b[m\r\n",
      "\u001b[32m+\u001b[m\u001b[32m    :param float top_height: top height\u001b[m\r\n",
      " \u001b[m\r\n",
      "     '''\u001b[m\r\n",
      "\u001b[31m-    Tvol_Pl = 0\u001b[m\r\n",
      "\u001b[31m-\u001b[m\r\n",
      "\u001b[31m-    if topHeight_Pl > 0:\u001b[m\r\n",
      "\u001b[31m-        a1 = 0.194086\u001b[m\r\n",
      "\u001b[31m-        a2 = 0.988276\u001b[m\r\n",
      "\u001b[31m-        a3 = 0.949346\u001b[m\r\n",
      "\u001b[31m-        a4 = -3.39036\u001b[m\r\n",
      "\u001b[31m-        Tvol_Pl = a1* (BA_Pl**a2) * (topHeight_Pl **a3) * numpy.exp(1+(a4/((topHeight_Pl**2)+1)))\u001b[m\r\n",
      "\u001b[31m-\u001b[m\r\n",
      "\u001b[31m-    return Tvol_Pl\u001b[m\r\n",
      "\u001b[32m+\u001b[m\u001b[32m    a1 = 0.194086\u001b[m\r\n",
      "\u001b[32m+\u001b[m\u001b[32m    a2 = 0.988276\u001b[m\r\n",
      "\u001b[32m+\u001b[m\u001b[32m    a3 = 0.949346\u001b[m\r\n",
      "\u001b[32m+\u001b[m\u001b[32m    a4 = -3.39036\u001b[m\r\n",
      "\u001b[32m+\u001b[m\u001b[32m    tot_vol = a1 \\\u001b[m\r\n",
      "\u001b[32m+\u001b[m\u001b[32m              * (basal_area**a2) \\\u001b[m\r\n",
      "\u001b[32m+\u001b[m\u001b[32m              * (top_height**a3) \\\u001b[m\r\n",
      "\u001b[32m+\u001b[m\u001b[32m              * numpy.exp(\u001b[m\r\n",
      "\u001b[32m+\u001b[m\u001b[32m                  1 + ( a4 / (( top_height**2 ) + 1 ))\u001b[m\r\n",
      "\u001b[32m+\u001b[m\u001b[32m              )\u001b[m\r\n",
      "\u001b[32m+\u001b[m\r\n",
      "\u001b[32m+\u001b[m\u001b[32m    return tot_vol\u001b[m\r\n",
      " \u001b[m\r\n",
      " def gross_total_volume(species, *args):\u001b[m\r\n",
      "     return {\u001b[m\r\n",
      "\u001b[36m@@ -1468,8 +1474,8 @@\u001b[m \u001b[mdef gross_total_volume(species, *args):\u001b[m\r\n",
      " \u001b[m\r\n",
      " \u001b[m\r\n",
      " \u001b[m\r\n",
      "\u001b[31m-def MerchantableVolumeAw(N_bh_Aw, BA_Aw, topHeight_Aw, StumpDOB_Aw,\u001b[m\r\n",
      "\u001b[31m-                         StumpHeight_Aw, TopDib_Aw, Tvol_Aw):\u001b[m\r\n",
      "\u001b[32m+\u001b[m\u001b[32mdef MerchantableVolumeAw(density, basal_area, top_height, total_volume,\u001b[m\r\n",
      "\u001b[32m+\u001b[m\u001b[32m                         stump_dob=13, top_dib=7, stump_height=0.3):\u001b[m\r\n",
      "     '''Merchantable volume for white aspen\u001b[m\r\n",
      " \u001b[m\r\n",
      "     Only new variables are the stump diameter outside bark, stump height and\u001b[m\r\n",
      "\u001b[36m@@ -1477,156 +1483,158 @@\u001b[m \u001b[mdef MerchantableVolumeAw(N_bh_Aw, BA_Aw, topHeight_Aw, StumpDOB_Aw,\u001b[m\r\n",
      "     avoid division by zero when density is zero, i.e., when the species is\u001b[m\r\n",
      "     absent in the plot.\u001b[m\r\n",
      " \u001b[m\r\n",
      "\u001b[31m-    :param float N_bh_Aw: density of sp Aw\u001b[m\r\n",
      "\u001b[31m-    :param float topHeight_Aw: top height of Aw\u001b[m\r\n",
      "\u001b[31m-    :param float StumpDOB_Aw:  stump diameter outside bark of Aw\u001b[m\r\n",
      "\u001b[31m-    :param float StumpHeight_Aw: stump height of Aw\u001b[m\r\n",
      "\u001b[31m-    :param float TopDib_Aw: top diameter inside bark\u001b[m\r\n",
      "\u001b[31m-    :param float Tvol_Aw: Gross total volume of Aw\u001b[m\r\n",
      "\u001b[32m+\u001b[m\u001b[32m    :param float density: density\u001b[m\r\n",
      "\u001b[32m+\u001b[m\u001b[32m    :param float basal_area: basal area\u001b[m\r\n",
      "\u001b[32m+\u001b[m\u001b[32m    :param float top_height: top height\u001b[m\r\n",
      "\u001b[32m+\u001b[m\u001b[32m    :param float StumpHeight: stump height\u001b[m\r\n",
      "\u001b[32m+\u001b[m\u001b[32m    :param float TopDib: top diameter inside bark\u001b[m\r\n",
      "\u001b[32m+\u001b[m\u001b[32m    :param float total_volume: Gross total volume\u001b[m\r\n",
      "\u001b[32m+\u001b[m\u001b[32m    :param float StumpDOB:  stump diameter outside bark\u001b[m\r\n",
      " \u001b[m\r\n",
      "     '''\u001b[m\r\n",
      "\u001b[31m-    if N_bh_Aw > 0:\u001b[m\r\n",
      "\u001b[31m-        k_Aw = (BA_Aw * 10000.0 / N_bh_Aw)**0.5\u001b[m\r\n",
      "\u001b[31m-    else:\u001b[m\r\n",
      "\u001b[31m-        k_Aw = 0\u001b[m\r\n",
      "\u001b[31m-\u001b[m\r\n",
      "\u001b[31m-    if k_Aw > 0 and topHeight_Aw > 0:\u001b[m\r\n",
      "\u001b[31m-        b0 = 0.993673\u001b[m\r\n",
      "\u001b[31m-        b1 = 923.5825\u001b[m\r\n",
      "\u001b[31m-        b2 = -3.96171\u001b[m\r\n",
      "\u001b[31m-        b3 = 3.366144\u001b[m\r\n",
      "\u001b[31m-        b4 = 0.316236\u001b[m\r\n",
      "\u001b[31m-        b5 = 0.968953\u001b[m\r\n",
      "\u001b[31m-        b6 = -1.61247\u001b[m\r\n",
      "\u001b[31m-        k1 = Tvol_Aw * (k_Aw**b0)\u001b[m\r\n",
      "\u001b[31m-        k2 = (b1* (topHeight_Aw**b2) * (StumpDOB_Aw**b3) * (StumpHeight_Aw**b4) * (TopDib_Aw**b5)  * (k_Aw**b6)) + k_Aw\u001b[m\r\n",
      "\u001b[31m-        MVol_Aw = k1/k2\u001b[m\r\n",
      "\u001b[31m-    else:\u001b[m\r\n",
      "\u001b[31m-        MVol_Aw = 0\u001b[m\r\n",
      "\u001b[31m-\u001b[m\r\n",
      "\u001b[31m-    return MVol_Aw\u001b[m\r\n",
      "\u001b[31m-\u001b[m\r\n",
      "\u001b[31m-\u001b[m\r\n",
      "\u001b[31m-def MerchantableVolumeSb(N_bh_Sb, BA_Sb, topHeight_Sb, StumpDOB_Sb,\u001b[m\r\n",
      "\u001b[31m-                         StumpHeight_Sb, TopDib_Sb, Tvol_Sb):\u001b[m\r\n",
      "\u001b[32m+\u001b[m\u001b[32m    k = (basal_area * 10000.0 / density)**0.5\u001b[m\r\n",
      "\u001b[32m+\u001b[m\u001b[32m    b0 = 0.993673\u001b[m\r\n",
      "\u001b[32m+\u001b[m\u001b[32m    b1 = 923.5825\u001b[m\r\n",
      "\u001b[32m+\u001b[m\u001b[32m    b2 = -3.96171\u001b[m\r\n",
      "\u001b[32m+\u001b[m\u001b[32m    b3 = 3.366144\u001b[m\r\n",
      "\u001b[32m+\u001b[m\u001b[32m    b4 = 0.316236\u001b[m\r\n",
      "\u001b[32m+\u001b[m\u001b[32m    b5 = 0.968953\u001b[m\r\n",
      "\u001b[32m+\u001b[m\u001b[32m    b6 = -1.61247\u001b[m\r\n",
      "\u001b[32m+\u001b[m\u001b[32m    k1 = total_volume * (k**b0)\u001b[m\r\n",
      "\u001b[32m+\u001b[m\u001b[32m    k2 = (\u001b[m\r\n",
      "\u001b[32m+\u001b[m\u001b[32m        b1 \\\u001b[m\r\n",
      "\u001b[32m+\u001b[m\u001b[32m        * (top_height**b2) \\\u001b[m\r\n",
      "\u001b[32m+\u001b[m\u001b[32m        * (stump_dob**b3) \\\u001b[m\r\n",
      "\u001b[32m+\u001b[m\u001b[32m        * (stump_height**b4) \\\u001b[m\r\n",
      "\u001b[32m+\u001b[m\u001b[32m        * (top_dib**b5) \\\u001b[m\r\n",
      "\u001b[32m+\u001b[m\u001b[32m        * (k**b6)\u001b[m\r\n",
      "\u001b[32m+\u001b[m\u001b[32m    ) + k\u001b[m\r\n",
      "\u001b[32m+\u001b[m\u001b[32m    merch_vol = k1/k2\u001b[m\r\n",
      "\u001b[32m+\u001b[m\r\n",
      "\u001b[32m+\u001b[m\u001b[32m    return merch_vol\u001b[m\r\n",
      "\u001b[32m+\u001b[m\r\n",
      "\u001b[32m+\u001b[m\r\n",
      "\u001b[32m+\u001b[m\u001b[32mdef MerchantableVolumeSb(density, basal_area, top_height, total_volume,\u001b[m\r\n",
      "\u001b[32m+\u001b[m\u001b[32m                         stump_dob=13, top_dib=7, stump_height=0.3):\u001b[m\r\n",
      "     '''Merchantable volume black spruce\u001b[m\r\n",
      " \u001b[m\r\n",
      "     The if below was used (and in other functions) to avoid division by zero\u001b[m\r\n",
      "     when density is zero, i.e., when the species is absent in the plot.\u001b[m\r\n",
      " \u001b[m\r\n",
      "\u001b[31m-    :param float N_bh_Sb: density of sp Sb\u001b[m\r\n",
      "\u001b[31m-    :param float topHeight_Sb: top height of Sb\u001b[m\r\n",
      "\u001b[31m-    :param float StumpDOB_Sb:  stump diameter outside bark of Sb\u001b[m\r\n",
      "\u001b[31m-    :param float StumpHeight_Sb: stump height of Sb\u001b[m\r\n",
      "\u001b[31m-    :param float TopDib_Sb: top diameter inside bark of Sb\u001b[m\r\n",
      "\u001b[31m-    :param float Tvol_Sb: Gross total volume of Sb\u001b[m\r\n",
      "\u001b[31m-\u001b[m\r\n",
      "\u001b[31m-    '''\u001b[m\r\n",
      "\u001b[31m-    if N_bh_Sb > 0:\u001b[m\r\n",
      "\u001b[31m-        k_Sb = (BA_Sb * 10000.0 / N_bh_Sb)**0.5\u001b[m\r\n",
      "\u001b[31m-    else:\u001b[m\r\n",
      "\u001b[31m-        k_Sb = 0\u001b[m\r\n",
      "\u001b[31m-\u001b[m\r\n",
      "\u001b[31m-    if k_Sb > 0 and  topHeight_Sb > 0:\u001b[m\r\n",
      "\u001b[31m-        if sp_Sb[0] in('Sb', 'Lt', 'La', 'Lw', 'L'):\u001b[m\r\n",
      "\u001b[31m-            b0 = 0.98152\u001b[m\r\n",
      "\u001b[31m-            b1 = 0.678011\u001b[m\r\n",
      "\u001b[31m-            b2 = -1.10256\u001b[m\r\n",
      "\u001b[31m-            b3 = 4.148139\u001b[m\r\n",
      "\u001b[31m-            b4 = 0.511391\u001b[m\r\n",
      "\u001b[31m-            b5 = 1.484988\u001b[m\r\n",
      "\u001b[31m-            b6 = -3.26425\u001b[m\r\n",
      "\u001b[31m-            StumpDOB = sp_Sb[7]\u001b[m\r\n",
      "\u001b[31m-            StumpHeight = sp_Sb[8]\u001b[m\r\n",
      "\u001b[31m-            TopDib = sp_Sb[9]\u001b[m\r\n",
      "\u001b[31m-            MVol_Sb = (Tvol_Sb * (k_Sb**b0))/ ((b1* (topHeight_Sb**b2) * (StumpDOB_Sb**b3) * (StumpHeight_Sb**b4) * (TopDib_Sb**b5) * (k_Sb**b6)) +k_Sb)\u001b[m\r\n",
      "\u001b[31m-    else:\u001b[m\r\n",
      "\u001b[31m-        MVol_Sb = 0\u001b[m\r\n",
      "\u001b[31m-\u001b[m\r\n",
      "\u001b[31m-    return MVol_Sb\u001b[m\r\n",
      "\u001b[31m-\u001b[m\r\n",
      "\u001b[32m+\u001b[m\u001b[32m    :param float density: density\u001b[m\r\n",
      "\u001b[32m+\u001b[m\u001b[32m    :param float top_height: top height\u001b[m\r\n",
      "\u001b[32m+\u001b[m\u001b[32m    :param float StumpDOB:  stump diameter outside bark\u001b[m\r\n",
      "\u001b[32m+\u001b[m\u001b[32m    :param float StumpHeight: stump height\u001b[m\r\n",
      "\u001b[32m+\u001b[m\u001b[32m    :param float TopDib: top diameter inside bark\u001b[m\r\n",
      "\u001b[32m+\u001b[m\u001b[32m    :param float total_volume: Gross total volume\u001b[m\r\n",
      " \u001b[m\r\n",
      "\u001b[31m-\u001b[m\r\n",
      "\u001b[31m-def MerchantableVolumeSw(N_bh_Sw, BA_Sw, topHeight_Sw, StumpDOB_Sw,\u001b[m\r\n",
      "\u001b[31m-                         StumpHeight_Sw, TopDib_Sw, Tvol_Sw):\u001b[m\r\n",
      "     '''\u001b[m\r\n",
      "\u001b[31m-    Merchantable volume only new variables are the stump diameter outside bark, stump height and top diameter inside bark\u001b[m\r\n",
      "\u001b[32m+\u001b[m\u001b[32m    k = (basal_area * 10000.0 / density)**0.5\u001b[m\r\n",
      "\u001b[32m+\u001b[m\u001b[32m    b0 = 0.98152\u001b[m\r\n",
      "\u001b[32m+\u001b[m\u001b[32m    b1 = 0.678011\u001b[m\r\n",
      "\u001b[32m+\u001b[m\u001b[32m    b2 = -1.10256\u001b[m\r\n",
      "\u001b[32m+\u001b[m\u001b[32m    b3 = 4.148139\u001b[m\r\n",
      "\u001b[32m+\u001b[m\u001b[32m    b4 = 0.511391\u001b[m\r\n",
      "\u001b[32m+\u001b[m\u001b[32m    b5 = 1.484988\u001b[m\r\n",
      "\u001b[32m+\u001b[m\u001b[32m    b6 = -3.26425\u001b[m\r\n",
      "\u001b[32m+\u001b[m\u001b[32m    merch_vol = ( total_volume * (k**b0) ) \\\u001b[m\r\n",
      "\u001b[32m+\u001b[m\u001b[32m                / (\u001b[m\r\n",
      "\u001b[32m+\u001b[m\u001b[32m                    ( b1 \\\u001b[m\r\n",
      "\u001b[32m+\u001b[m\u001b[32m                      * (top_height**b2) \\\u001b[m\r\n",
      "\u001b[32m+\u001b[m\u001b[32m                      * (stump_dob**b3) \\\u001b[m\r\n",
      "\u001b[32m+\u001b[m\u001b[32m                      * (stump_height**b4) \\\u001b[m\r\n",
      "\u001b[32m+\u001b[m\u001b[32m                      * (top_dib**b5) \\\u001b[m\r\n",
      "\u001b[32m+\u001b[m\u001b[32m                      * (k**b6)\u001b[m\r\n",
      "\u001b[32m+\u001b[m\u001b[32m                    ) + k\u001b[m\r\n",
      "\u001b[32m+\u001b[m\u001b[32m                )\u001b[m\r\n",
      "\u001b[32m+\u001b[m\r\n",
      "\u001b[32m+\u001b[m\u001b[32m    return merch_vol\u001b[m\r\n",
      "\u001b[32m+\u001b[m\r\n",
      "\u001b[32m+\u001b[m\r\n",
      "\u001b[32m+\u001b[m\r\n",
      "\u001b[32m+\u001b[m\u001b[32mdef MerchantableVolumeSw(density, basal_area, top_height, total_volume,\u001b[m\r\n",
      "\u001b[32m+\u001b[m\u001b[32m                         stump_dob=13, top_dib=7, stump_height=0.3):\u001b[m\r\n",
      "\u001b[32m+\u001b[m\u001b[32m    '''Merchantable volume for white spruce\u001b[m\r\n",
      " \u001b[m\r\n",
      "     The if below was used (and in other functions) to avoid\u001b[m\r\n",
      "     division by zero when density is zero, i.e., when the\u001b[m\r\n",
      "     species is absent in the plot.\u001b[m\r\n",
      " \u001b[m\r\n",
      "\u001b[31m-    :param float N_bh_Sw: density of sp Sw\u001b[m\r\n",
      "\u001b[31m-    :param float topHeight_Sw: top height of Sw\u001b[m\r\n",
      "\u001b[31m-    :param float StumpDOB_Sw:  stump diameter outside bark of Sw\u001b[m\r\n",
      "\u001b[31m-    :param float StumpHeight_Sw: stump height of Sw\u001b[m\r\n",
      "\u001b[31m-    :param float TopDib_Sw: top diameter inside bark of Sw\u001b[m\r\n",
      "\u001b[31m-    :param float Tvol_Sw: Gross total volume of Sw\u001b[m\r\n",
      "\u001b[31m-    '''\u001b[m\r\n",
      "\u001b[31m-    if N_bh_Sw > 0:\u001b[m\r\n",
      "\u001b[31m-        k_Sw = (BA_Sw * 10000.0 / N_bh_Sw)**0.5\u001b[m\r\n",
      "\u001b[31m-    else:\u001b[m\r\n",
      "\u001b[31m-        k_Sw = 0\u001b[m\r\n",
      "\u001b[31m-    if k_Sw > 0 and  topHeight_Sw > 0:\u001b[m\r\n",
      "\u001b[31m-        if sp_Sw[0] in ('Sw', 'Se', 'Fd', 'Fb', 'Fa'):\u001b[m\r\n",
      "\u001b[31m-            b0 = 0.996262\u001b[m\r\n",
      "\u001b[31m-            b1 = 7.021736\u001b[m\r\n",
      "\u001b[31m-            b2 = -1.77615\u001b[m\r\n",
      "\u001b[31m-            b3 = 1.91562\u001b[m\r\n",
      "\u001b[31m-            b4 = 0.4111\u001b[m\r\n",
      "\u001b[31m-            b5 = 1.024803\u001b[m\r\n",
      "\u001b[31m-            b6 = -0.80121\u001b[m\r\n",
      "\u001b[31m-            MVol_Sw = (Tvol_Sw * (k_Sw**b0)) /   ((b1* (topHeight_Sw**b2) * (sp_Sw[7]**b3) * (sp_Sw[8]**b4) * (sp_Sw[9]**b5) * (k_Sw**b6)) +k_Sw)\u001b[m\r\n",
      "\u001b[31m-    else:\u001b[m\r\n",
      "\u001b[31m-        MVol_Sw = 0\u001b[m\r\n",
      "\u001b[31m-\u001b[m\r\n",
      "\u001b[31m-    return MVol_Sw\u001b[m\r\n",
      "\u001b[31m-\u001b[m\r\n",
      "\u001b[31m-\u001b[m\r\n",
      "\u001b[32m+\u001b[m\u001b[32m    :param float density: density\u001b[m\r\n",
      "\u001b[32m+\u001b[m\u001b[32m    :param float top_height: top height\u001b[m\r\n",
      "\u001b[32m+\u001b[m\u001b[32m    :param float StumpDOB:  stump diameter outside bark\u001b[m\r\n",
      "\u001b[32m+\u001b[m\u001b[32m    :param float StumpHeight: stump height\u001b[m\r\n",
      "\u001b[32m+\u001b[m\u001b[32m    :param float TopDib: top diameter inside bark\u001b[m\r\n",
      "\u001b[32m+\u001b[m\u001b[32m    :param float total_volume: Gross total volume\u001b[m\r\n",
      " \u001b[m\r\n",
      "\u001b[31m-def MerchantableVolumePl(N_bh_Pl, BA_Pl, topHeight_Pl, StumpDOB_Pl,\u001b[m\r\n",
      "\u001b[31m-                         StumpHeight_Pl, TopDib_Pl, Tvol_Pl):\u001b[m\r\n",
      "\u001b[31m-    '''Merchantable volume lodgepole pine\u001b[m\r\n",
      "\u001b[32m+\u001b[m\u001b[32m    '''\u001b[m\r\n",
      "\u001b[32m+\u001b[m\u001b[32m    k = (basal_area * 10000.0 / density)**0.5\u001b[m\r\n",
      "\u001b[32m+\u001b[m\u001b[32m    b0 = 0.996262\u001b[m\r\n",
      "\u001b[32m+\u001b[m\u001b[32m    b1 = 7.021736\u001b[m\r\n",
      "\u001b[32m+\u001b[m\u001b[32m    b2 = -1.77615\u001b[m\r\n",
      "\u001b[32m+\u001b[m\u001b[32m    b3 = 1.91562\u001b[m\r\n",
      "\u001b[32m+\u001b[m\u001b[32m    b4 = 0.4111\u001b[m\r\n",
      "\u001b[32m+\u001b[m\u001b[32m    b5 = 1.024803\u001b[m\r\n",
      "\u001b[32m+\u001b[m\u001b[32m    b6 = -0.80121\u001b[m\r\n",
      "\u001b[32m+\u001b[m\u001b[32m    merch_vol = (total_volume * (k**b0)) \\\u001b[m\r\n",
      "\u001b[32m+\u001b[m\u001b[32m                / (\u001b[m\r\n",
      "\u001b[32m+\u001b[m\u001b[32m                    ( b1 \\\u001b[m\r\n",
      "\u001b[32m+\u001b[m\u001b[32m                     * (top_height**b2) \\\u001b[m\r\n",
      "\u001b[32m+\u001b[m\u001b[32m                     * (stump_dob**b3) \\\u001b[m\r\n",
      "\u001b[32m+\u001b[m\u001b[32m                     * (stump_height**b4) \\\u001b[m\r\n",
      "\u001b[32m+\u001b[m\u001b[32m                     * (top_dib**b5) \\\u001b[m\r\n",
      "\u001b[32m+\u001b[m\u001b[32m                     * (k**b6)\u001b[m\r\n",
      "\u001b[32m+\u001b[m\u001b[32m                    ) + k\u001b[m\r\n",
      "\u001b[32m+\u001b[m\u001b[32m                )\u001b[m\r\n",
      "\u001b[32m+\u001b[m\r\n",
      "\u001b[32m+\u001b[m\u001b[32m    return merch_vol\u001b[m\r\n",
      "\u001b[32m+\u001b[m\r\n",
      "\u001b[32m+\u001b[m\r\n",
      "\u001b[32m+\u001b[m\r\n",
      "\u001b[32m+\u001b[m\u001b[32mdef MerchantableVolumePl(density, basal_area, top_height, total_volume,\u001b[m\r\n",
      "\u001b[32m+\u001b[m\u001b[32m                         stump_dob=13, top_dib=7, stump_height=0.3):\u001b[m\r\n",
      "\u001b[32m+\u001b[m\u001b[32m    '''Merchantable volume for lodgepole pine\u001b[m\r\n",
      " \u001b[m\r\n",
      "     The if below was used (and in other functions) to avoid division by zero\u001b[m\r\n",
      "     when density is zero, i.e., when the species is absent in the plot.\u001b[m\r\n",
      " \u001b[m\r\n",
      "\u001b[31m-    :param float N_bh_Pl: density of sp Pl\u001b[m\r\n",
      "\u001b[31m-    :param float topHeight_Pl: top height of Pl\u001b[m\r\n",
      "\u001b[31m-    :param float StumpDOB_Pl:  stump diameter outside bark of Pl\u001b[m\r\n",
      "\u001b[31m-    :param float StumpHeight_Pl: stump height of Pl\u001b[m\r\n",
      "\u001b[31m-    :param float TopDib_Pl: top diameter inside bark of Pl\u001b[m\r\n",
      "\u001b[31m-    :param float Tvol_Pl: Gross total volume of Pl\u001b[m\r\n",
      "\u001b[32m+\u001b[m\u001b[32m    :param float density: density\u001b[m\r\n",
      "\u001b[32m+\u001b[m\u001b[32m    :param float top_height: top height\u001b[m\r\n",
      "\u001b[32m+\u001b[m\u001b[32m    :param float StumpDOB:  stump diameter outside bark\u001b[m\r\n",
      "\u001b[32m+\u001b[m\u001b[32m    :param float StumpHeight: stump height\u001b[m\r\n",
      "\u001b[32m+\u001b[m\u001b[32m    :param float TopDib: top diameter inside bark\u001b[m\r\n",
      "\u001b[32m+\u001b[m\u001b[32m    :param float total_volume: Gross total volume\u001b[m\r\n",
      " \u001b[m\r\n",
      "     '''\u001b[m\r\n",
      "\u001b[31m-    if N_bh_Pl > 0:\u001b[m\r\n",
      "\u001b[31m-        k_Pl = (BA_Pl * 10000.0 / N_bh_Pl)**0.5\u001b[m\r\n",
      "\u001b[31m-    else:\u001b[m\r\n",
      "\u001b[31m-        k_Pl = 0\u001b[m\r\n",
      "\u001b[31m-\u001b[m\r\n",
      "\u001b[31m-    if k_Pl > 0 and topHeight_Pl > 0:\u001b[m\r\n",
      "\u001b[31m-        if sp_Pl[0] in ('P', 'Pl', 'Pj', 'Pa', 'Pf'):\u001b[m\r\n",
      "\u001b[31m-            b0 = 0.989889\u001b[m\r\n",
      "\u001b[31m-            b1 = 1.055091\u001b[m\r\n",
      "\u001b[31m-            b2 = -0.19072\u001b[m\r\n",
      "\u001b[31m-            b3 = 4.915593\u001b[m\r\n",
      "\u001b[31m-            b4 = 0.42574\u001b[m\r\n",
      "\u001b[31m-            b5 = 1.006379\u001b[m\r\n",
      "\u001b[31m-            b6 = -4.87808\u001b[m\r\n",
      "\u001b[31m-            MVol_Pl = (Tvol_Pl * (k_Pl**b0)) / ((b1* (topHeight_Pl**b2) * (sp_Pl[7]**b3) * (sp_Pl[8]**b4) * (sp_Pl[9]**b5) * (k_Pl**b6)) +k_Pl)\u001b[m\r\n",
      "\u001b[31m-    else:\u001b[m\r\n",
      "\u001b[31m-        MVol_Pl = 0\u001b[m\r\n",
      "\u001b[31m-\u001b[m\r\n",
      "\u001b[31m-    return MVol_Pl\u001b[m\r\n",
      "\u001b[31m-\u001b[m\r\n",
      "\u001b[31m-\u001b[m\r\n",
      "\u001b[31m-def merchantable_volume(species, *args):\u001b[m\r\n",
      "\u001b[32m+\u001b[m\u001b[32m    k = (basal_area * 10000.0 / density)**0.5\u001b[m\r\n",
      "\u001b[32m+\u001b[m\u001b[32m    b0 = 0.989889\u001b[m\r\n",
      "\u001b[32m+\u001b[m\u001b[32m    b1 = 1.055091\u001b[m\r\n",
      "\u001b[32m+\u001b[m\u001b[32m    b2 = -0.19072\u001b[m\r\n",
      "\u001b[32m+\u001b[m\u001b[32m    b3 = 4.915593\u001b[m\r\n",
      "\u001b[32m+\u001b[m\u001b[32m    b4 = 0.42574\u001b[m\r\n",
      "\u001b[32m+\u001b[m\u001b[32m    b5 = 1.006379\u001b[m\r\n",
      "\u001b[32m+\u001b[m\u001b[32m    b6 = -4.87808\u001b[m\r\n",
      "\u001b[32m+\u001b[m\u001b[32m    merch_vol = (total_volume * (k**b0)) \\\u001b[m\r\n",
      "\u001b[32m+\u001b[m\u001b[32m                / (\u001b[m\r\n",
      "\u001b[32m+\u001b[m\u001b[32m                    (b1 \\\u001b[m\r\n",
      "\u001b[32m+\u001b[m\u001b[32m                     * (top_height**b2) \\\u001b[m\r\n",
      "\u001b[32m+\u001b[m\u001b[32m                     * (stump_dob**b3) \\\u001b[m\r\n",
      "\u001b[32m+\u001b[m\u001b[32m                     * (stump_height**b4) \\\u001b[m\r\n",
      "\u001b[32m+\u001b[m\u001b[32m                     * (top_dib**b5) \\\u001b[m\r\n",
      "\u001b[32m+\u001b[m\u001b[32m                     * (k**b6)\u001b[m\r\n",
      "\u001b[32m+\u001b[m\u001b[32m                    ) + k\u001b[m\r\n",
      "\u001b[32m+\u001b[m\u001b[32m                )\u001b[m\r\n",
      "\u001b[32m+\u001b[m\r\n",
      "\u001b[32m+\u001b[m\u001b[32m    return merch_vol\u001b[m\r\n",
      "\u001b[32m+\u001b[m\r\n",
      "\u001b[32m+\u001b[m\r\n",
      "\u001b[32m+\u001b[m\u001b[32mdef merchantable_volume(species, *args, **kwargs):\u001b[m\r\n",
      "     return {\u001b[m\r\n",
      "         'Aw': MerchantableVolumeAw,\u001b[m\r\n",
      "         'Sw': MerchantableVolumeSw,\u001b[m\r\n",
      "         'Sb': MerchantableVolumeSb,\u001b[m\r\n",
      "         'Pl': MerchantableVolumePl,\u001b[m\r\n",
      "\u001b[31m-    }[species](*args)\u001b[m\r\n",
      "\u001b[32m+\u001b[m\u001b[32m    }[species](*args, **kwargs)\u001b[m\r\n",
      " \u001b[m\r\n",
      " \u001b[m\r\n",
      " def _plot_simulation_variables(simulation_df, ax=None, plot_vars=None, y_lab=''):\u001b[m\r\n",
      "\u001b[1mdiff --git a/gypsy/forward_simulation.py b/gypsy/forward_simulation.py\u001b[m\r\n",
      "\u001b[1mindex e96705d..3862ae0 100644\u001b[m\r\n",
      "\u001b[1m--- a/gypsy/forward_simulation.py\u001b[m\r\n",
      "\u001b[1m+++ b/gypsy/forward_simulation.py\u001b[m\r\n",
      "\u001b[36m@@ -157,18 +157,6 @@\u001b[m \u001b[mdef simulate_forwards_df(plot_df, simulation_choice='yes'):\u001b[m\r\n",
      "         N0_Sw = row.at['N0_Sw']\u001b[m\r\n",
      "         N0_Pl = row.at['N0_Pl']\u001b[m\r\n",
      "         N0_Sb = row.at['N0_Sb']\u001b[m\r\n",
      "\u001b[31m-        StumpDOB_Aw = row.at['StumpDOB_Aw']\u001b[m\r\n",
      "\u001b[31m-        StumpDOB_Sb = row.at['StumpDOB_Sb']\u001b[m\r\n",
      "\u001b[31m-        StumpDOB_Sw = row.at['StumpDOB_Sw']\u001b[m\r\n",
      "\u001b[31m-        StumpDOB_Pl = row.at['StumpDOB_Pl']\u001b[m\r\n",
      "\u001b[31m-        StumpHeight_Aw = row.at['StumpHeight_Aw']\u001b[m\r\n",
      "\u001b[31m-        StumpHeight_Sb = row.at['StumpHeight_Sb']\u001b[m\r\n",
      "\u001b[31m-        StumpHeight_Sw = row.at['StumpHeight_Sw']\u001b[m\r\n",
      "\u001b[31m-        StumpHeight_Pl = row.at['StumpHeight_Pl']\u001b[m\r\n",
      "\u001b[31m-        TopDib_Aw = row.at['TopDib_Aw']\u001b[m\r\n",
      "\u001b[31m-        TopDib_Sb = row.at['TopDib_Sb']\u001b[m\r\n",
      "\u001b[31m-        TopDib_Sw = row.at['TopDib_Sw']\u001b[m\r\n",
      "\u001b[31m-        TopDib_Pl = row.at['TopDib_Pl']\u001b[m\r\n",
      " \u001b[m\r\n",
      "         BA_Aw0 = BA0_lower_BAT_Aw(BA_AwT)\u001b[m\r\n",
      "         BA_Sw0 = BA0_lower_BAT_Sw(BA_SwT)\u001b[m\r\n",
      "\u001b[36m@@ -358,13 +346,10 @@\u001b[m \u001b[mdef simulate_forwards_df(plot_df, simulation_choice='yes'):\u001b[m\r\n",
      "         #http://stackoverflow.com/questions/25314547/cell-var-from-loop-warning-from-pylint\u001b[m\r\n",
      " \u001b[m\r\n",
      "         for spec in SPECIES:\u001b[m\r\n",
      "\u001b[31m-            output_DF['Gross_Total_Volume_%s' % spec] = output_DF.apply(\u001b[m\r\n",
      "\u001b[31m-                lambda x: gross_total_volume(\u001b[m\r\n",
      "\u001b[31m-                    spec,\u001b[m\r\n",
      "\u001b[31m-                    x.at['BA_%s' % spec],\u001b[m\r\n",
      "\u001b[31m-                    x.at['topHeight_%s' % spec]\u001b[m\r\n",
      "\u001b[31m-                ),\u001b[m\r\n",
      "\u001b[31m-                axis=1\u001b[m\r\n",
      "\u001b[32m+\u001b[m\u001b[32m            output_DF['Gross_Total_Volume_%s' % spec] = gross_total_volume(\u001b[m\r\n",
      "\u001b[32m+\u001b[m\u001b[32m                spec,\u001b[m\r\n",
      "\u001b[32m+\u001b[m\u001b[32m                output_DF['BA_%s' % spec],\u001b[m\r\n",
      "\u001b[32m+\u001b[m\u001b[32m                output_DF['topHeight_%s' % spec]\u001b[m\r\n",
      "             )\u001b[m\r\n",
      " \u001b[m\r\n",
      "         output_DF['Gross_Total_Volume_Con'] = output_DF['Gross_Total_Volume_Sw'] \\\u001b[m\r\n",
      "\u001b[36m@@ -376,42 +361,13 @@\u001b[m \u001b[mdef simulate_forwards_df(plot_df, simulation_choice='yes'):\u001b[m\r\n",
      " \u001b[m\r\n",
      "         # this could go in the loop above, but is left here for now since\u001b[m\r\n",
      "         # the tests are sensitive to column order\u001b[m\r\n",
      "\u001b[31m-        species_plot_merch_vol_params = OrderedDict(\u001b[m\r\n",
      "\u001b[31m-            (\u001b[m\r\n",
      "\u001b[31m-                ('Aw', {\u001b[m\r\n",
      "\u001b[31m-                    'StumpDOB': StumpDOB_Aw,\u001b[m\r\n",
      "\u001b[31m-                    'TopDib': TopDib_Aw,\u001b[m\r\n",
      "\u001b[31m-                    'StumpHeight': StumpHeight_Aw\u001b[m\r\n",
      "\u001b[31m-                 }),\u001b[m\r\n",
      "\u001b[31m-                ('Sw', {\u001b[m\r\n",
      "\u001b[31m-                    'StumpDOB': StumpDOB_Sw,\u001b[m\r\n",
      "\u001b[31m-                    'TopDib': TopDib_Sw,\u001b[m\r\n",
      "\u001b[31m-                    'StumpHeight': StumpHeight_Sw\u001b[m\r\n",
      "\u001b[31m-                 }),\u001b[m\r\n",
      "\u001b[31m-                ('Sb', {\u001b[m\r\n",
      "\u001b[31m-                    'StumpDOB': StumpDOB_Sb,\u001b[m\r\n",
      "\u001b[31m-                    'TopDib': TopDib_Sb,\u001b[m\r\n",
      "\u001b[31m-                    'StumpHeight': StumpHeight_Sb\u001b[m\r\n",
      "\u001b[31m-                 }),\u001b[m\r\n",
      "\u001b[31m-                ('Pl', {\u001b[m\r\n",
      "\u001b[31m-                    'StumpDOB': StumpDOB_Pl,\u001b[m\r\n",
      "\u001b[31m-                    'TopDib': TopDib_Pl,\u001b[m\r\n",
      "\u001b[31m-                    'StumpHeight': StumpHeight_Pl\u001b[m\r\n",
      "\u001b[31m-                 }),\u001b[m\r\n",
      "\u001b[31m-            )\u001b[m\r\n",
      "\u001b[31m-        )\u001b[m\r\n",
      "\u001b[31m-        for spec, params in species_plot_merch_vol_params.items():\u001b[m\r\n",
      "\u001b[31m-            output_DF['MerchantableVolume%s' % spec] = output_DF.apply(\u001b[m\r\n",
      "\u001b[31m-                lambda x: merchantable_volume(\u001b[m\r\n",
      "\u001b[31m-                    spec,\u001b[m\r\n",
      "\u001b[31m-                    x.at['N_bh_%sT' % spec],\u001b[m\r\n",
      "\u001b[31m-                    x.at['BA_%s' % spec],\u001b[m\r\n",
      "\u001b[31m-                    x.at['topHeight_%s' % spec],\u001b[m\r\n",
      "\u001b[31m-                    params['StumpDOB'],\u001b[m\r\n",
      "\u001b[31m-                    params['StumpHeight'],\u001b[m\r\n",
      "\u001b[31m-                    params['TopDib'],\u001b[m\r\n",
      "\u001b[31m-                    x.at['Gross_Total_Volume_%s' % spec]\u001b[m\r\n",
      "\u001b[31m-                ), axis=1\u001b[m\r\n",
      "\u001b[32m+\u001b[m\u001b[32m        for spec in SPECIES:\u001b[m\r\n",
      "\u001b[32m+\u001b[m\u001b[32m            output_DF['MerchantableVolume%s' % spec] = merchantable_volume(\u001b[m\r\n",
      "\u001b[32m+\u001b[m\u001b[32m                spec,\u001b[m\r\n",
      "\u001b[32m+\u001b[m\u001b[32m                output_DF['N_bh_%sT' % spec],\u001b[m\r\n",
      "\u001b[32m+\u001b[m\u001b[32m                output_DF['BA_%s' % spec],\u001b[m\r\n",
      "\u001b[32m+\u001b[m\u001b[32m                output_DF['topHeight_%s' % spec],\u001b[m\r\n",
      "\u001b[32m+\u001b[m\u001b[32m                output_DF['Gross_Total_Volume_%s' % spec]\u001b[m\r\n",
      "             )\u001b[m\r\n",
      " \u001b[m\r\n",
      "         output_DF['MerchantableVolume_Con'] = output_DF['MerchantableVolumeSw'] \\\u001b[m\r\n"
     ]
    }
   ],
   "source": [
    "! git diff \"HEAD~$(git log --since \"2016-11-14 19:30\" --oneline | wc -l)\" ../gypsy"
   ]
  },
  {
   "cell_type": "markdown",
   "metadata": {},
   "source": [
    "# Run timings"
   ]
  },
  {
   "cell_type": "markdown",
   "metadata": {},
   "source": [
    "From last time:\n",
    "\n",
    "```\n",
    "real\t5m36.407s\n",
    "user\t5m25.740s\n",
    "sys \t0m2.140s\n",
    "```"
   ]
  },
  {
   "cell_type": "markdown",
   "metadata": {},
   "source": [
    "After cython'ing iter functions:"
   ]
  },
  {
   "cell_type": "code",
   "execution_count": 36,
   "metadata": {
    "collapsed": false
   },
   "outputs": [],
   "source": [
    "%%bash\n",
    "# git checkout 36941343aca2df763f93192abef461093918fff4 -b vectorize-volume-functions\n",
    "# time gypsy simulate ../private-data/prepped_random_sample_300.csv --output-dir tmp\n",
    "# rm -rfd tmp\n",
    "\n",
    "# real\t4m51.287s\n",
    "# user\t4m41.770s\n",
    "# sys\t0m1.070s"
   ]
  },
  {
   "cell_type": "code",
   "execution_count": 38,
   "metadata": {
    "collapsed": false
   },
   "outputs": [
    {
     "data": {
      "text/plain": [
       "0.13392857142857142"
      ]
     },
     "execution_count": 38,
     "metadata": {},
     "output_type": "execute_result"
    }
   ],
   "source": [
    "45/336."
   ]
  },
  {
   "cell_type": "markdown",
   "metadata": {},
   "source": [
    "It yielded a 13% reduction in the time."
   ]
  },
  {
   "cell_type": "markdown",
   "metadata": {},
   "source": [
    "# Run profiling"
   ]
  },
  {
   "cell_type": "code",
   "execution_count": 2,
   "metadata": {
    "collapsed": false
   },
   "outputs": [],
   "source": [
    "from gypsy.forward_simulation import simulate_forwards_df"
   ]
  },
  {
   "cell_type": "code",
   "execution_count": 3,
   "metadata": {
    "collapsed": false
   },
   "outputs": [],
   "source": [
    "data = pd.read_csv('../private-data/prepped_random_sample_300.csv', index_col=0, nrows=10)"
   ]
  },
  {
   "cell_type": "code",
   "execution_count": 4,
   "metadata": {
    "collapsed": false
   },
   "outputs": [
    {
     "name": "stdout",
     "output_type": "stream",
     "text": [
      " \n",
      "*** Profile stats marshalled to file u'forward-sim-3.prof'. \n",
      "\n",
      "*** Profile printout saved to text file u'forward-sim-3.txt'. \n"
     ]
    }
   ],
   "source": [
    "%%prun -D forward-sim-3.prof -T forward-sim-3.txt -q\n",
    "result = simulate_forwards_df(data)"
   ]
  },
  {
   "cell_type": "code",
   "execution_count": 5,
   "metadata": {
    "collapsed": false
   },
   "outputs": [
    {
     "name": "stdout",
     "output_type": "stream",
     "text": [
      "         1076718 function calls (1074662 primitive calls) in 13.756 seconds\r\n",
      "\r\n",
      "   Ordered by: internal time\r\n",
      "\r\n",
      "   ncalls  tottime  percall  cumtime  percall filename:lineno(function)\r\n",
      "   492069    6.234    0.000    6.234    0.000 GYPSYNonSpatial.py:428(BasalAreaIncrementNonSpatialAw)\r\n",
      "     7191    2.179    0.000    8.563    0.001 GYPSYNonSpatial.py:956(BAfromZeroToDataAw)\r\n",
      "    31044    0.734    0.000    0.734    0.000 GYPSYNonSpatial.py:585(BasalAreaIncrementNonSpatialSw)\r\n",
      "    16426    0.338    0.000    0.338    0.000 GYPSYNonSpatial.py:683(BasalAreaIncrementNonSpatialPl)\r\n",
      "    79970    0.279    0.000    0.348    0.000 {isinstance}\r\n"
     ]
    }
   ],
   "source": [
    "!head forward-sim-3.txt"
   ]
  },
  {
   "cell_type": "markdown",
   "metadata": {},
   "source": [
    "# Compare performance visualizations"
   ]
  },
  {
   "cell_type": "markdown",
   "metadata": {},
   "source": [
    "Now use either of these commands to visualize the profiling\n",
    "\n",
    "```\n",
    "pyprof2calltree -k -i forward-sim-1.prof forward-sim-3.txt\n",
    "\n",
    "# or\n",
    "\n",
    "dc run --service-ports snakeviz notebooks/forward-sim-3.prof\n",
    "```"
   ]
  },
  {
   "cell_type": "markdown",
   "metadata": {
    "collapsed": true
   },
   "source": [
    "### Old"
   ]
  },
  {
   "cell_type": "markdown",
   "metadata": {},
   "source": [
    "![2nd iteration performance](forward-sim-2a-performance.png)"
   ]
  },
  {
   "cell_type": "markdown",
   "metadata": {
    "collapsed": true
   },
   "source": [
    "### New"
   ]
  },
  {
   "cell_type": "markdown",
   "metadata": {},
   "source": [
    "![3nd iteration performance](forward-sim-3-performance.png)"
   ]
  },
  {
   "cell_type": "markdown",
   "metadata": {},
   "source": [
    "## Summary of performance improvements\n",
    "\n",
    "The calculation of gross and merchantable volume is drastically faster now; under profiling it decrease to 1 second from 22 seconds.\n",
    "\n",
    "A lot of that seems to be profiler overhead, as when using gypsy simulate CLI it only got 15% faster; however I expect i/o is obfuscating the outcome there.\n"
   ]
  },
  {
   "cell_type": "markdown",
   "metadata": {},
   "source": [
    "# Profile with I/O\n"
   ]
  },
  {
   "cell_type": "code",
   "execution_count": null,
   "metadata": {
    "collapsed": true
   },
   "outputs": [],
   "source": [
    "! rm -rfd gypsy-output"
   ]
  },
  {
   "cell_type": "code",
   "execution_count": null,
   "metadata": {
    "collapsed": true
   },
   "outputs": [],
   "source": [
    "output_dir = 'gypsy-output'"
   ]
  },
  {
   "cell_type": "code",
   "execution_count": 20,
   "metadata": {
    "collapsed": false
   },
   "outputs": [
    {
     "name": "stdout",
     "output_type": "stream",
     "text": [
      " \n",
      "*** Profile stats marshalled to file u'forward-sim-1.prof'. \n",
      "\n",
      "*** Profile printout saved to text file u'forward-sim-1.txt'. \n"
     ]
    }
   ],
   "source": [
    "%%prun -D forward-sim-2.prof -T forward-sim-2.txt -q\n",
    "# restart the kernel first\n",
    "data = pd.read_csv('../private-data/prepped_random_sample_300.csv', index_col=0, nrows=10)\n",
    "result = simulate_forwards_df(data)\n",
    "os.makedirs(output_dir)\n",
    "for plot_id, df in result.items():\n",
    "    filename = '%s.csv' % plot_id\n",
    "    output_path = os.path.join(output_dir, filename)\n",
    "    df.to_csv(output_path)\n"
   ]
  },
  {
   "cell_type": "markdown",
   "metadata": {},
   "source": [
    "# Identify new areas to optimize\n",
    "\n"
   ]
  },
  {
   "cell_type": "markdown",
   "metadata": {},
   "source": [
    "- from last time:\n",
    "    - parallel (3 cores) gets us to 2 - 6 days - save for last\n",
    "    - AWS with 36 cores gets us to 4 - 12 hours ($6.70 - $20.10 USD on a c4.8xlarge instance in US West Region)\n",
    "    - aws lambda and split up the data \n",
    "- now:\n",
    "    - cython for increment functions epsecially bA\n",
    "    - i/o"
   ]
  },
  {
   "cell_type": "code",
   "execution_count": null,
   "metadata": {
    "collapsed": true
   },
   "outputs": [],
   "source": []
  }
 ],
 "metadata": {
  "kernelspec": {
   "display_name": "Python 2",
   "language": "python",
   "name": "python2"
  },
  "language_info": {
   "codemirror_mode": {
    "name": "ipython",
    "version": 2
   },
   "file_extension": ".py",
   "mimetype": "text/x-python",
   "name": "python",
   "nbconvert_exporter": "python",
   "pygments_lexer": "ipython2",
   "version": "2.7.12"
  }
 },
 "nbformat": 4,
 "nbformat_minor": 1
}
