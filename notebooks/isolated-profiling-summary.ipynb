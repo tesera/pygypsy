{
 "cells": [
  {
   "cell_type": "code",
   "execution_count": null,
   "metadata": {
    "collapsed": true
   },
   "outputs": [],
   "source": [
    "%matplotlib inline"
   ]
  },
  {
   "cell_type": "markdown",
   "metadata": {},
   "source": [
    "# Compare Time of Original vs Optimized"
   ]
  },
  {
   "cell_type": "markdown",
   "metadata": {},
   "source": [
    "``` bash\n",
    "git checkout -b optimized-final 6136aa46d1dcb8e96f3d3efc95a897664d54829e\n",
    "time gypsy simulate ../private-data/1000-plots.csv_prepped.csv -o gypsy-output-optimized\n",
    "mv gypsy.log gypsy-output-optimized/\n",
    "```\n",
    "\n",
    "```\n",
    "real\t15m24.689s\n",
    "user\t15m4.180s\n",
    "sys \t0m4.110s\n",
    "```"
   ]
  },
  {
   "cell_type": "markdown",
   "metadata": {},
   "source": [
    "``` bash\n",
    "git checkout -b original-speed c674789da08ead20787fbd974bf8bca07ec30872\n",
    "time gypsy simulate ../private-data/1000-plots.csv_prepped.csv -o gypsy-output-original-speed\n",
    "mv gypsy.log gypsy-output-original-speed/\n",
    "```"
   ]
  },
  {
   "cell_type": "markdown",
   "metadata": {},
   "source": [
    "# Compare Plot Duration Distribution of Original vs Optimized"
   ]
  },
  {
   "cell_type": "code",
   "execution_count": null,
   "metadata": {
    "collapsed": true
   },
   "outputs": [],
   "source": [
    "import re\n",
    "import pandas as pd\n",
    "\n",
    "def build_duration_table(log_filepath):\n",
    "    pattern = '^.*plot (.*) took (.*) seconds$'\n",
    "    rec = re.compile(pattern)\n",
    "    matches = [rec.match(line) for line in open(log_filepath, 'r') if rec.match(line) is not None]\n",
    "    times = [m.group(1,2) for m in matches]\n",
    "    times_df = pd.DataFrame(times, columns=['PlotID', 'duration'])\n",
    "    times_df['PlotID'] = times_df['PlotID'].astype(int)\n",
    "    times_df['duration'] = times_df['duration'].astype(float)\n"
   ]
  },
  {
   "cell_type": "code",
   "execution_count": null,
   "metadata": {
    "collapsed": true
   },
   "outputs": [],
   "source": [
    "times_opt = build_duration_table('gypsy-output-optimized/gypsy.log')\n",
    "times_orig = build_duration_table('gypsy-output-original-speed/gypsy.log')\n",
    "times = times_org.join(times_opt, on='PlotId', lsuffix='original', rsuffix='optimized')"
   ]
  }
 ],
 "metadata": {
  "kernelspec": {
   "display_name": "Python 2",
   "language": "python",
   "name": "python2"
  },
  "language_info": {
   "codemirror_mode": {
    "name": "ipython",
    "version": 2
   },
   "file_extension": ".py",
   "mimetype": "text/x-python",
   "name": "python",
   "nbconvert_exporter": "python",
   "pygments_lexer": "ipython2",
   "version": "2.7.12"
  }
 },
 "nbformat": 4,
 "nbformat_minor": 1
}
