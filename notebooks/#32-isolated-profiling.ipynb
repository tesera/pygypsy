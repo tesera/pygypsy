{
 "cells": [
  {
   "cell_type": "markdown",
   "metadata": {},
   "source": [
    "Initial attemps at profiling had very confusing results; possibly because of module loading and i/o\n",
    "\n",
    "Here, gypsy will be run and profiled on one plot, with no module loading/io recorded in profiling"
   ]
  },
  {
   "cell_type": "markdown",
   "metadata": {},
   "source": [
    "# Run profiling"
   ]
  },
  {
   "cell_type": "code",
   "execution_count": 1,
   "metadata": {
    "collapsed": true
   },
   "outputs": [],
   "source": [
    "import pandas as pd\n",
    "from gypsy.forward_simulation import simulate_forwards_df"
   ]
  },
  {
   "cell_type": "code",
   "execution_count": 3,
   "metadata": {
    "collapsed": false
   },
   "outputs": [],
   "source": [
    "data = pd.read_csv('../private-data/prepped_random_sample_300.csv', index_col=0, nrows=10)"
   ]
  },
  {
   "cell_type": "code",
   "execution_count": null,
   "metadata": {
    "collapsed": true
   },
   "outputs": [],
   "source": [
    "%%prun -D forward-sim.prof -T forward-sim.txt -q\n",
    "result = simulate_forwards_df(data)"
   ]
  },
  {
   "cell_type": "code",
   "execution_count": 1,
   "metadata": {
    "collapsed": false
   },
   "outputs": [
    {
     "name": "stdout",
     "output_type": "stream",
     "text": [
      "head: cannot open ‘forward-sim.txt’ for reading: No such file or directory\r\n"
     ]
    }
   ],
   "source": [
    "!head forward-sim.txt"
   ]
  },
  {
   "cell_type": "markdown",
   "metadata": {},
   "source": [
    "# Visualize performance"
   ]
  },
  {
   "cell_type": "markdown",
   "metadata": {},
   "source": [
    "Now use either of these commands to visualize the profiling\n",
    "\n",
    "```\n",
    "pyprof2calltree -k -i forward-sim.prof forward-sim.txt\n",
    "\n",
    "# or\n",
    "\n",
    "dc run --service-ports snakeviz notebooks/forward-sim.prof\n",
    "```"
   ]
  },
  {
   "cell_type": "markdown",
   "metadata": {},
   "source": [
    "![definitive reference profile screenshot](profile-forwards-sim.png)"
   ]
  },
  {
   "cell_type": "markdown",
   "metadata": {},
   "source": [
    "# Identify areas to optimize\n",
    "\n",
    "- Append operations are slowing down `simulate_forwards_df` and BAFromZeroToDataAw\n",
    "- BAfactorFinder_Aw"
   ]
  },
  {
   "cell_type": "markdown",
   "metadata": {},
   "source": [
    "# Procedure for optimization\n",
    "\n",
    "1. make a new change in code\n",
    "2. make a new notebook `#32-isolated-profiling-n` where n is the iteration of testing/optimization\n",
    "3. re run profiling using `-D forward-sim-n.prof`\n",
    "4. compare results, including a screen shot of profiling in the notebook and a commentary on what changed and what the outcomes were\n",
    "5. if performance has improved, go back to step 1\n",
    "6. if performance did not improve, commit, revert, and go back to step 1\n",
    "\n",
    "continue this for a reasonable length of time or until simulate_forwards_df runs in 25% of the original time ("
   ]
  },
  {
   "cell_type": "markdown",
   "metadata": {},
   "source": [
    "# Identify some means of optimization\n",
    "\n",
    "- **do not ignore index in append operations**\n",
    "- use cpython for factor finder / zero to data functions\n",
    "- cache numeric functions\n",
    "- ???"
   ]
  },
  {
   "cell_type": "code",
   "execution_count": null,
   "metadata": {
    "collapsed": true
   },
   "outputs": [],
   "source": []
  }
 ],
 "metadata": {
  "kernelspec": {
   "display_name": "Python 2",
   "language": "python",
   "name": "python2"
  },
  "language_info": {
   "codemirror_mode": {
    "name": "ipython",
    "version": 2
   },
   "file_extension": ".py",
   "mimetype": "text/x-python",
   "name": "python",
   "nbconvert_exporter": "python",
   "pygments_lexer": "ipython2",
   "version": "2.7.12"
  }
 },
 "nbformat": 4,
 "nbformat_minor": 1
}
